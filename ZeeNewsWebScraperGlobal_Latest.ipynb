{
 "cells": [
  {
   "cell_type": "markdown",
   "metadata": {},
   "source": [
    "# Zee News Website Scraping\n"
   ]
  },
  {
   "cell_type": "markdown",
   "metadata": {},
   "source": [
    "This algorithm uses Beautiful Soup to scrape news from Zee News Website (20 at a time) and stores it in a csv file.\n",
    "This csv file acts as a dataset used to determine whether the posted news is fake or real. "
   ]
  },
  {
   "cell_type": "markdown",
   "metadata": {},
   "source": [
    "## Importing Libraries"
   ]
  },
  {
   "cell_type": "code",
   "execution_count": 1,
   "metadata": {},
   "outputs": [
    {
     "name": "stderr",
     "output_type": "stream",
     "text": [
      "[nltk_data] Downloading package brown to\n",
      "[nltk_data]     C:\\Users\\Sakshi\\AppData\\Roaming\\nltk_data...\n",
      "[nltk_data]   Package brown is already up-to-date!\n",
      "[nltk_data] Downloading package punkt to\n",
      "[nltk_data]     C:\\Users\\Sakshi\\AppData\\Roaming\\nltk_data...\n",
      "[nltk_data]   Package punkt is already up-to-date!\n",
      "[nltk_data] Downloading package averaged_perceptron_tagger to\n",
      "[nltk_data]     C:\\Users\\Sakshi\\AppData\\Roaming\\nltk_data...\n",
      "[nltk_data]   Package averaged_perceptron_tagger is already up-to-\n",
      "[nltk_data]       date!\n"
     ]
    }
   ],
   "source": [
    "import requests\n",
    "from bs4 import BeautifulSoup\n",
    "import datetime\n",
    "import csv\n",
    "import  pandas as pd\n",
    "import glob\n",
    "import os\n",
    "from textblob import TextBlob\n",
    "import nltk\n",
    "nltk.download('brown')\n",
    "nltk.download('punkt')\n",
    "nltk.download('averaged_perceptron_tagger')\n",
    "from pytesseract import *\n",
    "#Paste your path to tesseract.exe below\n",
    "pytesseract.tesseract_cmd= r'C:\\Users\\Sakshi\\AppData\\Local\\Tesseract-OCR\\tesseract.exe'\n",
    "from PIL import Image\n",
    "import re\n",
    "from sklearn.feature_extraction.text import CountVectorizer, TfidfVectorizer\n",
    "from sklearn.feature_extraction.text import TfidfVectorizer\n",
    "from sklearn.metrics.pairwise import cosine_similarity\n",
    "from nltk.tokenize import sent_tokenize\n",
    "import io"
   ]
  },
  {
   "cell_type": "markdown",
   "metadata": {},
   "source": [
    "## Initializing Variables"
   ]
  },
  {
   "cell_type": "code",
   "execution_count": 2,
   "metadata": {},
   "outputs": [],
   "source": [
    "archive_page_url = \"https://zeenews.india.com/archives/index.html\"\n",
    "initial_news_url = \"https://zeenews.india.com/regional/prithviraj-sukumarans-viral-pic-with-the-birthday-boy-and-best-burger-chef-dulquer-salmaan-2298855.html\""
   ]
  },
  {
   "cell_type": "code",
   "execution_count": 3,
   "metadata": {},
   "outputs": [],
   "source": [
    "news_list = []\n",
    "news_url_list = []\n",
    "page_url = []"
   ]
  },
  {
   "cell_type": "markdown",
   "metadata": {},
   "source": [
    "## Creating a Folder"
   ]
  },
  {
   "cell_type": "code",
   "execution_count": 4,
   "metadata": {},
   "outputs": [
    {
     "name": "stdout",
     "output_type": "stream",
     "text": [
      "Directory Exists\n"
     ]
    }
   ],
   "source": [
    "if os.path.exists('Data'):\n",
    "    print('Directory Exists')\n",
    "else:\n",
    "    os.mkdir('Data')"
   ]
  },
  {
   "cell_type": "markdown",
   "metadata": {},
   "source": [
    "## BS4 Page Fetcher"
   ]
  },
  {
   "cell_type": "code",
   "execution_count": 5,
   "metadata": {},
   "outputs": [],
   "source": [
    "def getandparseurl(url):\n",
    "    from urllib.request import Request, urlopen\n",
    "    \n",
    "    req = Request(url, headers={'User-Agent': 'Mozilla/5.0'})\n",
    "    webpage = urlopen(req).read()\n",
    "    soup = BeautifulSoup(webpage, 'html.parser')\n",
    "    return(soup)"
   ]
  },
  {
   "cell_type": "markdown",
   "metadata": {},
   "source": [
    "## Main News Text Extractor"
   ]
  },
  {
   "cell_type": "code",
   "execution_count": 6,
   "metadata": {
    "scrolled": false
   },
   "outputs": [],
   "source": [
    "def getmainnews(main_url):\n",
    "    soup = getandparseurl(main_url)\n",
    "    result = requests.get(main_url)\n",
    "    status_code = str(result.status_code)\n",
    "    #print(status_code)\n",
    "    #print(type(soup))\n",
    "\n",
    "    news = soup.find('div', class_=\"article\").text\n",
    "    news = news.replace('\\n', ' ')\n",
    "    \n",
    "    #print(news)\n",
    "    \n",
    "    return news"
   ]
  },
  {
   "cell_type": "markdown",
   "metadata": {},
   "source": [
    "## Extracts URLs of all news on a given page from latest news"
   ]
  },
  {
   "cell_type": "code",
   "execution_count": 7,
   "metadata": {},
   "outputs": [],
   "source": [
    "def getmainnewsfromlatest(current_page_url):\n",
    "    soup = getandparseurl(current_page_url)\n",
    "    soup = soup.find(\"div\", class_=\"content\")\n",
    "    soup = soup.find(\"div\", class_=\"view-content\")\n",
    "    \n",
    "    a_tags = soup.findAll(\"a\")\n",
    "    \n",
    "    all_news_urls = []\n",
    "    \n",
    "    for string in a_tags:\n",
    "        if \"http://zeenews.india.com\" in string:\n",
    "            continue\n",
    "        else:\n",
    "            a_tags.remove(string)\n",
    "    \n",
    "    for i in range(0, len(a_tags)):\n",
    "        all_news_urls.append(a_tags[i].get('href'))\n",
    "    \n",
    "    '''number = 1\n",
    "    for link in all_news_urls:\n",
    "        print(number, link)\n",
    "        number += 1'''\n",
    "    \n",
    "    return all_news_urls"
   ]
  },
  {
   "cell_type": "markdown",
   "metadata": {},
   "source": [
    "## Fetches next news archive page from a given page URL"
   ]
  },
  {
   "cell_type": "code",
   "execution_count": 8,
   "metadata": {},
   "outputs": [],
   "source": [
    "def getnextpageurl(current_page_url):\n",
    "    soup = getandparseurl(current_page_url)\n",
    "    soup = soup.find(\"div\", class_=\"content\")\n",
    "    soup = soup.find(\"div\", class_=\"text-center\")\n",
    "    next_page_url = \"http://zeenews.india.com\" + str(soup.find(\"li\", class_=\"next last\").a.get('href'))\n",
    "    \n",
    "    return next_page_url"
   ]
  },
  {
   "cell_type": "markdown",
   "metadata": {},
   "source": [
    "## Extracts and returns date of a given news URL in string format"
   ]
  },
  {
   "cell_type": "code",
   "execution_count": 9,
   "metadata": {},
   "outputs": [],
   "source": [
    "def getnewsdate(current_page_url):\n",
    "    months = ['Jan', 'Feb', 'Mar', 'Apr', 'May', 'Jun', 'Jul', 'Aug', 'Sep', 'Oct', 'Nov', 'Dec']\n",
    "    soup = getandparseurl(current_page_url)\n",
    "    soup = soup.find(\"div\", class_=\"article-left-col sidebar flat\").aside\n",
    "    soup = soup.findAll(\"div\", class_=\"write-block margin-bt20px\")\n",
    "    for div in soup:\n",
    "        if any(month in str(div) for month in months) and 'IST' in str(div):\n",
    "            soup = str(div)\n",
    "            break\n",
    "    soup = soup[39:51]\n",
    "    soup = str(soup).split(' ')\n",
    "    \n",
    "    for month in months:\n",
    "        if soup[0].casefold() == month.casefold():\n",
    "            mm = str(months.index(month) + 1)\n",
    "            mm = \"{0:0=2d}\".format(int(mm))\n",
    "            break\n",
    "    dd = soup[1][0:2]\n",
    "    yyyy = soup[2]\n",
    "    date = dd +'-' + mm + '-' + yyyy\n",
    "    \n",
    "    return date"
   ]
  },
  {
   "cell_type": "markdown",
   "metadata": {},
   "source": [
    "## News Title Extractor"
   ]
  },
  {
   "cell_type": "code",
   "execution_count": 10,
   "metadata": {},
   "outputs": [],
   "source": [
    "def getnewstitle(current_page_url):\n",
    "    soup = getandparseurl(current_page_url)\n",
    "    title = soup.find(\"div\", class_=\"article-head-block margin-bt20px\").h1.text\n",
    "    \n",
    "    return(title)"
   ]
  },
  {
   "cell_type": "markdown",
   "metadata": {},
   "source": [
    "## Extracting Keywords from Data"
   ]
  },
  {
   "cell_type": "code",
   "execution_count": 11,
   "metadata": {},
   "outputs": [],
   "source": [
    "def clean_text(keyword):\n",
    "    temp = []\n",
    "    keyword = re.sub('[^a-zA-Z]',' ',keyword)\n",
    "    ss=nltk.tokenize.sent_tokenize(keyword)\n",
    "    tokenized_sent=[nltk.word_tokenize(sent) for sent in ss]\n",
    "    pos_sentences=[nltk.pos_tag(sent) for sent in tokenized_sent]\n",
    "    for i in pos_sentences:\n",
    "        print(i)\n",
    "        for j in i:\n",
    "            print(j[1])\n",
    "            if j[1] == 'NNP'or j[1] == 'NNS':\n",
    "                temp.append(j[0])\n",
    "    return temp\n"
   ]
  },
  {
   "cell_type": "markdown",
   "metadata": {},
   "source": [
    "## Similarity check function"
   ]
  },
  {
   "cell_type": "code",
   "execution_count": 12,
   "metadata": {},
   "outputs": [],
   "source": [
    "def news_processing(sentence):\n",
    "        sentence_1 = sentence\n",
    "        text = str(\"{0:0=2d}\".format(datetime.datetime.now().day)) + '-' + str(\"{0:0=2d}\".format(datetime.datetime.now().month)) + '-' + str(datetime.datetime.now().year)\n",
    "        file = text +'.csv'\n",
    "        data = os.path.join(r'C:\\Data', text, 'data',file)\n",
    "        data=pd.read_csv(data,  encoding='cp1252')\n",
    "        data_1= data[\"NEWS\"]\n",
    "        data_2 = data['NEWS URL']\n",
    "        super_1 = []\n",
    "        super_2 = []\n",
    "        super_3 = []\n",
    "        focus_sentence = sentence_1\n",
    "        focus_sentence = \" \".join(re.findall(\"[a-zA-Z]+\", focus_sentence)) \n",
    "        res = []\n",
    "        sent_list = []\n",
    "        urls = []\n",
    "        for row,url in zip(data_1,data_2):\n",
    "            sent=sent_tokenize(row)\n",
    "            for sentence in sent:\n",
    "                sentence = \" \".join(re.findall(\"[a-zA-Z]+\", sentence)) \n",
    "                corpus = [focus_sentence , sentence]\n",
    "                vectorizer = TfidfVectorizer()\n",
    "                trsfm=vectorizer.fit_transform(corpus)\n",
    "                result = cosine_similarity(trsfm)[0][1]\n",
    "                res.append(result.tolist())\n",
    "                sent_list.append(sentence)\n",
    "                urls.append(url)\n",
    "        print('XXXXXXXXXXXXXXXXXXXXXXXXXXXXXXXXXXXXXXXXXXXXXXXXXXXXXXXXXXXX')\n",
    "        final = res.index(max(res))\n",
    "        final_sentence = sent_list[final]\n",
    "        final_url = urls[final]\n",
    "        super_1.append(final)\n",
    "        super_2.append(final_sentence)\n",
    "        super_3.append(final_url)\n",
    "        print(final_sentence, max(res))\n",
    "        final = super_1.index(max(super_1))\n",
    "        final_sentence = super_2[final]\n",
    "        urls = super_3[final]\n",
    "\n",
    "\n",
    "        return ('Input News: ',sentence_1, 'Similar News', final_sentence,'Similarity Score: ', max(res),urls)"
   ]
  },
  {
   "cell_type": "markdown",
   "metadata": {},
   "source": [
    "## Main function that calls all task specific functions in order"
   ]
  },
  {
   "cell_type": "code",
   "execution_count": 13,
   "metadata": {},
   "outputs": [],
   "source": [
    "def web_scraper(scrape_news_count):\n",
    "    current_page_url = archive_page_url\n",
    "    while current_page_url != \"http://zeenews.india.com/archives/index.html?page=19\" and len(news_url_list) <scrape_news_count:\n",
    "        news_url_list.extend(getmainnewsfromlatest(current_page_url))\n",
    "        current_page_url = getnextpageurl(current_page_url)\n",
    "    if current_page_url == \"http://zeenews.india.com/archives/index.html?page=19\" and len(news_url_list) <scrape_news_count:\n",
    "        news_url_list.extend(getmainnewsfromlatest(current_page_url))\n",
    "    \n",
    "    del news_url_list[scrape_news_count:]\n",
    "    \n",
    "    keyword_filtered_list = [['NEWS URL', 'NEWS TITLE', 'NEWS DATE', 'NEWS']]\n",
    "    \n",
    "    print(len(news_url_list), \"News Extracted in Total.\\n\")\n",
    "    \n",
    "    for url in news_url_list:\n",
    "        sub_arr = []\n",
    "\n",
    "        sub_arr.append(url)\n",
    "        sub_arr.append(getnewstitle(url))\n",
    "        sub_arr.append(getnewsdate(url))\n",
    "        sub_arr.append(getmainnews(url))\n",
    "        keyword_filtered_list.append(sub_arr)\n",
    "        \n",
    "    print('\\n')\n",
    "    \n",
    "    #######################################Making folders and exporting data to csv and excel################################\n",
    "    \n",
    "    path = r'C:\\Data'\n",
    "    \n",
    "    path_sentence = str(\"{0:0=2d}\".format(datetime.datetime.now().day)) + '-' + str(\"{0:0=2d}\".format(datetime.datetime.now().month)) + '-' + str(datetime.datetime.now().year)\n",
    "    path = os.path.join(path, path_sentence)\n",
    "    print(path)\n",
    "    if os.path.exists(path):\n",
    "        print('Directory Exists')\n",
    "    else:\n",
    "        os.mkdir(path)\n",
    "        \n",
    "    data = path + '\\data'\n",
    "    if os.path.exists(data):\n",
    "            print('Directory Exists')\n",
    "    else:\n",
    "        os.mkdir(data)\n",
    "    \n",
    "    os.chdir(data)\n",
    "    \n",
    "    csv_name = path_sentence + '.csv'\n",
    "    with open(csv_name, 'w', errors='ignore') as file:\n",
    "        writer = csv.writer(file)\n",
    "        for i in range(0, len(keyword_filtered_list)):\n",
    "            writer.writerow(keyword_filtered_list[i])\n",
    "            \n",
    "    \n",
    "    read_csv = pd.read_csv(csv_name, encoding='cp1252')\n",
    "    xlsx_name = path_sentence + '.xlsx'\n",
    "    read_csv.to_excel(xlsx_name, index=None, header=True)\n",
    "    file.close()\n",
    "    \n",
    "    return keyword_filtered_list"
   ]
  },
  {
   "cell_type": "markdown",
   "metadata": {},
   "source": [
    "## Testing the Code"
   ]
  },
  {
   "cell_type": "markdown",
   "metadata": {},
   "source": [
    "Pass any news or keyword that you want to scrape from Zee News website and the number of days you want to scrape from in the function given below "
   ]
  },
  {
   "cell_type": "code",
   "execution_count": 14,
   "metadata": {
    "scrolled": true
   },
   "outputs": [
    {
     "name": "stdout",
     "output_type": "stream",
     "text": [
      "20 News Extracted in Total.\n",
      "\n",
      "\n",
      "\n",
      "C:\\Data\\17-10-2020\n",
      "\n",
      "\n",
      "['NEWS URL', 'NEWS TITLE', 'NEWS DATE', 'NEWS'] \n",
      "\n",
      "['http://zeenews.india.com/india/indian-railways-reviews-security-crowd-management-enforcement-of-covid-19-protocol-as-footfalls-increase-ahead-of-festive-season-2318104.html', 'Indian Railways reviews security, crowd management, enforcement of COVID-19 protocol as footfalls increase ahead of festive season', '17-10-2020', ' New Delhi: The Indian Railways has reviewed its security, crowd management and enforcement of COVID-19 protocol, as footfalls have started increasing ahead of the festive season. \"The railway stations and trains will witness a manifold increase in footfall during the upcoming festive season and to face the challenges posed by increased footfall effectively, especially during the COVID-19 outbreak, Chairman-cum-CEO/Railway Board, Member (Operations and Business Development) and DG/RPF interacted with officers of the field formation at zonal and divisional levels through a video conference,\"\\xa0said the Ministry of Railways. According to them, the field formations were asked to launch an intensive awareness campaign among the travelling passengers regarding the guidelines issued by Railway administration to prevent the spread of coronavirus in railway stations and trains. They were also asked to strictly enforce the COVID protocol. \"Since the footfall in stations and trains is slated to increase during the festival season, the need was felt to launch a focused initiative across all zones for the safety and security of women passengers,\" said the Ministry of Railways. \"To provide better safety and security to lady passengers travelling by trains, a new initiative \\'Meri Saheli\\' was launched.\\xa0 This initiative is aimed to instil a sense of security among the lady passengers and respond effectively to any security-related issue faced or seen by lady passengers,\" they added. The Indian Railways said it was felt that offenders involved in human trafficking may try to indulge in the trafficking of women and children taking advantage of the festive season rush as they are most vulnerable to this crime.\\xa0 \"Action plan to curb the menace of human trafficking during the upcoming festive season was discussed. It was decided that a sustained and concerted drive will be launched to identify and apprehend the traffickers,\" they stated. As per reports, field formations have been directed to continue their drive against touts cornering reserved railway tickets and selling it to needy passengers at a premium. \\xa0 Also read | Indian Railways provided these facilities to passengers amid COVID-19 situation: Details here \\xa0 Recently, the Railway Protection Force had issued COVID-19 guidelines for travellers ahead of the festive season.\\xa0\\xa0 According to the Railways, the general public is counselled to desist from the following acts or omission while being in railway stations, trains or other railway areas: 1) Not wearing a mask or wearing a mask improperly. 2) Not maintaining social distancing. 3) Coming to the railway area or station or boarding a train after having declared COVID positive. 4) Coming to railway area or station or boarding a train after giving samples for testing of coronavirus and awaiting result. 5) Boarding a train after having been denied to undertake travel by the health check-up team at the railway station. 6) Spitting or wilful ejection of body fluid/waste in the public area. 7) Activities which may create unclean or unhygienic conditions or affect public health and safety in railway stations and trains. 8) Not adhering to any of the guidelines issued by Railway administration for prevention of the spread of COVID-19. 9) Any other act or omission likely to aid in the spread of coronavirus. Earlier on October 13, the Indian Railways announced that it will operate 392 festival special trains between October 20 and November 30 in view of the upcoming festive season.\\xa0 The special trains will be operated for destinations such as Kolkata, Patna, Varanasi, Lucknow among others to cater to the growing demand in the ensuing holiday period of Durga Puja, Dussehra, Diwali and Chhatt puja. So far, the railways has pressed into service more than 300 mail/express trains which are now running regularly across the country. Live TV '] \n",
      "\n",
      "['http://zeenews.india.com/people/rape-case-filed-against-mithun-chakrabortys-son-mahaakshay-victim-alleges-cheating-2318102.html', \"Rape case filed against Mithun Chakraborty's son Mahaakshay, victim alleges cheating \", '17-10-2020', ' Mumbai: Mumbai Police have registered a case against veteran actor Mithun Chakraborty\\'s son Mahaakshay and the former\\'s wife Yogita Bali on a complaint of rape and cheating filed by a woman, an official said on Saturday. The case was registered at Oshiwara police station on Thursday night based on the complaint lodged by the 38-year- old woman, he said. \"The complainant said she was in a relationship with Mahaakshay Chakraborty from 2015 to 2018 and during that period he had promised to marry her,\" the official said. \"The woman said that during their relationship, she had gone to see Mahaakshay\\'sflat at Adarsh Nagar in Andheri West, which he had purchased in 2015. She said when she went there, the accused offered her a spiked soft drink and forced her to have physical relations with him,\" he added. \"The woman alleged that when she became pregnant, Mahaakshay asked her to abort the baby and gave her pills,\" he said. \"The woman said she used to ask Mahaakshay about their marriage. But in January 2018, he told her that he cannot marry her, which led to an altercation between them. She said when she called him, his mother Yogita Bali threatened her,\" the official said. The complainant later went to Delhi with her brother to stay with their family friend. There, she lodged a complaint against Mahaakshay and his mother Yogita Bali at Begumpur police station in June 2018, he added. The police had registered an offence under section 376 (rape), 313 (causing miscarriage without woman\\'s consent) and others, and the probe was transferred to the crime branch there. A Delhi court later granted anticipatory bail to Mahaakshay and his mother in the case. In March 2020, the Delhi High Court had asked the woman to file her complaint in the court, where the offence had taken place. Following that, she filed a complaint at Oshiwara police station in July this year, the official said. \"Accordingly, an offence under IPC sections 376 (rape), 376 (2) (n) (repeated rape), 328 (causing hurt by means of poison), 417 (cheating), 506 (criminal intimidation) and 34 (common intention) has been registered against the accused,\" he said, adding that a probe is on. Mahaakshay has featured in a few films like \"Haunted 3D\" and \"Loot\".\\xa0 \\xa0  '] \n",
      "\n",
      "['http://zeenews.india.com/punjab/shaurya-chakra-awardee-shot-dead-in-punjabs-taran-taran-family-refuses-to-conduct-his-last-rites-until-killers-are-arrested-2318098.html', \" Shaurya Chakra awardee shot dead in Punjab's Taran Taran, family refuses to conduct his last rites until killers are arrested\", '17-10-2020', ' Amritsar: Balwinder Singh Sandhu, a Shaurya Chakra awardee, was shot dead by two unknown assailants in Punjab\\'s Tarn Taran district on Friday evening. His family members on Saturday refused to cremate the body unless the accused are arrested. The 62-year-old Sandhu who fought terrorism in Punjab was shot dead in the district on Friday, months after the government withdrew his security cover.\\xa0 The motorcycle-borne men pumped four bullets into him when he was at his office adjoining his home at Bhikhiwind. Sandhu\\'s wife Jagdish Kaur Sandhu, told reporters, \"The family would not cremate him unless the killers are arrested.\" She also demanded security cover for her family. \"All the family members - I, my late husband, his brother Ranjit Singh Sandhu and his wife Balraj Kaur Sandhu - are Shaurya Chakra awardees and this award was given by the Centre for our fight against militancy.\" If we had security then this would not have happened, as killers would have feared retaliation. We had sent several emails, written applications and also met officials, but we didn\\'t get any security: Pranpreet Kaur, daughter of Balwinder Singh who was shot dead at his house https://t.co/VoNH9zG49y pic.twitter.com/0by0ybtwlO — ANI (@ANI) October 17, 2020 \"Both the state and Central governments are accountable for the intelligence failure that resulted in the killing of my husband at the hands of terrorists,\" Sandhu\\'s wife said. She also said if the state government failed to provide security to the family, then it was the responsibility of the Centre to do the needful. Sandhu had fought against terrorism in the state for years, facing scores of terror attacks during the height of Khalistani militancy. His security cover was withdrawn by the state government a year ago on the recommendation of Tarn Taran police, his brother Ranjit had said, adding their entire family had remained on the hit list of terrorists. Sandhu\\'s wife Jagdish Kaur had on Friday said it was the \"handiwork of terrorists\", maintaining that their family did not have any personal enmity with anyone. Punjab Chief Minister Amarinder Singh had condoled Sandhu\\'s death and set up a special investigation team headed by Ferozpur Deputy Inspector General of Police to probe the killing. The chief minister said the SIT will probe the killing, taking all possibilities into account. The guilty will not be spared, he had said. The Tarn Taran braveheart had featured in some documentaries. Inspired by Sandhu and his family, many people followed him and defended themselves from terror attacks. He was awarded Shaurya Chakra in 1993.\\xa0 Live TV '] \n",
      "\n",
      "['http://zeenews.india.com/hollywood/weekend-binge-list-of-hollywood-movies-based-on-outer-space-and-universe-2318097.html', 'Weekend binge: List of Hollywood movies based on outer space and universe', '17-10-2020', ' New Delhi: Are you the types who are interested in reading and watching stuff related to the mysterious of the universe and outer space? Then, we bring to you a listicle on classic Hollywood projects on outer space which are streamed on Disney+ Hotstar Premium. Take a look: The Right Stuff Watch the story of Project Mercury 7 astronauts and their extraordinary achievements in the first-ever trip to space by mankind - an unimaginable journey, 7 different flights, and a mission every man dreamed of.\\xa0 Apollo 8: The mission that changed the world Apollo 8 astronaut, Bill Anders sheds light on the incredible story of Apollo 8 and the environmental campaign that followed.\\xa0 The Armstrong Tapes This will surely leave you intrigued. Neil Armstrong’s interviews give an insight into the mystery of the universe. He remains a towering figure for all the outer-space enthusiasts.\\xa0 Space Shuttle: Triumph and Tragedy\\xa0 This is a documentary in two parts, telling the inside story of NASA’s iconic spaceships. A story of the invention of the space shuttle and some of the greatest missions that followed. However, it will take you back to the tragedies of our very own Kalpana Chawla and her team and what eventually led to the creation of the International Space Station. A tribute to the visionary late Kalpana Chawla who is an icon for space enthusiasts back home. A year in Space\\xa0 The film tells the story of what it takes to spend a year in space and has led NASA to understand what it means for humanity as we journey to Mars.\\xa0 \\xa0 \\xa0  '] \n",
      "\n",
      "['http://zeenews.india.com/cricket/kevin-pietersen-leaves-ipl-2020-to-be-with-kids-picks-mumbai-indians-royal-challengers-bangalore-and-delhi-capitals-as-favourites-2318090.html', 'Kevin Pietersen leaves IPL 2020 to be with kids; picks Mumbai Indians, Royal Challengers Bangalore and Delhi Capitals as favourites', '17-10-2020', ' Former England batsman Kevin Pietersen, who was on the commentary panel at the Indian Premier League here, left the UAE for home to spend time with his children. Forty-year-old Pietersen, who represented England in 104 Test matches and also played in the IPL for RCB, said he ended his commentary stint at the lucrative league because he wanted to spend time with kids. \"I left the IPL as it\\'s half-term for my kids and I want to be at home with them. It\\'s been a strange year, so now they\\'re off school, I want to be with them all day, everyday,\" tweeted Pietersen. Pietersen also put his views on the IPL 2020 competition on a blog after announcing his departure. He said he was happy to see bowlers catching up. \"Yes, it\\'s been spectacular to watch the guys hit the ball as far as they can -- which, by the way, is consistently out of the stadium. But it\\'s great to see that the bowlers are starting to catch up,\" wrote Pietersen on blog.betway.com. The former England skipper also wrote that IPL 2020 is going to be a three-way contest with Royal Challengers Bangalore (RCB), Delhi Capitals and Mumbai Indians being the main contenders. Pietersen had on Thursday night criticised RCB skipper Virat Kohli\\'s decision to send AB de Villiers at No. 6 against Kings XI Punjab despite the South African having played a 33-ball 73-run knock batting at No. 4 against Kolkata Knight Riders in the previous game on Monday. \\xa0  '] \n",
      "\n",
      "['http://zeenews.india.com/bollywood/my-special-thanks-to-akshay-kumar-for-accepting-and-playing-this-role-laxmmi-bomb-director-raghava-lawrence-2318088.html', 'My special thanks to Akshay Kumar for accepting and playing this role: Laxmmi Bomb director Raghava Lawrence', '17-10-2020', \" New Delhi: Bollywood superstar Akshay Kumar and Kiara Advani will be next seen in 'Laxmmi Bomb', a film by Raghava Lawrence. In an exclusive conversation with Zee News, talking about his upcoming entertainer, the director opened up on a lot more interesting stuff.\\xa0 Q. Why did you choose to change the title for the Hindi remake of your Tamil film ‘Kanchana’? A. Our Tamil film was named after the main lead character Kanchana. Kanchana means ‘gold’ which is a form of Lakshmi. Earlier I considered going the same way for the Hindi remake but we collectively decided that the name must appeal to the Hindi audience as well and what better than Laxmmi. By god’s grace, it was turning out to be a cracker of a film, so we named it Laxmmi Bomb. Like a dhamaka of Laxmmi Bomb cannot be missed, the transgender lead character is powerful and radiant. Hence the name fits perfectly. Q. The trailer looks fun with an ensemble cast. Tell us about your thoughts on the story and the different characters in the film A. “The story was created to give the audience a mix of horror and comedy experience and also for the first time I tried to involve an important social message about transgenders into the horror-comedy genre. The characters are created in such a way that the audience can enjoy a different variation of characters on the screen.” Q. What made you choose a story that emphasises on the transgender community? A. I run a trust and few transgender’s approached my trust for help. When I heard their story, I felt like I wanted to tell their story to everyone through the character called Laxmi in this movie. After watching the film audiences will know what I am talking about. Q. This is the first time that a mainstream Bollywood actor is playing a transgender character, what are your thoughts on this? A. After Kanchana released in Tamil, the movie received huge appreciation from transgenders. They directly came to my home and blessed me. So, in Hindi when Akshay sir is playing the role, I believe that the message will reach an even wider audience. My special thanks to Akshay sir for accepting and playing this role.” Laxmmi Bomb stars Akshay and Kiara Advani in lead roles. It has been directed by Raghava Lawrence and is set to premiere this Diwali, on November 9, 2020. Disney+ Hotstar presents Laxmmi Bomb, produced by A Cape of Good Films, Tusshar Entertainment House and Shabinaa Entertainment. \\xa0  \"] \n",
      "\n",
      "['http://zeenews.india.com/karnataka/centres-high-level-teams-arrive-in-kerala-karnataka-rajasthan-chhattisgarh-west-bengal-to-check-surge-in-covid-19-cases-2318086.html', \"Centre's high-level teams arrive in Kerala, Karnataka, Rajasthan, Chhattisgarh, West Bengal to check surge in COVID-19 cases\", '17-10-2020', \" New Delhi: The Ministry of Health and Family Welfare has deputed high-level Central teams to Kerala, Karnataka, Rajasthan, Chhattisgarh and West Bengal amid the rising number of new COVID-19 cases in the recent days in these states. Each team comprises of a Jt Secretary (nodal officer for the respective State), one public health expert to look after the public health aspects, one clinician to look after infection prevention practices, clinical management protocol being followed by the State. The teams will support the State efforts towards strengthening coronavirus containment, surveillance, testing, infection prevention and control measures, and efficient clinical management of the positive cases. The Central teams shall also guide in effectively managing the challenges related to timely diagnosis and follow up. The total cases in Kerala are 3,17,929 which form 4.3% of the total cases of India. The cases per Million stand at 8,906. The total number of recovered cases is 2,22,231 and the active cases are 94,609 (comprising 11.8% of the total national figure). Total deaths in the State are 1,089 with Case Fatality Rate of\\xa0 0.34% and Deaths Per Million of 31. The TPM of Kerala stands at 53,518 and positivity rate is 16.6%. As per the Union Health Ministry's data on Saturday (October 17, 2020), Karnataka has a total of 1,12,446 active cases. 6,28,588 patients have recovered in the State and it has also reported a total of 10,356 fatalities. Rajasthan, on the other hand, has\\xa021,381\\xa0active COVID-19 cases and 1,46,185 total number of recoveries. It has also witnessed a total of\\xa01,723 coronavirus related deaths. West Bengal has 32,500 active cases, while 2,74,757 have recovered to date. The State has also reported 5,931 casualties. Chhattisgarh has 27,693 active cases and 1,26,869 coronavirus recoveries. There have been 1,425 deaths in the State. Live TV \"] \n",
      "\n",
      "['http://zeenews.india.com/india/chirag-paswan-claims-to-be-modis-hanuman-says-will-tear-open-my-chest-as-bjp-hits-out-2318084.html', \"LJP's Chirag Paswan claims to be PM Narendra Modi's Hanuman, says 'will tear open my chest' as BJP hits out\", '17-10-2020', ' PATNA: LJP chief Chirag Paswan, who has been lately facing backlash from BJP for his criticism to Bihar Chief Minister Nitish Kumar, on Saturday (October 17) praised Prime Minister Narendra Modi and said his goal remains to establish a government with BJP in the state.\\xa0 The LJP chief, who has been warned off by the BJP against using Prime Minister Narendra Modi\\'s photo for campaigning during Bihar assembly election 2020 stated that he does not need to carry his photos as the \\'Prime Minister stays in his heart.\\' \"The prime minister lives in my heart. I am like his Hanuman. If they (his critics) want, they can prise open my heart and see that. I don\\'t need to use the prime minister\\'s photograph,\" Paswan said. Paswan\\'s statement came on a day when he was excoriated by Union Minister Prakash Javadekar, who called the LJP leader a \"vote Katua\" (splitter of votes) and accused him of trying to create confusion by harping on his equations with senior leaders of the saffron party. Paswan, who led his party out of the NDA in Bihar and is contesting alone, was recently warned by senior BJP leaders, including former Maharashtra chief minister Devendra Fadnavis and Bihar Deputy Chief Minister Sushil Kumar Modi, of legal action if his party were to use the prime minister\\'s photograph for election campaign. \"CM Nitish needs PM Modi\\'s photograph more, he needs to share the dais with the prime minister as he had consistently opposed him on the issue of Article 370, instant triple talaq, CAA and NRC. One thing I make clear today that I was, I am and will be with the BJP in future too. It\\'s my resolve to form a BJP-LJP government in Bihar after November 10, the day the election results are announced,\" he said, with his father and LJP founder Ram Vilas Paswan\\'s photograph forming the background. Yadav accused Paswan of practising \"politics of lies\", saying he had been praising the Bihar government in February this year. \"Chirag should not either live in illusion or nurse any illusion or spread illusion,\" Yadav tweeted. The 37-year-old leader and son of LJP founder Ram Vilas Paswan has constantly targeted Nitish Kumar-led JD(U) ahead of the polls. LJP opted out of alliance with NDA in Bihar and announced to field its candidates on seats contested by Nitish Kumar\\'s JD(U).\\xa0 Bihar Assembly polls would be held in three phases - October 28, November 3 and November 7, and vote counting will be on November 10. Live TV '] \n",
      "\n",
      "['http://zeenews.india.com/football/kylian-mbappe-strikes-twice-as-psg-beat-10-man-nimes-to-top-ligue-1-2318083.html', 'Kylian Mbappe strikes twice as PSG beat 10-man Nimes to top Ligue 1', '17-10-2020', ' Paris St Germain left it late to wrap up a 4-0 win at 10-man Nimes with Kylian Mbappe scoring twice as the French champions moved top of the Ligue 1 standings on Friday ahead of their Champions League opener against Manchester United. Mbappe opened the scoring before the break and joined Alessandro Florenzi and Pablo Sarabia in netting inside the final 12 minutes to put PSG on 15 points from seven games, four days before hosting United at the Parc des Princes. They lead Stade Rennes on goal difference after the Brittany side were held to a 1-1 draw at bottom club Dijon. Nimes, who are 13th on eight points, were reduced to 10 men after 12 minutes when Loick Landre was red carded. PSG lost Leandro Paredes, who was replaced by Ander Herrera, to a thigh injury before Landre was sent off for a dangerous challenge on Rafinha. Mbappe broke the deadlock on 32 minutes, going around keeper Baptiste Reynet before pushing the ball into the empty goal. PSG, however, lacked Neymar`s creative touch as he was rested for the trip south after returning from international duty for Brazil. But Nimes had to little to offer and PSG, despite being without the suspended Marquinhos and Angel Di Maria and the injured Marco Verratti and Juan Bernat, eventually made their superiority count. Italy international Florenzi, on loan from AS Roma, doubled the tally on 78 minutes with a header before Mbappe struck again five minutes later after being set up by Sarabia. The Spaniard rounded it off with two minutes left just after Italy international Moise Kean, on loan from Everton, hit the bar with a header on his PSG debut.  '] \n",
      "\n",
      "['http://zeenews.india.com/television/eijaz-khan-wins-task-inside-bigg-boss-14-after-getting-age-shamed-2318082.html', \"Eijaz Khan wins task inside 'Bigg Boss 14' after getting age-shamed\", '17-10-2020', ' New Delhi: Amidst all the fights, drama and entertainment on Bigg Boss 14, actor Eijaz Khan has proven why age is just a number. Recently, the fresher inmates were given a task by Bigg Boss to earn their personal belongings. Earlier, Jaan Kumar Sanu body-shamed Eijaz, saying that he looks like a skeleton.\\xa0 And during the task, Rahul Vaidya age-shamed him. But Eijaz kept his cool, maintained sportsmanship and went on to win the task, proving that actions speak louder than words. While some of his co-contestants behaved immaturely, the seasoned actor’s sincerity and calm demeanour spoke volumes about his persona and proved why he’s come such a long way in the industry. In the task, the contestants had to collect balls and gather them in a basket. And during the task, Rahul age-shamed Eijaz, saying, “bhaago mat, umar ke liye accha nhi hai (don\\'t run, it\\'s not good for your age).\" Ultimately, Eijaz won the task and got all his belongings, including a photo frame of his dogs. Needless to say, the actor is a huge pet enthusiast and considers his pets a quintessential part of his life. \\xa0  '] \n",
      "\n",
      "['http://zeenews.india.com/world/french-police-arrests-nine-after-teacher-killed-for-showing-class-cartoons-of-prophet-mohammad-2318081.html', 'French Police arrests nine after teacher killed for showing class cartoons of Prophet Mohammad', '17-10-2020', ' PARIS: French police have arrested nine people after a suspected Islamist sympathiser beheaded a school teacher on the street of a Paris suburb on Friday, police sources said. Investigators were trying to establish whether the attacker, who was shot dead by police, had acted alone or had accomplices. French media reported that he was an 18-year-old of Chechen origin. Witnesses heard the assailant shout \"Allahu Akbar\" or \"God is Greatest\", a police source said. His victim, a history teacher, had earlier this month shown his pupils cartoons of the Prophet Mohammad in a civics class on freedom of expression. President Emmanuel Macron called the incident Islamist terrorism. Four relatives of the attacker, including a minor, were detained in the immediate hours after the attack in the middle-class suburb of Conflans-Sainte-Honorine, the police sources said. Five more were detained overnight, among them two parents of pupils at the College du Bois d`Aulne where the teacher was employed. Muslim leaders condemned the killing, which many public figures perceived as an attack on the essence of French statehood and its values of secularism, freedom of worship and freedom of expression. Tareq Oubrou, the imam of a Bordeaux mosque, denied the killing marked a clash of civilisations. \"It is not a civilisation that kills an innocent person, it is barbarity,\" Oubrou told France Inter, adding that the litany of deadly attacks by Islamist militants or their sympathisers was devastating for France`s Muslim community. \"Every day that passes without incident we give thanks,\" he said. \"We are between hammer and anvil. It attacks the Republic, society, peace and the very essence of religion, which is about togetherness.\"  '] \n",
      "\n",
      "['http://zeenews.india.com/people/hey-natasa-stankovic-you-look-smashing-in-this-latest-unseen-viral-video-watch-2318079.html', 'Hey Natasa Stankovic, you look smashing in this latest unseen viral video! Watch', '17-10-2020', \" New Delhi: The Serbian beauty and new mommy in B-Town, Natasa Stankovic is a glam queen. She has shed all post pregnancy fat and looks in shape already. The stunner posted a video of hers where she looks breathtakingly gorgeous. Check it out here:\\xa0   \\xa0  \\xa0 \\xa0   \\xa0    View this post on Instagram  \\xa0   \\xa0 \\xa0 \\xa0   \\xa0 \\xa0   \\xa0 \\xa0 \\xa0   hey @thezoomstudios\\xa0 #TheHoliday Song\\xa0 @tesherrrr A post shared by  Nataša Stankovic\\xa0(@natasastankovic__) on Oct 15, 2020 at 1:29am PDT   Indian cricketer Hardik Pandya's ladylove, Natasa Stankovic's pictures and videos often break the internet.\\xa0   \\xa0  \\xa0 \\xa0   \\xa0    View this post on Instagram  \\xa0   \\xa0 \\xa0 \\xa0   \\xa0 \\xa0   \\xa0 \\xa0 \\xa0   \\xa0 A post shared by  Nataša Stankovic\\xa0(@natasastankovic__) on Oct 14, 2020 at 4:38am PDT     \\xa0  \\xa0 \\xa0   \\xa0    View this post on Instagram  \\xa0   \\xa0 \\xa0 \\xa0   \\xa0 \\xa0   \\xa0 \\xa0 \\xa0   Missing my gang\\xa0 @hardikpandya93 @krunalpandya_official @pankhuriisharma @komaldhakan198 @dhakan_hiren A post shared by  Nataša Stankovic(@natasastankovic__) on Oct 13, 2020 at 5:44am PDT   Hardik Pandya is currently in the UAE for the Indian Premier League (IPL) 2020 and Natasa Stankovic many a time has posted pictures with her beau whom she misses while he is out playing.\\xa0 Hardik proposed to Natasa on a yacht in Dubai and gave her a ring earlier this year in January. The video created a flutter online at that point in time. The couple welcomed their bundle of joy home on July 30, 2020, naming their baby boy as Agastya.\\xa0 Natasa is a Serbian model, who made her debut in Bollywood with Prakash Jha's 'Satyagraha'. She participated in the reality show 'Bigg Boss 8' back in 2014-15. She has featured in several hit Bollywood songs like 'Mehbooba' from 'Fukrey Returns', 'Zindagi Meri Dance Dance' from 'Daddy amongst various others. She has also done a few dance numbers in Tamil and Kannada movies.\\xa0 She was last seen in the dance reality show 'Nach Baliye 9' as a contestant with TV actor and friend Aly Goni. \\xa0  \"] \n",
      "\n",
      "['http://zeenews.india.com/india/pm-narendra-modi-to-deliver-keynote-address-at-grand-challenges-annual-meeting-on-october-19-2318073.html', 'PM Narendra Modi to deliver keynote address at Grand Challenges Annual Meeting on October 19', '17-10-2020', ' New Delhi: Prime Minister Narendra Modi will deliver a keynote address at the inaugural function of Grand Challenges Annual Meeting 2020, on October 19 at 7:30 PM via video conferencing. \"The Grand Challenges Annual Meeting, for the last 15 years, has fostered international innovation collaborations to address the biggest challenges in health and development,\" said the Prime Minister\\'s Office. The Grand Challenges Annual Meeting will convene virtually from October 19-21. \"It will bring together policymakers and scientific leaders, calling for deepened scientific collaborations in solving global health problems, with great emphasis on COVID-19 with an \"India for the World\" framing,\" added PMO. World leaders, eminent scientists and researchers from across the globe will join this annual meeting to discuss key priorities for accelerating progress across the Sustainable Development Goals in the post-pandemic world and elaborate on addressing the challenges to manage COVID-19.\\xa0 The three-day program will feature leaders talks, panel discussions and virtual informal conversations on topics ranging from scientific interventions for fighting the pandemic, managing the pandemic and accelerating the development and implementation of global solutions to combat this pandemic and prevent the next one.\\xa0 Approximately 1600 people from 40 countries will participate in this Annual meeting.\\xa0\\xa0 The Grand Challenges Annual Meeting will be co-hosted by the Bill & Melinda Gates Foundation, Department of Biotechnology, Ministry of Science & Technology, Government of India, the Indian Council of Medical Research and NITI Aayog, along with the Grand Challenges Canada, the United States Agency for International Development and Wellcome.\\xa0 \\xa0 Union Minister of Health & Family Welfare, Science and Technology and Earth Sciences, Harsh Vardhan, will deliver the opening remarks.\\xa0 Bill Gates, Co-Chair, Bill & Melinda Gates Foundation will present the plenary framing conversation.\\xa0\\xa0 This is to be noted that the Grand Challenges India was set up as a partnership of the Department of Biotechnology, Government of India and the Bill & Melinda Gates Foundation in 2012, and Wellcome also joined the partnership. Live TV '] \n",
      "\n",
      "['http://zeenews.india.com/india/ballia-firing-case-up-police-to-invoke-nsa-gangster-act-against-accused-2318072.html', 'Ballia firing case: UP Police to invoke NSA, Gangster Act against accused', '17-10-2020', ' Ballia: Uttar Pradesh police on Saturday (October 17, 2020) announced that the accused in Ballia killing will be charged under National Security Act (NSA) and the Gangster Act. A local BJP leader Dhirendra Pratap Singh\\xa0shot dead Jai Prakash, 46, on Thursday as a fracas broke out during a meeting at Durjanpur village in the presence of administration and police officials in Uttar Pradesh\\'s Ballia district. The DIG of Azamgarh Range, Subhash Chandra Dubey announced a cash reward of Rs 50,000 for any information leading to the arrest of each of the accused. \"A cash reward of Rs 50,000 has been announced on each of the absconding accused. Action will also be initiated under the National Security Act (NSA) and the Gangster Act against the accused,\" he was quoted as saying by PTI.\\xa0 Live TV '] \n",
      "\n",
      "['http://zeenews.india.com/television/bigg-boss-14-jaan-kumar-sanu-is-just-having-fun-cant-fall-in-love-in-10-days-says-mom-on-equation-with-nikki-tamboli-2318069.html', \"Bigg Boss 14: Jaan Kumar Sanu is just having fun, can't fall in love in 10 days, says mom on equation with Nikki Tamboli\", '17-10-2020', ' New Delhi: The game has amped up inside \\'Bigg Boss 14\\' house with contestants vying to make their own place and seniors helping them learn the knacks of it. Veteran singer Kumar Sanu\\'s son Jaan Kumar Sanu, who is also a participant this season is seen getting close to Nikki Tamboli - a controversial contestant from day 1.\\xa0 Reacting to the friendship between Jaan and Nikki, former\\'s mother Rita Bhattacharya in an interview with Bollywoodlife.com said: \"I am seeing it, and I find it enjoyable. He is just having fun. Jaan is not a boy who will fall in love in 10 days. On the show, he said that he believes in one true love. He will follow my footsteps in matters of the heart.\" Adding more, his mother said, \"Jaan and I love Bigg Boss. As a TV audience, I enjoy non-fiction shows like Bigg Boss, Khatron Ke Khiladi and Kaun Banega Crorepati more. He would always talk about the show. When he said that he has been offered the show, it was like a dream come true for him. Jaan is just like what you people are seeing on the show. He is friendly and not does pick up fights at the drop of a hat. Jaan is very composed as a person.\" \\'Bigg Boss 14\\' is hosted by Salman Khan and is a reality show based on the international format of\\xa0 Big Brother. The first season of the show was telecast back in 2006.\\xa0\\xa0 \\xa0  '] \n",
      "\n",
      "['http://zeenews.india.com/india/india-will-now-import-these-five-agri-products-from-bhutan-2318068.html', 'India will now import these five agri-products from Bhutan', '17-10-2020', ' New Delhi:\\xa0India has allowed market access for five Bhutanese agriculture products, something that will allow increased trade between the two countries. This move will allow Bhutan, access to the large Indian market. Products that are allowed market access are\\xa0Areca nut, mandarin orange, Apple, Potato, and Ginger from Bhutan to India. The market access, which has come into immediate effect got impetus during the visit of Indian trade minister Piyush Goyal to Bhutan in February this year.\\xa0\\xa0India\\'s envoy to Bhutan Ruchira Kamboj called the development, \"a key commitment to grow our bilateral trade\". India\\'s\\xa0Ministry of Agriculture & Farmers Welfare on 14th October had issued the notification that was published in the Gazette of India on 16 October 2020, notifying five agri-products originating from Bhutan in the Plant Quarantine (Regulation of Import into India) Order, 2003. A release by the Indian mission in Bhutan said, \"India and Bhutan share exceptionally close and friendly ties inclusive of matters pertaining to trade and commerce. Agriculture being an important sector in the economy of both countries, this decision to allow market access for these agricultural commodities was arrived at after detailed deliberation\". Live TV '] \n",
      "\n",
      "['http://zeenews.india.com/world/azerbaijan-says-12-killed-in-missile-attack-in-ganja-accuses-armenia-2318066.html', 'Azerbaijan says 12 killed in missile attack in Ganja, accuses Armenia', '17-10-2020', \" BAKU: Azerbaijan and Armenia accused each other on Saturday (October 17) of attacks in violation of a Russian-brokered truce, as the worst fighting in the South Caucasus since the 1990s continued. Baku said 13 civilians were killed and more than 40 wounded in the city of Ganja by an Armenian missile attack, while Yerevan accused Azerbaijan of continued shelling. The fighting is the worst in the region since Azerbaijan and ethnic Armenian forces went to war in 1990s over Nagorno-Karabakh, a breakaway Azeri region predominantly populated and governed by ethnic Armenians. The conflict risks creating a humanitarian disaster, especially if it draws in Russia and Turkey, experts and diplomats say. The Azeri Prosecutor General's office said a residential area in the country's second-largest city, miles away from Nagorno-Karabakh, was shelled by missile strikes and around 20 apartment buildings had been hit. A Reuters photographer in Ganja saw rescuers working at the scene on Saturday morning. Some houses had been almost levelled. An excavator was clearing the debris. The prosecutor's office said that Armenia also targeted missiles on the city of Mingechavir but that the Azeri air defence system downed them. The Armenian defence ministry denied Azeri's claim on shelling cities in Azerbaijan and accused Baku of continuing to shell populated areas inside Nagorno-Karabakh, including Stepanakert, the region's biggest city. Hundreds have died in a flare-up since Sept. 27 and there were further signs on Saturday that the ceasefire agreed a week ago - to allow the sides to swap detainees and the bodies of those killed - had all but broken down. Three civilians were wounded as a result of Azeri fire, the Armenian foreign ministry said. A Reuters cameraman in Stepanakert said he had heard several explosions in the early hours of the morning. Armenia also said several Azeri drones flew over settlements in Armenia, attacked military installations and damaged the civilian infrastructure. Live TV \"] \n",
      "\n",
      "['http://zeenews.india.com/people/bandra-court-orders-fir-against-kangana-ranaut-sister-rangoli-chandel-for-allegedly-spreading-communal-hatred-2318065.html', 'Bandra court orders FIR against Kangana Ranaut, sister Rangoli Chandel for allegedly spreading communal hatred', '17-10-2020', \" New Delhi: There's more trouble in store for Bollywood actress Kangana Ranaut and her sister Rangoli Chandel as Bandra court has directed Bandra police to file an FIR against the two. The complaint was registered by Munnawarali aka Sahil Ahsrafali Sayyed, who has alleged that both sisters have been tweeting derogatory comments about Bollywood and the Maharashtra Chief Minister Uddhav Thackeray. Also, he has claimed that Kangana and her sister Rangoli's tweets are spreading communal hatred and the two are talking a lot about media.\\xa0   He has alleged that he tried filing a complaint against this in Bandra police station but they didn't register it.\\xa0 The complainant then moved Bandra court through his counsel. A few days back, Tumkuru district police in Karnataka registered a case against Kangana Ranaut for her tweet against farmers who were protesting against the farm laws passed by the Parliament. The FIR was filed after Tumkuru court directed the local Kyatasandra police station to book Kangana for her tweet on farmers. \\xa0  \"] \n",
      "\n",
      "['http://zeenews.india.com/people/neetu-kapoor-wishes-navratri-posts-video-of-ranbir-kapoor-singing-sherawali-ambe-maa-bhajan-from-rockstar-watch-2318064.html', \"Neetu Kapoor wishes Navratri, posts video of Ranbir Kapoor singing 'Sherawali Ambe Maa' bhajan from 'Rockstar' - Watch\", '17-10-2020', \" New Delhi: On the auspicious occasion of Navratri, many celebrities thronged social media to wish their fans. Veteran actress Neetu Kapoor took to Instagram and extended Navratri festival greetings but in a unique way.\\xa0 She posted a video of actor-son Ranbir Kapoor where he can be seen singing Mata Bhajan titled 'Sherawali Ambe Maa' from the film 'Rockstar'. Take a look:\\xa0   \\xa0  \\xa0 \\xa0   \\xa0    View this post on Instagram  \\xa0   \\xa0 \\xa0 \\xa0   \\xa0 \\xa0   \\xa0 \\xa0 \\xa0   Jai mata di\\xa0 A post shared by  neetu Kapoor. Fightingfyt (@neetu54) on Oct 16, 2020 at 10:54pm PDT   The song is sung by Mohit Chauhan and 'Rockstar' was helmed by Imtiaz Ali. The film proved to be a turning point in Ranbir's career and introduced Nargis Fakhri to Bollywood. Meanwhile, Sharad Navratri has commenced from today i.e October 17 and will last till 25th of this month. The Durga Puja festivity also coincides with 9-day long Navratri festival.\\xa0 This year the 5 days of Durga Puja festivity begins from October 22-26 respectively.\\xa0 Jai Mata Di to all our readers!  \"] \n",
      "\n",
      "['http://zeenews.india.com/india/delhi-court-sentences-15-isis-operatives-to-varying-jail-terms-in-conspiracy-case-2318063.html', 'Delhi court sentences 15 ISIS operatives to varying jail terms in conspiracy case', '17-10-2020', ' New Delhi: A Delhi court Friday (Ocotber 16, 2020) awarded varying jail terms to 15 persons associated with terror organisation ISIS for hatching a criminal conspiracy to carry out acts of terrorism in the country. They were allegedly trying to establish its base in India by recruiting Muslim youths through different social media platforms. The judge awarded the punishment for various offence punishable under sections 120-B (criminal conspiracy) of the IPC, and provisions of the stringent Unlawful Activities (Prevention) Act and Explosive Substances Act after the convicts pleaded guilty. Special Judge Parveen Singh sent Nafees Khan to jail for 10 years with a fine of Rs 1,03,000. While three convicts got seven-year jail term each and one person was awarded six year imprisonment. The court also awarded five-year jail term to nince other convicts, their advocate Qausar Khan said. Live TV '] \n",
      "\n",
      "\n",
      "\n"
     ]
    }
   ],
   "source": [
    "scrape_news_count = 20 \n",
    "\n",
    "if scrape_news_count > 600:\n",
    "    print('ERROR: Total number of latest news in the database are 600. Please enter a number less than or equal to 600')\n",
    "else:\n",
    "    keyword_filtered_list = web_scraper(scrape_news_count)\n",
    "    print('\\n')\n",
    "    for row in keyword_filtered_list:\n",
    "        print(row, \"\\n\")\n",
    "    print('\\n')\n",
    "    j = 1"
   ]
  },
  {
   "cell_type": "markdown",
   "metadata": {},
   "source": [
    "Once the news is scraped and the csv file is created, you can check for the contents of the csv file from the Directory you have created it in. "
   ]
  },
  {
   "cell_type": "markdown",
   "metadata": {},
   "source": [
    "Finally, formulate a news/tweet/post by referring to the csv file created and pass it to the function as shown below."
   ]
  },
  {
   "cell_type": "code",
   "execution_count": 16,
   "metadata": {},
   "outputs": [
    {
     "name": "stdout",
     "output_type": "stream",
     "text": [
      "XXXXXXXXXXXXXXXXXXXXXXXXXXXXXXXXXXXXXXXXXXXXXXXXXXXXXXXXXXXX\n",
      "New Delhi The Indian Railways has reviewed its security crowd management and enforcement of COVID protocol as footfalls have started increasing ahead of the festive season 0.5876802588817186\n"
     ]
    },
    {
     "data": {
      "text/plain": [
       "('Input News: ',\n",
       " 'Indian Railways has reviewed its security, crowd management and enforcement of COVID-19 protocol',\n",
       " 'Similar News',\n",
       " 'New Delhi The Indian Railways has reviewed its security crowd management and enforcement of COVID protocol as footfalls have started increasing ahead of the festive season',\n",
       " 'Similarity Score: ',\n",
       " 0.5876802588817186,\n",
       " 'http://zeenews.india.com/india/indian-railways-reviews-security-crowd-management-enforcement-of-covid-19-protocol-as-footfalls-increase-ahead-of-festive-season-2318104.html')"
      ]
     },
     "execution_count": 16,
     "metadata": {},
     "output_type": "execute_result"
    }
   ],
   "source": [
    "news_processing('Indian Railways has reviewed its security, crowd management and enforcement of COVID-19 protocol')\n"
   ]
  },
  {
   "cell_type": "code",
   "execution_count": null,
   "metadata": {},
   "outputs": [],
   "source": []
  }
 ],
 "metadata": {
  "kernelspec": {
   "display_name": "Python 3",
   "language": "python",
   "name": "python3"
  },
  "language_info": {
   "codemirror_mode": {
    "name": "ipython",
    "version": 3
   },
   "file_extension": ".py",
   "mimetype": "text/x-python",
   "name": "python",
   "nbconvert_exporter": "python",
   "pygments_lexer": "ipython3",
   "version": "3.7.6"
  }
 },
 "nbformat": 4,
 "nbformat_minor": 4
}
