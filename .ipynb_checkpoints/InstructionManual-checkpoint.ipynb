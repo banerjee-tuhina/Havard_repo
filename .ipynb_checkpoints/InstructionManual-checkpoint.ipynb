{
 "cells": [
  {
   "cell_type": "markdown",
   "metadata": {},
   "source": [
    "# Testing Algorithms"
   ]
  },
  {
   "cell_type": "markdown",
   "metadata": {},
   "source": [
    "This notebook is made for testing the algorithms used in our project i.e. Image Classification, Toxic Text Detection and News Similarity Check Algorithm. Following are the steps to execute the program:"
   ]
  },
  {
   "cell_type": "markdown",
   "metadata": {},
   "source": [
    "## Step 1: Importing the libraries"
   ]
  },
  {
   "cell_type": "markdown",
   "metadata": {},
   "source": [
    "Start by executing the code given below. The code can be executed by selecting the cell clicking on the run button given above in the navigation bar or simply by clicking Shift + Enter. \n",
    "If you do not have any library already installed in your system, you can install it using the command:"
   ]
  },
  {
   "cell_type": "markdown",
   "metadata": {},
   "source": [
    "!pip install library_name"
   ]
  },
  {
   "cell_type": "markdown",
   "metadata": {},
   "source": [
    "Or you could refer to this website https://pypi.org/project to find the syntax and versions for downloading libraries. "
   ]
  },
  {
   "cell_type": "markdown",
   "metadata": {},
   "source": [
    "You can download tesseract.ocr from here https://github.com/UB-Mannheim/tesseract/wiki. "
   ]
  },
  {
   "cell_type": "markdown",
   "metadata": {},
   "source": [
    "You can also refer to the README.md provided in our github repository - https://github.com/letstrytogether/Spiders/blob/master/README.md"
   ]
  },
  {
   "cell_type": "code",
   "execution_count": 1,
   "metadata": {},
   "outputs": [
    {
     "name": "stderr",
     "output_type": "stream",
     "text": [
      "Using TensorFlow backend.\n",
      "[nltk_data] Downloading package averaged_perceptron_tagger to\n",
      "[nltk_data]     C:\\Users\\Sakshi\\AppData\\Roaming\\nltk_data...\n",
      "[nltk_data]   Package averaged_perceptron_tagger is already up-to-\n",
      "[nltk_data]       date!\n",
      "[nltk_data] Downloading package stopwords to\n",
      "[nltk_data]     C:\\Users\\Sakshi\\AppData\\Roaming\\nltk_data...\n",
      "[nltk_data]   Package stopwords is already up-to-date!\n"
     ]
    }
   ],
   "source": [
    "import tensorflow as tf\n",
    "import keras\n",
    "from keras.preprocessing import image\n",
    "from nltk import word_tokenize, pos_tag\n",
    "from nltk.corpus import wordnet as wn\n",
    "import nltk\n",
    "nltk.download('averaged_perceptron_tagger')\n",
    "import re\n",
    "from nltk.corpus import stopwords\n",
    "from nltk.stem.porter import PorterStemmer\n",
    "from nltk.tokenize import word_tokenize\n",
    "from nltk import pos_tag\n",
    "from nltk.corpus import wordnet as wn\n",
    "from pandas import DataFrame as df\n",
    "nltk.download('stopwords')\n",
    "from tensorflow.keras.preprocessing.text import one_hot\n",
    "from tensorflow.keras.preprocessing.sequence import pad_sequences\n",
    "from sklearn.feature_extraction.text import CountVectorizer, TfidfVectorizer\n",
    "from sklearn.feature_extraction.text import TfidfVectorizer\n",
    "from sklearn.metrics.pairwise import cosine_similarity\n",
    "from nltk.tokenize import sent_tokenize\n",
    "import pickle\n",
    "import anvil\n",
    "import anvil.media\n",
    "import cv2\n",
    "from PIL import Image\n",
    "import requests\n",
    "from io import BytesIO\n",
    "import numpy as np\n",
    "import os\n",
    "import pandas as pd\n",
    "import matplotlib.pyplot as plt\n",
    "from pytesseract import *\n",
    "#Paste your path to tesseract.exe below\n",
    "pytesseract.tesseract_cmd= r'C:\\Users\\Sakshi\\AppData\\Local\\Tesseract-OCR\\tesseract.exe'\n",
    "\n",
    "hindi_toxic = pd.read_csv('Hindi.csv')\n",
    "filename_1 = 'TextModel_SVM.sav'\n",
    "filename_2 = 'Vocabulary.sav'"
   ]
  },
  {
   "cell_type": "markdown",
   "metadata": {},
   "source": [
    "## Step 2: Defining the Functions of  Algorithms"
   ]
  },
  {
   "cell_type": "markdown",
   "metadata": {},
   "source": [
    "Start by executing the code given below. This is the 'Toxic Text Detection' algorithm that takes the input text and detects whether the sentiment of the text is negative or positive/neutral."
   ]
  },
  {
   "cell_type": "code",
   "execution_count": 2,
   "metadata": {},
   "outputs": [],
   "source": [
    "def comment_processing(input_data):\n",
    "    clf = pickle.load(open(filename_1, 'rb'))\n",
    "    loaded_vec =  pickle.load(open(filename_2, \"rb\"))\n",
    "    loaded_vec = CountVectorizer(decode_error=\"replace\",vocabulary=loaded_vec)\n",
    "    text = []\n",
    "    text.append(input_data)\n",
    "    score = 0\n",
    "    keyword = re.sub('[^a-zA-Z]',' ',text[0])\n",
    "    for i in keyword.split(' '):\n",
    "        for j in hindi_toxic['Words']:\n",
    "            if j == i:\n",
    "                score = 1\n",
    "                break\n",
    "    if score == 1:\n",
    "        print('Text: ', text)\n",
    "        print('Score: ', score)\n",
    "        print('Result: Text is toxic.')\n",
    "    else:\n",
    "            X = loaded_vec.transform(text)\n",
    "            score = clf.predict(X)\n",
    "            print('Text: ', text[0])\n",
    "            print('Score: ', score[0])\n",
    "            if score[0] == 1:\n",
    "                print('Result: Text is toxic.')\n",
    "            else:\n",
    "                print('Result: Text is not toxic.') "
   ]
  },
  {
   "cell_type": "markdown",
   "metadata": {},
   "source": [
    "Next, execute the code given below. This is the 'Image Classification' algorithm that takes any input image, gif or video and determines whether it contains any toxic content. "
   ]
  },
  {
   "cell_type": "code",
   "execution_count": 3,
   "metadata": {},
   "outputs": [],
   "source": [
    "def image_processing(path):\n",
    "    model = pickle.load(open(r'finalized_model.sav', 'rb'))\n",
    "    image1 = ['jpg', 'jpeg', 'png','jfif']\n",
    "    video1 = ['mp4', 'gif']\n",
    "    result = 0\n",
    "    path = path\n",
    "    extension = path.split('.')[-1]\n",
    "    print(extension)\n",
    "    if extension in image1:\n",
    "        img = Image.open(path)\n",
    "        plt.imshow(img)\n",
    "        test_img = keras.preprocessing.image.load_img(path, target_size = (32,32))\n",
    "        print(type(test_img))\n",
    "        test_img = tf.keras.preprocessing.image.img_to_array(test_img)\n",
    "        print(type(test_img))\n",
    "        test_img = np.expand_dims(test_img, axis = 0)\n",
    "        result = model.predict(test_img)\n",
    "        print(result)\n",
    "        if result[0][4] == 1 or result[0][5] == 1 or [0][0] == 1:\n",
    "            print('Result: Okay')\n",
    "            return ('Okay')\n",
    "        else:\n",
    "            print('Result: Not Okay') \n",
    "            return('Not Okay')\n",
    "\n",
    "    if extension in video1:\n",
    "        res = []\n",
    "        vidcap = cv2.VideoCapture(path)\n",
    "        success, image = vidcap.read()\n",
    "        count = 0\n",
    "        while success:\n",
    "            success,image = vidcap.read()\n",
    "            if success:\n",
    "                print('read a new frame:', success)\n",
    "                count+=1\n",
    "                images = cv2.resize(image, (32,32),3)\n",
    "                print(image.shape)\n",
    "                test_img = np.expand_dims(images, axis = 0)\n",
    "                result = model.predict(test_img)\n",
    "                res.append(result)\n",
    "            else:\n",
    "                break\n",
    "\n",
    "        print(len(res))\n",
    "        okay = 0\n",
    "        notokay = 0\n",
    "        for result in res:\n",
    "            print(res)\n",
    "            if result[0][4] == 1 or result[0][5] == 1 or [0][0] == 1:\n",
    "                okay+=1 \n",
    "            else:\n",
    "                notokay+=1\n",
    "        print(okay)\n",
    "        print(notokay)\n",
    "        if okay > notokay:\n",
    "            print('Result: Okay')\n",
    "            return('Okay')\n",
    "        else:\n",
    "            print('Result: Not Okay')\n",
    "            return('Not Okay')\n"
   ]
  },
  {
   "cell_type": "markdown",
   "metadata": {},
   "source": [
    "Execute the code given below. The code extracts text from image and sends the text to 'Toxic Text Detection' algorithm for further processing. "
   ]
  },
  {
   "cell_type": "code",
   "execution_count": 4,
   "metadata": {},
   "outputs": [],
   "source": [
    "def imagetext_processing(path):\n",
    "        img = keras.preprocessing.image.load_img(path)\n",
    "        text=pytesseract.image_to_string(img)\n",
    "        score = comment_processing(text)\n",
    "        img = Image.open(path)\n",
    "        plt.imshow(img)\n",
    "        return (score)\n",
    "    "
   ]
  },
  {
   "cell_type": "markdown",
   "metadata": {},
   "source": [
    "Lastly, execute the cells given below. This is the 'News Similarity Check' algorithm that takes an input news, finds any similar news in the dataset created after scraping DD News and Zee News and then outputs the most similar news found."
   ]
  },
  {
   "cell_type": "markdown",
   "metadata": {},
   "source": [
    "The csv file used here as the dataset to find the similar news is 'COVID.csv'. You can try scraping news from 'DDNewsWebScraperGlobal_Latest.ipynb' or 'ZeeNewsWebScraperGlobal_Latest.ipynb'."
   ]
  },
  {
   "cell_type": "code",
   "execution_count": 5,
   "metadata": {},
   "outputs": [],
   "source": [
    "def clean_text(keyword):\n",
    "    temp = []\n",
    "    keyword = re.sub('[^a-zA-Z]',' ',keyword)\n",
    "    ss=nltk.tokenize.sent_tokenize(keyword)\n",
    "    tokenized_sent=[nltk.word_tokenize(sent) for sent in ss]\n",
    "    pos_sentences=[nltk.pos_tag(sent) for sent in tokenized_sent]\n",
    "    for i in pos_sentences:\n",
    "        for j in i:\n",
    "            if j[1] == 'NN' or j[1] == 'NNP' or j[1] == 'NNPS':\n",
    "                temp.append(j[0])\n",
    "    return temp\n",
    "            "
   ]
  },
  {
   "cell_type": "code",
   "execution_count": 13,
   "metadata": {},
   "outputs": [],
   "source": [
    "def news_processing(sentence):\n",
    "        sentence_1 = sentence\n",
    "        sentence = clean_text(sentence)\n",
    "        for word in sentence:\n",
    "            #Enter the path to your csv file, for example:\n",
    "            data = r'C:\\Data\\COVID\\data\\COVID.csv'\n",
    "            #data = r'path to your csv file'\n",
    "            data=pd.read_csv(data,  encoding='cp1252')\n",
    "            data_1= data[\"NEWS\"]\n",
    "            data_2 = data['NEWS URL']\n",
    "            super_1 = []\n",
    "            super_2 = []\n",
    "            super_3 = []\n",
    "            focus_sentence = sentence_1\n",
    "            focus_sentence = \" \".join(re.findall(\"[a-zA-Z]+\", focus_sentence)) \n",
    "            res = []\n",
    "            sent_list = []\n",
    "            urls = []\n",
    "            for row,url in zip(data_1,data_2):\n",
    "                sent=sent_tokenize(row)\n",
    "                for sentence in sent:\n",
    "                    sentence = \" \".join(re.findall(\"[a-zA-Z]+\", sentence)) \n",
    "                    corpus = [focus_sentence , sentence]\n",
    "                    vectorizer = TfidfVectorizer()\n",
    "                    trsfm=vectorizer.fit_transform(corpus)\n",
    "                    result = cosine_similarity(trsfm)[0][1]\n",
    "                    res.append(result.tolist())\n",
    "                    sent_list.append(sentence)\n",
    "                    urls.append(url)\n",
    "\n",
    "            final = res.index(max(res))\n",
    "            final_sentence = sent_list[final]\n",
    "            final_url = urls[final]\n",
    "            super_1.append(final)\n",
    "            super_2.append(final_sentence)\n",
    "            super_3.append(final_url)\n",
    "\n",
    "        final = super_1.index(max(super_1))\n",
    "        final_sentence = super_2[final]\n",
    "        urls = super_3[final]\n",
    "\n",
    "\n",
    "        return ('Input News: ',sentence_1, 'Similar News', final_sentence,'Similarity Score: ', max(res),urls)"
   ]
  },
  {
   "cell_type": "markdown",
   "metadata": {},
   "source": [
    "## Step 3: Testing the Algorithms"
   ]
  },
  {
   "cell_type": "markdown",
   "metadata": {},
   "source": [
    "First, we will test the 'Toxic Text Detection' algortithm. Execute the cell given below by passing any sentence you want to test to the function as shown below."
   ]
  },
  {
   "cell_type": "code",
   "execution_count": 17,
   "metadata": {},
   "outputs": [
    {
     "name": "stdout",
     "output_type": "stream",
     "text": [
      "Text:  i will rape you\n",
      "Score:  1\n",
      "Result: Text is toxic.\n"
     ]
    }
   ],
   "source": [
    "comment_processing('i will rape you')"
   ]
  },
  {
   "cell_type": "code",
   "execution_count": 18,
   "metadata": {},
   "outputs": [
    {
     "name": "stdout",
     "output_type": "stream",
     "text": [
      "Text:  i will not rape you\n",
      "Score:  0\n",
      "Result: Text is not toxic.\n"
     ]
    }
   ],
   "source": [
    "comment_processing('i will not rape you')"
   ]
  },
  {
   "cell_type": "markdown",
   "metadata": {},
   "source": [
    "Next, we will test the 'Image Classfication' algorithm. Execute the cell given below by passing the relative path to any image as shown below."
   ]
  },
  {
   "cell_type": "code",
   "execution_count": 22,
   "metadata": {},
   "outputs": [
    {
     "name": "stdout",
     "output_type": "stream",
     "text": [
      "jpg\n",
      "<class 'PIL.Image.Image'>\n",
      "<class 'numpy.ndarray'>\n",
      "[[0. 0. 1. 0. 0. 0.]]\n",
      "Result: Not Okay\n"
     ]
    },
    {
     "data": {
      "text/plain": [
       "'Not Okay'"
      ]
     },
     "execution_count": 22,
     "metadata": {},
     "output_type": "execute_result"
    },
    {
     "data": {
      "image/png": "[encoded data removed]",
      "text/plain": [
       "<Figure size 432x288 with 1 Axes>"
      ]
     },
     "metadata": {
      "needs_background": "light"
     },
     "output_type": "display_data"
    }
   ],
   "source": [
    "image_processing(r'C:\\Users\\Sakshi\\Documents\\Project\\Testing\\6.jpg')"
   ]
  },
  {
   "cell_type": "markdown",
   "metadata": {},
   "source": [
    "Then, we will see how the text from an image is extracted and its toxicity is determined. Execute the cell given below by passing the relative path to any image containing text."
   ]
  },
  {
   "cell_type": "code",
   "execution_count": 9,
   "metadata": {},
   "outputs": [
    {
     "name": "stdout",
     "output_type": "stream",
     "text": [
      "Text:  you bitch i will rape you\n",
      "Score:  1\n",
      "Result: Text is toxic.\n"
     ]
    },
    {
     "data": {
      "image/png": "[encoded data removed]",
      "text/plain": [
       "<Figure size 432x288 with 1 Axes>"
      ]
     },
     "metadata": {
      "needs_background": "light"
     },
     "output_type": "display_data"
    }
   ],
   "source": [
    "imagetext_processing(r'C:\\Users\\Sakshi\\Documents\\Project\\Testing\\image text test.JPG')"
   ]
  },
  {
   "cell_type": "markdown",
   "metadata": {},
   "source": [
    "Lastly, you can test the 'News Similarity Check' algorithm by formulating a news/tweet/post preferably from the COVID.csv file provided for convinience and passing it to the function given below."
   ]
  },
  {
   "cell_type": "code",
   "execution_count": 14,
   "metadata": {},
   "outputs": [
    {
     "data": {
      "text/plain": [
       "('Input News: ',\n",
       " 'Guidelines for unlock 4 will come into force very soon',\n",
       " 'Similar News',\n",
       " 'The guidelines issued by the government for Unlock will come into force on Tuesday',\n",
       " 'Similarity Score: ',\n",
       " 0.42495679101934586,\n",
       " 'http://ddnews.gov.in/national/unlock-4-guidelines-covid-non-containment-zones-come-force')"
      ]
     },
     "execution_count": 14,
     "metadata": {},
     "output_type": "execute_result"
    }
   ],
   "source": [
    "news_processing('Guidelines for unlock 4 will come into force very soon')"
   ]
  },
  {
   "cell_type": "markdown",
   "metadata": {},
   "source": [
    "## END"
   ]
  }
 ],
 "metadata": {
  "kernelspec": {
   "display_name": "Python 3",
   "language": "python",
   "name": "python3"
  },
  "language_info": {
   "codemirror_mode": {
    "name": "ipython",
    "version": 3
   },
   "file_extension": ".py",
   "mimetype": "text/x-python",
   "name": "python",
   "nbconvert_exporter": "python",
   "pygments_lexer": "ipython3",
   "version": "3.7.6"
  }
 },
 "nbformat": 4,
 "nbformat_minor": 4
}
