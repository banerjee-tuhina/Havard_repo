{
 "cells": [
  {
   "cell_type": "markdown",
   "metadata": {},
   "source": [
    "# Twitter Scrapper"
   ]
  },
  {
   "cell_type": "markdown",
   "metadata": {},
   "source": [
    "This algorithm scrapes tweets using Twitter API and certain hashtags and applies image identification, toxic text dectection and news similarity check algorithm to the scraped data."
   ]
  },
  {
   "cell_type": "raw",
   "metadata": {},
   "source": [
    "Inorder to execute this code, you shall need access to your twitter api key. This account shall be used for monitoring purposes."
   ]
  },
  {
   "cell_type": "markdown",
   "metadata": {},
   "source": [
    "Execute all the cells given below."
   ]
  },
  {
   "cell_type": "markdown",
   "metadata": {},
   "source": [
    "## 1. Importing Libraries"
   ]
  },
  {
   "cell_type": "code",
   "execution_count": 1,
   "metadata": {},
   "outputs": [],
   "source": [
    "from tweepy import API\n",
    "from tweepy import Cursor\n",
    "import json\n",
    "import csv\n",
    "import tweepy\n",
    "from tweepy import OAuthHandler\n",
    "from tweepy import Stream\n",
    "from tweepy.streaming import StreamListener\n",
    "import re\n",
    "import numpy as np\n",
    "import pandas as pd\n",
    "from pandas import DataFrame as df\n",
    "import string \n",
    "import logging\n",
    "import os\n",
    "import logging\n",
    "import time\n",
    "import subprocess\n",
    "import pickle\n",
    "import warnings\n",
    "warnings.filterwarnings(\"ignore\")"
   ]
  },
  {
   "cell_type": "code",
   "execution_count": 2,
   "metadata": {},
   "outputs": [
    {
     "name": "stderr",
     "output_type": "stream",
     "text": [
      "Using TensorFlow backend.\n",
      "[nltk_data] Downloading package averaged_perceptron_tagger to\n",
      "[nltk_data]     C:\\Users\\Sakshi\\AppData\\Roaming\\nltk_data...\n",
      "[nltk_data]   Package averaged_perceptron_tagger is already up-to-\n",
      "[nltk_data]       date!\n",
      "[nltk_data] Downloading package stopwords to\n",
      "[nltk_data]     C:\\Users\\Sakshi\\AppData\\Roaming\\nltk_data...\n",
      "[nltk_data]   Package stopwords is already up-to-date!\n"
     ]
    }
   ],
   "source": [
    "import tensorflow as tf\n",
    "import keras\n",
    "from keras.preprocessing import image\n",
    "from nltk import word_tokenize, pos_tag\n",
    "from nltk.corpus import wordnet as wn\n",
    "import nltk\n",
    "nltk.download('averaged_perceptron_tagger')\n",
    "import re\n",
    "from nltk.corpus import stopwords\n",
    "from nltk.stem.porter import PorterStemmer\n",
    "from nltk.tokenize import word_tokenize\n",
    "from nltk import pos_tag\n",
    "from nltk.corpus import wordnet as wn\n",
    "from pandas import DataFrame as df\n",
    "nltk.download('stopwords')\n",
    "from tensorflow.keras.preprocessing.text import one_hot\n",
    "from tensorflow.keras.preprocessing.sequence import pad_sequences\n",
    "from sklearn.feature_extraction.text import CountVectorizer, TfidfVectorizer\n",
    "from sklearn.feature_extraction.text import TfidfVectorizer\n",
    "from sklearn.metrics.pairwise import cosine_similarity\n",
    "from nltk.tokenize import sent_tokenize\n",
    "import pickle\n",
    "import anvil\n",
    "import anvil.media\n",
    "import cv2\n",
    "from pytesseract import *\n",
    "#Paste your path to tesseract.exe below\n",
    "pytesseract.tesseract_cmd= r'C:\\Users\\Sakshi\\AppData\\Local\\Tesseract-OCR\\tesseract.exe'\n",
    "from PIL import Image\n",
    "import requests\n",
    "from io import BytesIO\n",
    "import os"
   ]
  },
  {
   "cell_type": "markdown",
   "metadata": {},
   "source": [
    "## 2. Entering Twitter API Credentials"
   ]
  },
  {
   "cell_type": "code",
   "execution_count": 3,
   "metadata": {},
   "outputs": [],
   "source": [
    "consumer_key = 'S2DlfUPWxUKnNxBpvXS8Zq3qJ'\n",
    "consumer_secret = 'xpsmNl47CEaKnTCpU60gAf9e5vBPdWFEA1Yo8J3zo3yagcnzaI'\n",
    "access_token = '1210271480132427776-LrXaRRcSk3t1jHCnQW5C07POilxYqy'\n",
    "access_token_secret = 'ubVK9MXUXOjri0BajCklxWzdUBm7aseGfWijmbqtKxToo'\n",
    "YOUR_CONSUMER_KEY='xvz1evFS4wEEPTGEFPHBog'\n",
    "AUTO_GENERATED_NONCE='kYjzVBB8Y0ZFabxSWbWovY3uYSQ2pTgmZeNu2VS4cg'\n",
    "AUTO_GENERATED_SIGNATURE='tnnArxj06cWHq44gCs1OSKk/jLY'\n",
    "AUTO_GENERATED_TIMESTAMP='1318622958'\n",
    "USERS_ACCESS_TOKEN='370773112-GmHxMAgYyLbNEtIKZeRNFsMKPR9EyMZeS9weJAEb'\n",
    "RECIPIENT_USER_ID='@tuhina42362128'\n",
    "auth = tweepy.OAuthHandler(consumer_key, consumer_secret)\n",
    "auth.set_access_token(access_token, access_token_secret)\n",
    "api=tweepy.API(auth)"
   ]
  },
  {
   "cell_type": "markdown",
   "metadata": {},
   "source": [
    "## 3. Initlialising Toxic Text Detection Algorithm"
   ]
  },
  {
   "cell_type": "code",
   "execution_count": 4,
   "metadata": {},
   "outputs": [],
   "source": [
    "def remove_punct(text):\n",
    "    text  = \"\".join([char for char in text if char not in string.punctuation])\n",
    "    text = re.sub('[0-9]+', '', text)\n",
    "    text=re.sub(r\"http\\S+\", \"\", text)\n",
    "    #text = re.sub(r'https?:\\/\\/\\S*', '', text, flags=re.MULTILINE)    \n",
    "    return text"
   ]
  },
  {
   "cell_type": "code",
   "execution_count": 5,
   "metadata": {},
   "outputs": [],
   "source": [
    "hindi_toxic = pd.read_csv('Hindi.csv')"
   ]
  },
  {
   "cell_type": "code",
   "execution_count": 6,
   "metadata": {},
   "outputs": [],
   "source": [
    "def clean_text(keyword):\n",
    "    temp = []\n",
    "    keyword = re.sub('[^a-zA-Z]',' ',keyword)\n",
    "    ss=nltk.tokenize.sent_tokenize(keyword)\n",
    "    tokenized_sent=[nltk.word_tokenize(sent) for sent in ss]\n",
    "    pos_sentences=[nltk.pos_tag(sent) for sent in tokenized_sent]\n",
    "    for i in pos_sentences:\n",
    "        print(i)\n",
    "        for j in i:\n",
    "            print(j[1])\n",
    "            if j[1] == 'NN' or j[1] == 'NNP' or j[1] == 'NNPS':\n",
    "                temp.append(j[0])\n",
    "    return temp\n",
    "            \n"
   ]
  },
  {
   "cell_type": "code",
   "execution_count": 7,
   "metadata": {},
   "outputs": [],
   "source": [
    "def comment_processing(input_data):\n",
    "    filename_1 = 'TextModel_SVM.sav'\n",
    "    filename_2 = 'Vocabulary.sav'\n",
    "    clf = pickle.load(open(filename_1, 'rb'))\n",
    "    loaded_vec =  pickle.load(open(filename_2, \"rb\"))\n",
    "    loaded_vec = CountVectorizer(decode_error=\"replace\",vocabulary=loaded_vec)\n",
    "    text = []\n",
    "    text.append(input_data)\n",
    "    score = 0\n",
    "    keyword = re.sub('[^a-zA-Z]',' ',text[0])\n",
    "    for i in keyword.split(' '):\n",
    "        for j in hindi_toxic['Words']:\n",
    "            if j == i:\n",
    "                score = 1\n",
    "                break\n",
    "    if score == 1:\n",
    "        print('Score: ', score)\n",
    "        return('Not Okay')\n",
    "    else:\n",
    "        X = loaded_vec.transform(text)\n",
    "        score = clf.predict(X)\n",
    "        print('Score', score[0])\n",
    "        if score == 1:\n",
    "            return('Not Okay')\n",
    "        else:\n",
    "            return('Okay')\n",
    "        "
   ]
  },
  {
   "cell_type": "markdown",
   "metadata": {},
   "source": [
    "## 4. Checking for Similar News"
   ]
  },
  {
   "cell_type": "code",
   "execution_count": 8,
   "metadata": {},
   "outputs": [],
   "source": [
    "def check_news(sentence, count,username):\n",
    "        i = count\n",
    "        username= username\n",
    "        sentence_1 = sentence\n",
    "        sentence = clean_text(sentence)\n",
    "        print(sentence)\n",
    "        for word in sentence:\n",
    "            keyword = '09-09-2020'\n",
    "            value = keyword + '.csv'\n",
    "            data = os.path.join(r'C:\\Data', keyword, 'data',value)\n",
    "            data=pd.read_csv(data,  encoding='cp1252')\n",
    "            data_1= data[\"NEWS\"]\n",
    "            data_2 = data['NEWS URL']\n",
    "            super_1 = []\n",
    "            super_2 = []\n",
    "            super_3 = []\n",
    "            focus_sentence = sentence_1\n",
    "            focus_sentence = \" \".join(re.findall(\"[a-zA-Z]+\", focus_sentence)) \n",
    "            res = []\n",
    "            sent_list = []\n",
    "            urls = []\n",
    "            for row,url in zip(data_1,data_2):\n",
    "                sent=sent_tokenize(row)\n",
    "                for sentence in sent:\n",
    "                    sentence = \" \".join(re.findall(\"[a-zA-Z]+\", sentence)) \n",
    "                    corpus = [focus_sentence , sentence]\n",
    "                    vectorizer = TfidfVectorizer()\n",
    "                    trsfm=vectorizer.fit_transform(corpus)\n",
    "                    result = cosine_similarity(trsfm)[0][1]\n",
    "                    res.append(result.tolist())\n",
    "                    sent_list.append(sentence)\n",
    "                    urls.append(url)\n",
    "            print('XXXXXXXXXXXXXXXXXXXXXXXXXXXXXXXXXXXXXXXXXXXXXXXXXXXXXXXXXXXX')\n",
    "            final = res.index(max(res))\n",
    "            final_sentence = sent_list[final]\n",
    "            final_url = urls[final]\n",
    "            super_1.append(final)\n",
    "            super_2.append(final_sentence)\n",
    "            super_3.append(final_url)\n",
    "        final = super_1.index(max(super_1))\n",
    "        final_sentence = super_2[final]\n",
    "        urls = super_3[final]\n",
    "\n",
    "        print('Input News: ',sentence_1, 'Similar News', final_sentence,'Similarity Score: ', max(res),urls)\n",
    "        \n",
    "        if max(res) < 0.5:\n",
    "            message = username +' ' + str(urls)\n",
    "            api.update_status(status = message, in_reply_to_status_id = i, auto_populate_reply_metadata=True)  \n",
    "        else:\n",
    "            print('News Verified!')"
   ]
  },
  {
   "cell_type": "code",
   "execution_count": 9,
   "metadata": {},
   "outputs": [],
   "source": [
    "def check_newsimage(path,count,username):\n",
    "    count = count\n",
    "    username = username\n",
    "    print('Image: ',path)\n",
    "    response = requests.get(path)\n",
    "    img = Image.open(BytesIO(response.content))\n",
    "    text=pytesseract.image_to_string(img)\n",
    "    check_news(text,count,username)\n",
    "    "
   ]
  },
  {
   "cell_type": "markdown",
   "metadata": {},
   "source": [
    "## 5. Initialising Image Classification Algorithm"
   ]
  },
  {
   "cell_type": "code",
   "execution_count": 10,
   "metadata": {},
   "outputs": [],
   "source": [
    "def check_image(path, count):\n",
    "        print('Image: ',path)\n",
    "        res = []\n",
    "        imagelen = []\n",
    "        image1 = ['jpg', 'jpeg', 'png','jfif']\n",
    "        video1 = ['mp4', 'gif']\n",
    "        result = 0\n",
    "        \n",
    "        filename = 'finalized_model.sav'\n",
    "        model = pickle.load(open(filename, 'rb'))\n",
    "        \n",
    "        \n",
    "        extension = path.split('.')[-1]\n",
    "\n",
    "        if extension in image1:\n",
    "            response = requests.get(path)\n",
    "            test_img = Image.open(BytesIO(response.content))\n",
    "            test_img = test_img.resize((32,32))\n",
    "            test_img = tf.keras.preprocessing.image.img_to_array(test_img)\n",
    "            test_img = np.expand_dims(test_img, axis = 0)\n",
    "            result = model.predict(test_img)\n",
    "            if result[0][4] == 1 or result[0][5] == 1:\n",
    "                #print('okay')\n",
    "                return ('Okay')\n",
    "            else:\n",
    "                #print('not okay') \n",
    "                return ('Not Okay')\n",
    "\n",
    "        if extension in video1:\n",
    "            res = []\n",
    "            vidcap = cv2.VideoCapture(path)\n",
    "            success, image = vidcap.read()\n",
    "            count = 0\n",
    "            while success:\n",
    "                success,image = vidcap.read()\n",
    "                if success:\n",
    "                    print('read a new frame:', success)\n",
    "                    count+=1\n",
    "                    images = cv2.resize(image, (32,32),3)\n",
    "                    #images  = images.reshape(32,32,3)\n",
    "                    print(image.shape)\n",
    "                    test_img = np.expand_dims(images, axis = 0)\n",
    "                    result = model.predict(test_img)\n",
    "                    res.append(result)\n",
    "                else:\n",
    "                    break\n",
    "\n",
    "            print(len(res))\n",
    "            okay = 0\n",
    "            notokay = 0\n",
    "            for result in res:\n",
    "                print(res)\n",
    "                if result[0][4] == 1 or result[0][5] == 1:\n",
    "                    okay+=1 \n",
    "                else:\n",
    "                    notokay+=1\n",
    "            print(okay)\n",
    "            print(notokay)\n",
    "            if okay > notokay:\n",
    "                #print('okay')\n",
    "                return ('Okay')\n",
    "            else:\n",
    "                #print('notokay')\n",
    "                return ('Not Okay')\n",
    "            \n",
    "                \n",
    "        count += 1\n",
    "\n",
    "            \n",
    "           \n",
    "\n"
   ]
  },
  {
   "cell_type": "markdown",
   "metadata": {},
   "source": [
    "## 6. Classify Tweet Data"
   ]
  },
  {
   "cell_type": "code",
   "execution_count": 11,
   "metadata": {},
   "outputs": [],
   "source": [
    "def check_tweet(count):\n",
    "    i = data['media_url'][count]\n",
    "    if type(i) == str:\n",
    "        print(' ')\n",
    "        print('Type: Media')\n",
    "        result_1 = check_image(data['media_url'][count], count)\n",
    "        result_2 = check_text(data['Text_copy'][count], count)\n",
    "        if (result_1 == 'Not Okay'):\n",
    "            print('Result: TOXIC')\n",
    "            alert_user(data['username'][count], data['media_url'][count])\n",
    "        elif (result_2 == 'Not Okay'):\n",
    "            print('Result: TOXIC')\n",
    "            alert_user(data['username'][count], data['Text_copy'][count])     \n",
    "        else:\n",
    "            print('Result: Okay')\n",
    "\n",
    "    else:\n",
    "        print(' ')\n",
    "        print('Type: Non Media')\n",
    "        result_2 = check_text(data['Text_copy'][count], count)\n",
    "        if (result_2 == 'Not Okay'):\n",
    "            print('Result: TOXIC')\n",
    "            alert_user(data['username'][count], data['Text_copy'][count])\n",
    "\n",
    "        else:\n",
    "            print('Result: NOT TOXIC')\n",
    "            "
   ]
  },
  {
   "cell_type": "code",
   "execution_count": 12,
   "metadata": {},
   "outputs": [],
   "source": [
    "def check_text(i, count):\n",
    "    count = count\n",
    "    input_data = i.replace('itstestingnews','')\n",
    "    input_data = input_data.replace('itstestingviews','')\n",
    "    input_data = input_data.replace('itstestingimage','')\n",
    "    #input_data = input_data[1:]\n",
    "    print(input_data)\n",
    "    result = comment_processing(input_data)\n",
    "    return (result)\n",
    "    count = count + 1"
   ]
  },
  {
   "cell_type": "markdown",
   "metadata": {},
   "source": [
    "## 7. Notifying User"
   ]
  },
  {
   "cell_type": "code",
   "execution_count": 13,
   "metadata": {},
   "outputs": [],
   "source": [
    "def find_user(user):\n",
    "        print('called')\n",
    "        user_1=user\n",
    "        user_1=str(user_1)\n",
    "        print(user_1)\n",
    "        pattern = \"b'(.*?)'\"\n",
    "        user_2 =re.search(pattern, user_2).group(1)\n",
    "        print('Username: ',user_2)\n",
    "\n"
   ]
  },
  {
   "cell_type": "code",
   "execution_count": 14,
   "metadata": {},
   "outputs": [],
   "source": [
    "def alert_user(user_2, toxic_text):\n",
    "        toxic_text = toxic_text\n",
    "        user_2=str(user_2)\n",
    "        pattern = \"b'(.*?)'\"\n",
    "        user_2 =re.search(pattern, user_2).group(1)\n",
    "        print('Username: ',user_2)\n",
    "        message_user(user_2, toxic_text)\n",
    "    "
   ]
  },
  {
   "cell_type": "code",
   "execution_count": 15,
   "metadata": {
    "scrolled": true
   },
   "outputs": [],
   "source": [
    "def message_user(user_2, toxic_text):\n",
    "\n",
    "    consumer_key = 'S2DlfUPWxUKnNxBpvXS8Zq3qJ'\n",
    "    consumer_secret = 'xpsmNl47CEaKnTCpU60gAf9e5vBPdWFEA1Yo8J3zo3yagcnzaI'\n",
    "    access_token = '1210271480132427776-LrXaRRcSk3t1jHCnQW5C07POilxYqy'\n",
    "    access_token_secret = 'ubVK9MXUXOjri0BajCklxWzdUBm7aseGfWijmbqtKxToo'\n",
    "    YOUR_CONSUMER_KEY='xvz1evFS4wEEPTGEFPHBog'\n",
    "    AUTO_GENERATED_NONCE='kYjzVBB8Y0ZFabxSWbWovY3uYSQ2pTgmZeNu2VS4cg'\n",
    "    AUTO_GENERATED_SIGNATURE='tnnArxj06cWHq44gCs1OSKk/jLY'\n",
    "    AUTO_GENERATED_TIMESTAMP='1318622958'\n",
    "    USERS_ACCESS_TOKEN='370773112-GmHxMAgYyLbNEtIKZeRNFsMKPR9EyMZeS9weJAEb'\n",
    "    # Authenticate to Twitter\n",
    "    auth = tweepy.OAuthHandler(consumer_key, consumer_secret)\n",
    "    auth.set_access_token(access_token, access_token_secret)\n",
    "    user='@tuhina42362128'\n",
    "    api = tweepy.API(auth)\n",
    "    #print('API: ',api)\n",
    "\n",
    "    recipient_id = api.get_user(user_2).id\n",
    "    #print(recipient_id)\n",
    "\n",
    "    text = 'Your following Tweet: ' + '\"'+ toxic_text +'\"'+ ' might have a negative social impact. Hereby, You are requested to delete it.'\n",
    "\n",
    "    # sending the direct message \n",
    "    try:\n",
    "          direct_message = api.send_direct_message(recipient_id, text) \n",
    "\n",
    "          # printing the text of the sent direct message \n",
    "          print('User Notified') \n",
    "\n",
    "    except tweepy.error.TweepError:\n",
    "            print('Not Possible')"
   ]
  },
  {
   "cell_type": "markdown",
   "metadata": {},
   "source": [
    "## 8. Scraping tweets"
   ]
  },
  {
   "cell_type": "markdown",
   "metadata": {},
   "source": [
    "In order to start scraping the tweets, you need to follow the following steps:\n",
    "1. Use any other twitter account and not the one whose api you have used for monitoring, such that both the accounts\n",
    "   follow each other\n",
    "2. From that account, post 3 things\n",
    "        1. an image as a tweet using the hashtag #itstestingimage\n",
    "        2. a text as a tweet using the hastag #itstestingviews\n",
    "        3. a news (formulate a news from the COVID.csv given for convinience) as a tweet using the hashtag #itstestingnews\n",
    "3. Once you have posted the tweets, run the code given below, you shall see a message from the API account if any of the          text or image posted is inappropriate. For the news, you shall see a comment with the URL of the most similar news              found from the Bot account (The account whose Twitter API key is used)."
   ]
  },
  {
   "cell_type": "code",
   "execution_count": 16,
   "metadata": {},
   "outputs": [
    {
     "name": "stdout",
     "output_type": "stream",
     "text": [
      "itstestingimage\n",
      " \n",
      "XXXXX\n",
      "Status(_api=<tweepy.api.API object at 0x000001704FF46D08>, _json={'created_at': 'Wed Sep 09 14:23:09 +0000 2020', 'id': 1303700476953636864, 'id_str': '1303700476953636864', 'full_text': '#itstestingimage https://t.co/JbtNPxm54G', 'truncated': False, 'display_text_range': [0, 16], 'entities': {'hashtags': [{'text': 'itstestingimage', 'indices': [0, 16]}], 'symbols': [], 'user_mentions': [], 'urls': [], 'media': [{'id': 1303700462512664576, 'id_str': '1303700462512664576', 'indices': [17, 40], 'media_url': 'http://pbs.twimg.com/media/EhesqdGUcAAfpQ8.jpg', 'media_url_https': 'https://pbs.twimg.com/media/EhesqdGUcAAfpQ8.jpg', 'url': 'https://t.co/JbtNPxm54G', 'display_url': 'pic.twitter.com/JbtNPxm54G', 'expanded_url': 'https://twitter.com/Itspossible17/status/1303700476953636864/photo/1', 'type': 'photo', 'sizes': {'small': {'w': 453, 'h': 680, 'resize': 'fit'}, 'large': {'w': 480, 'h': 720, 'resize': 'fit'}, 'thumb': {'w': 150, 'h': 150, 'resize': 'crop'}, 'medium': {'w': 480, 'h': 720, 'resize': 'fit'}}}]}, 'extended_entities': {'media': [{'id': 1303700462512664576, 'id_str': '1303700462512664576', 'indices': [17, 40], 'media_url': 'http://pbs.twimg.com/media/EhesqdGUcAAfpQ8.jpg', 'media_url_https': 'https://pbs.twimg.com/media/EhesqdGUcAAfpQ8.jpg', 'url': 'https://t.co/JbtNPxm54G', 'display_url': 'pic.twitter.com/JbtNPxm54G', 'expanded_url': 'https://twitter.com/Itspossible17/status/1303700476953636864/photo/1', 'type': 'photo', 'sizes': {'small': {'w': 453, 'h': 680, 'resize': 'fit'}, 'large': {'w': 480, 'h': 720, 'resize': 'fit'}, 'thumb': {'w': 150, 'h': 150, 'resize': 'crop'}, 'medium': {'w': 480, 'h': 720, 'resize': 'fit'}}}]}, 'metadata': {'iso_language_code': 'und', 'result_type': 'recent'}, 'source': '<a href=\"https://mobile.twitter.com\" rel=\"nofollow\">Twitter Web App</a>', 'in_reply_to_status_id': None, 'in_reply_to_status_id_str': None, 'in_reply_to_user_id': None, 'in_reply_to_user_id_str': None, 'in_reply_to_screen_name': None, 'user': {'id': 1282702365754187777, 'id_str': '1282702365754187777', 'name': 'Itspossible', 'screen_name': 'Itspossible17', 'location': '', 'description': 'Trial & error', 'url': None, 'entities': {'description': {'urls': []}}, 'protected': False, 'followers_count': 3, 'friends_count': 1, 'listed_count': 0, 'created_at': 'Mon Jul 13 15:52:37 +0000 2020', 'favourites_count': 0, 'utc_offset': None, 'time_zone': None, 'geo_enabled': False, 'verified': False, 'statuses_count': 4, 'lang': None, 'contributors_enabled': False, 'is_translator': False, 'is_translation_enabled': False, 'profile_background_color': 'F5F8FA', 'profile_background_image_url': None, 'profile_background_image_url_https': None, 'profile_background_tile': False, 'profile_image_url': 'http://pbs.twimg.com/profile_images/1282707496868573185/5AKffQKw_normal.png', 'profile_image_url_https': 'https://pbs.twimg.com/profile_images/1282707496868573185/5AKffQKw_normal.png', 'profile_banner_url': 'https://pbs.twimg.com/profile_banners/1282702365754187777/1594656343', 'profile_link_color': '1DA1F2', 'profile_sidebar_border_color': 'C0DEED', 'profile_sidebar_fill_color': 'DDEEF6', 'profile_text_color': '333333', 'profile_use_background_image': True, 'has_extended_profile': True, 'default_profile': True, 'default_profile_image': False, 'following': True, 'follow_request_sent': False, 'notifications': False, 'translator_type': 'none'}, 'geo': None, 'coordinates': None, 'place': None, 'contributors': None, 'is_quote_status': False, 'retweet_count': 0, 'favorite_count': 0, 'favorited': False, 'retweeted': False, 'possibly_sensitive': False, 'lang': 'und'}, created_at=datetime.datetime(2020, 9, 9, 14, 23, 9), id=1303700476953636864, id_str='1303700476953636864', full_text='#itstestingimage https://t.co/JbtNPxm54G', truncated=False, display_text_range=[0, 16], entities={'hashtags': [{'text': 'itstestingimage', 'indices': [0, 16]}], 'symbols': [], 'user_mentions': [], 'urls': [], 'media': [{'id': 1303700462512664576, 'id_str': '1303700462512664576', 'indices': [17, 40], 'media_url': 'http://pbs.twimg.com/media/EhesqdGUcAAfpQ8.jpg', 'media_url_https': 'https://pbs.twimg.com/media/EhesqdGUcAAfpQ8.jpg', 'url': 'https://t.co/JbtNPxm54G', 'display_url': 'pic.twitter.com/JbtNPxm54G', 'expanded_url': 'https://twitter.com/Itspossible17/status/1303700476953636864/photo/1', 'type': 'photo', 'sizes': {'small': {'w': 453, 'h': 680, 'resize': 'fit'}, 'large': {'w': 480, 'h': 720, 'resize': 'fit'}, 'thumb': {'w': 150, 'h': 150, 'resize': 'crop'}, 'medium': {'w': 480, 'h': 720, 'resize': 'fit'}}}]}, extended_entities={'media': [{'id': 1303700462512664576, 'id_str': '1303700462512664576', 'indices': [17, 40], 'media_url': 'http://pbs.twimg.com/media/EhesqdGUcAAfpQ8.jpg', 'media_url_https': 'https://pbs.twimg.com/media/EhesqdGUcAAfpQ8.jpg', 'url': 'https://t.co/JbtNPxm54G', 'display_url': 'pic.twitter.com/JbtNPxm54G', 'expanded_url': 'https://twitter.com/Itspossible17/status/1303700476953636864/photo/1', 'type': 'photo', 'sizes': {'small': {'w': 453, 'h': 680, 'resize': 'fit'}, 'large': {'w': 480, 'h': 720, 'resize': 'fit'}, 'thumb': {'w': 150, 'h': 150, 'resize': 'crop'}, 'medium': {'w': 480, 'h': 720, 'resize': 'fit'}}}]}, metadata={'iso_language_code': 'und', 'result_type': 'recent'}, source='Twitter Web App', source_url='https://mobile.twitter.com', in_reply_to_status_id=None, in_reply_to_status_id_str=None, in_reply_to_user_id=None, in_reply_to_user_id_str=None, in_reply_to_screen_name=None, author=User(_api=<tweepy.api.API object at 0x000001704FF46D08>, _json={'id': 1282702365754187777, 'id_str': '1282702365754187777', 'name': 'Itspossible', 'screen_name': 'Itspossible17', 'location': '', 'description': 'Trial & error', 'url': None, 'entities': {'description': {'urls': []}}, 'protected': False, 'followers_count': 3, 'friends_count': 1, 'listed_count': 0, 'created_at': 'Mon Jul 13 15:52:37 +0000 2020', 'favourites_count': 0, 'utc_offset': None, 'time_zone': None, 'geo_enabled': False, 'verified': False, 'statuses_count': 4, 'lang': None, 'contributors_enabled': False, 'is_translator': False, 'is_translation_enabled': False, 'profile_background_color': 'F5F8FA', 'profile_background_image_url': None, 'profile_background_image_url_https': None, 'profile_background_tile': False, 'profile_image_url': 'http://pbs.twimg.com/profile_images/1282707496868573185/5AKffQKw_normal.png', 'profile_image_url_https': 'https://pbs.twimg.com/profile_images/1282707496868573185/5AKffQKw_normal.png', 'profile_banner_url': 'https://pbs.twimg.com/profile_banners/1282702365754187777/1594656343', 'profile_link_color': '1DA1F2', 'profile_sidebar_border_color': 'C0DEED', 'profile_sidebar_fill_color': 'DDEEF6', 'profile_text_color': '333333', 'profile_use_background_image': True, 'has_extended_profile': True, 'default_profile': True, 'default_profile_image': False, 'following': True, 'follow_request_sent': False, 'notifications': False, 'translator_type': 'none'}, id=1282702365754187777, id_str='1282702365754187777', name='Itspossible', screen_name='Itspossible17', location='', description='Trial & error', url=None, entities={'description': {'urls': []}}, protected=False, followers_count=3, friends_count=1, listed_count=0, created_at=datetime.datetime(2020, 7, 13, 15, 52, 37), favourites_count=0, utc_offset=None, time_zone=None, geo_enabled=False, verified=False, statuses_count=4, lang=None, contributors_enabled=False, is_translator=False, is_translation_enabled=False, profile_background_color='F5F8FA', profile_background_image_url=None, profile_background_image_url_https=None, profile_background_tile=False, profile_image_url='http://pbs.twimg.com/profile_images/1282707496868573185/5AKffQKw_normal.png', profile_image_url_https='https://pbs.twimg.com/profile_images/1282707496868573185/5AKffQKw_normal.png', profile_banner_url='https://pbs.twimg.com/profile_banners/1282702365754187777/1594656343', profile_link_color='1DA1F2', profile_sidebar_border_color='C0DEED', profile_sidebar_fill_color='DDEEF6', profile_text_color='333333', profile_use_background_image=True, has_extended_profile=True, default_profile=True, default_profile_image=False, following=True, follow_request_sent=False, notifications=False, translator_type='none'), user=User(_api=<tweepy.api.API object at 0x000001704FF46D08>, _json={'id': 1282702365754187777, 'id_str': '1282702365754187777', 'name': 'Itspossible', 'screen_name': 'Itspossible17', 'location': '', 'description': 'Trial & error', 'url': None, 'entities': {'description': {'urls': []}}, 'protected': False, 'followers_count': 3, 'friends_count': 1, 'listed_count': 0, 'created_at': 'Mon Jul 13 15:52:37 +0000 2020', 'favourites_count': 0, 'utc_offset': None, 'time_zone': None, 'geo_enabled': False, 'verified': False, 'statuses_count': 4, 'lang': None, 'contributors_enabled': False, 'is_translator': False, 'is_translation_enabled': False, 'profile_background_color': 'F5F8FA', 'profile_background_image_url': None, 'profile_background_image_url_https': None, 'profile_background_tile': False, 'profile_image_url': 'http://pbs.twimg.com/profile_images/1282707496868573185/5AKffQKw_normal.png', 'profile_image_url_https': 'https://pbs.twimg.com/profile_images/1282707496868573185/5AKffQKw_normal.png', 'profile_banner_url': 'https://pbs.twimg.com/profile_banners/1282702365754187777/1594656343', 'profile_link_color': '1DA1F2', 'profile_sidebar_border_color': 'C0DEED', 'profile_sidebar_fill_color': 'DDEEF6', 'profile_text_color': '333333', 'profile_use_background_image': True, 'has_extended_profile': True, 'default_profile': True, 'default_profile_image': False, 'following': True, 'follow_request_sent': False, 'notifications': False, 'translator_type': 'none'}, id=1282702365754187777, id_str='1282702365754187777', name='Itspossible', screen_name='Itspossible17', location='', description='Trial & error', url=None, entities={'description': {'urls': []}}, protected=False, followers_count=3, friends_count=1, listed_count=0, created_at=datetime.datetime(2020, 7, 13, 15, 52, 37), favourites_count=0, utc_offset=None, time_zone=None, geo_enabled=False, verified=False, statuses_count=4, lang=None, contributors_enabled=False, is_translator=False, is_translation_enabled=False, profile_background_color='F5F8FA', profile_background_image_url=None, profile_background_image_url_https=None, profile_background_tile=False, profile_image_url='http://pbs.twimg.com/profile_images/1282707496868573185/5AKffQKw_normal.png', profile_image_url_https='https://pbs.twimg.com/profile_images/1282707496868573185/5AKffQKw_normal.png', profile_banner_url='https://pbs.twimg.com/profile_banners/1282702365754187777/1594656343', profile_link_color='1DA1F2', profile_sidebar_border_color='C0DEED', profile_sidebar_fill_color='DDEEF6', profile_text_color='333333', profile_use_background_image=True, has_extended_profile=True, default_profile=True, default_profile_image=False, following=True, follow_request_sent=False, notifications=False, translator_type='none'), geo=None, coordinates=None, place=None, contributors=None, is_quote_status=False, retweet_count=0, favorite_count=0, favorited=False, retweeted=False, possibly_sensitive=False, lang='und')\n"
     ]
    },
    {
     "name": "stdout",
     "output_type": "stream",
     "text": [
      "itstestingviews\n",
      " \n",
      "XXXXX\n",
      "Status(_api=<tweepy.api.API object at 0x000001704FF46D08>, _json={'created_at': 'Wed Sep 09 14:25:52 +0000 2020', 'id': 1303701159190822912, 'id_str': '1303701159190822912', 'full_text': '#itstestingviews\\n\\nYou need to learn to keep your mouth shut, you bastard', 'truncated': False, 'display_text_range': [0, 72], 'entities': {'hashtags': [{'text': 'itstestingviews', 'indices': [0, 16]}], 'symbols': [], 'user_mentions': [], 'urls': []}, 'metadata': {'iso_language_code': 'en', 'result_type': 'recent'}, 'source': '<a href=\"https://mobile.twitter.com\" rel=\"nofollow\">Twitter Web App</a>', 'in_reply_to_status_id': None, 'in_reply_to_status_id_str': None, 'in_reply_to_user_id': None, 'in_reply_to_user_id_str': None, 'in_reply_to_screen_name': None, 'user': {'id': 1282702365754187777, 'id_str': '1282702365754187777', 'name': 'Itspossible', 'screen_name': 'Itspossible17', 'location': '', 'description': 'Trial & error', 'url': None, 'entities': {'description': {'urls': []}}, 'protected': False, 'followers_count': 3, 'friends_count': 1, 'listed_count': 0, 'created_at': 'Mon Jul 13 15:52:37 +0000 2020', 'favourites_count': 0, 'utc_offset': None, 'time_zone': None, 'geo_enabled': False, 'verified': False, 'statuses_count': 4, 'lang': None, 'contributors_enabled': False, 'is_translator': False, 'is_translation_enabled': False, 'profile_background_color': 'F5F8FA', 'profile_background_image_url': None, 'profile_background_image_url_https': None, 'profile_background_tile': False, 'profile_image_url': 'http://pbs.twimg.com/profile_images/1282707496868573185/5AKffQKw_normal.png', 'profile_image_url_https': 'https://pbs.twimg.com/profile_images/1282707496868573185/5AKffQKw_normal.png', 'profile_banner_url': 'https://pbs.twimg.com/profile_banners/1282702365754187777/1594656343', 'profile_link_color': '1DA1F2', 'profile_sidebar_border_color': 'C0DEED', 'profile_sidebar_fill_color': 'DDEEF6', 'profile_text_color': '333333', 'profile_use_background_image': True, 'has_extended_profile': True, 'default_profile': True, 'default_profile_image': False, 'following': True, 'follow_request_sent': False, 'notifications': False, 'translator_type': 'none'}, 'geo': None, 'coordinates': None, 'place': None, 'contributors': None, 'is_quote_status': False, 'retweet_count': 0, 'favorite_count': 0, 'favorited': False, 'retweeted': False, 'lang': 'en'}, created_at=datetime.datetime(2020, 9, 9, 14, 25, 52), id=1303701159190822912, id_str='1303701159190822912', full_text='#itstestingviews\\n\\nYou need to learn to keep your mouth shut, you bastard', truncated=False, display_text_range=[0, 72], entities={'hashtags': [{'text': 'itstestingviews', 'indices': [0, 16]}], 'symbols': [], 'user_mentions': [], 'urls': []}, metadata={'iso_language_code': 'en', 'result_type': 'recent'}, source='Twitter Web App', source_url='https://mobile.twitter.com', in_reply_to_status_id=None, in_reply_to_status_id_str=None, in_reply_to_user_id=None, in_reply_to_user_id_str=None, in_reply_to_screen_name=None, author=User(_api=<tweepy.api.API object at 0x000001704FF46D08>, _json={'id': 1282702365754187777, 'id_str': '1282702365754187777', 'name': 'Itspossible', 'screen_name': 'Itspossible17', 'location': '', 'description': 'Trial & error', 'url': None, 'entities': {'description': {'urls': []}}, 'protected': False, 'followers_count': 3, 'friends_count': 1, 'listed_count': 0, 'created_at': 'Mon Jul 13 15:52:37 +0000 2020', 'favourites_count': 0, 'utc_offset': None, 'time_zone': None, 'geo_enabled': False, 'verified': False, 'statuses_count': 4, 'lang': None, 'contributors_enabled': False, 'is_translator': False, 'is_translation_enabled': False, 'profile_background_color': 'F5F8FA', 'profile_background_image_url': None, 'profile_background_image_url_https': None, 'profile_background_tile': False, 'profile_image_url': 'http://pbs.twimg.com/profile_images/1282707496868573185/5AKffQKw_normal.png', 'profile_image_url_https': 'https://pbs.twimg.com/profile_images/1282707496868573185/5AKffQKw_normal.png', 'profile_banner_url': 'https://pbs.twimg.com/profile_banners/1282702365754187777/1594656343', 'profile_link_color': '1DA1F2', 'profile_sidebar_border_color': 'C0DEED', 'profile_sidebar_fill_color': 'DDEEF6', 'profile_text_color': '333333', 'profile_use_background_image': True, 'has_extended_profile': True, 'default_profile': True, 'default_profile_image': False, 'following': True, 'follow_request_sent': False, 'notifications': False, 'translator_type': 'none'}, id=1282702365754187777, id_str='1282702365754187777', name='Itspossible', screen_name='Itspossible17', location='', description='Trial & error', url=None, entities={'description': {'urls': []}}, protected=False, followers_count=3, friends_count=1, listed_count=0, created_at=datetime.datetime(2020, 7, 13, 15, 52, 37), favourites_count=0, utc_offset=None, time_zone=None, geo_enabled=False, verified=False, statuses_count=4, lang=None, contributors_enabled=False, is_translator=False, is_translation_enabled=False, profile_background_color='F5F8FA', profile_background_image_url=None, profile_background_image_url_https=None, profile_background_tile=False, profile_image_url='http://pbs.twimg.com/profile_images/1282707496868573185/5AKffQKw_normal.png', profile_image_url_https='https://pbs.twimg.com/profile_images/1282707496868573185/5AKffQKw_normal.png', profile_banner_url='https://pbs.twimg.com/profile_banners/1282702365754187777/1594656343', profile_link_color='1DA1F2', profile_sidebar_border_color='C0DEED', profile_sidebar_fill_color='DDEEF6', profile_text_color='333333', profile_use_background_image=True, has_extended_profile=True, default_profile=True, default_profile_image=False, following=True, follow_request_sent=False, notifications=False, translator_type='none'), user=User(_api=<tweepy.api.API object at 0x000001704FF46D08>, _json={'id': 1282702365754187777, 'id_str': '1282702365754187777', 'name': 'Itspossible', 'screen_name': 'Itspossible17', 'location': '', 'description': 'Trial & error', 'url': None, 'entities': {'description': {'urls': []}}, 'protected': False, 'followers_count': 3, 'friends_count': 1, 'listed_count': 0, 'created_at': 'Mon Jul 13 15:52:37 +0000 2020', 'favourites_count': 0, 'utc_offset': None, 'time_zone': None, 'geo_enabled': False, 'verified': False, 'statuses_count': 4, 'lang': None, 'contributors_enabled': False, 'is_translator': False, 'is_translation_enabled': False, 'profile_background_color': 'F5F8FA', 'profile_background_image_url': None, 'profile_background_image_url_https': None, 'profile_background_tile': False, 'profile_image_url': 'http://pbs.twimg.com/profile_images/1282707496868573185/5AKffQKw_normal.png', 'profile_image_url_https': 'https://pbs.twimg.com/profile_images/1282707496868573185/5AKffQKw_normal.png', 'profile_banner_url': 'https://pbs.twimg.com/profile_banners/1282702365754187777/1594656343', 'profile_link_color': '1DA1F2', 'profile_sidebar_border_color': 'C0DEED', 'profile_sidebar_fill_color': 'DDEEF6', 'profile_text_color': '333333', 'profile_use_background_image': True, 'has_extended_profile': True, 'default_profile': True, 'default_profile_image': False, 'following': True, 'follow_request_sent': False, 'notifications': False, 'translator_type': 'none'}, id=1282702365754187777, id_str='1282702365754187777', name='Itspossible', screen_name='Itspossible17', location='', description='Trial & error', url=None, entities={'description': {'urls': []}}, protected=False, followers_count=3, friends_count=1, listed_count=0, created_at=datetime.datetime(2020, 7, 13, 15, 52, 37), favourites_count=0, utc_offset=None, time_zone=None, geo_enabled=False, verified=False, statuses_count=4, lang=None, contributors_enabled=False, is_translator=False, is_translation_enabled=False, profile_background_color='F5F8FA', profile_background_image_url=None, profile_background_image_url_https=None, profile_background_tile=False, profile_image_url='http://pbs.twimg.com/profile_images/1282707496868573185/5AKffQKw_normal.png', profile_image_url_https='https://pbs.twimg.com/profile_images/1282707496868573185/5AKffQKw_normal.png', profile_banner_url='https://pbs.twimg.com/profile_banners/1282702365754187777/1594656343', profile_link_color='1DA1F2', profile_sidebar_border_color='C0DEED', profile_sidebar_fill_color='DDEEF6', profile_text_color='333333', profile_use_background_image=True, has_extended_profile=True, default_profile=True, default_profile_image=False, following=True, follow_request_sent=False, notifications=False, translator_type='none'), geo=None, coordinates=None, place=None, contributors=None, is_quote_status=False, retweet_count=0, favorite_count=0, favorited=False, retweeted=False, lang='en')\n"
     ]
    },
    {
     "name": "stdout",
     "output_type": "stream",
     "text": [
      "itstestingnews\n",
      " \n",
      "XXXXX\n",
      "Status(_api=<tweepy.api.API object at 0x000001704FF46D08>, _json={'created_at': 'Thu Sep 10 03:30:14 +0000 2020', 'id': 1303898549462081537, 'id_str': '1303898549462081537', 'full_text': '#itstestingnews https://t.co/TTxvjqwZTo', 'truncated': False, 'display_text_range': [0, 15], 'entities': {'hashtags': [{'text': 'itstestingnews', 'indices': [0, 15]}], 'symbols': [], 'user_mentions': [], 'urls': [], 'media': [{'id': 1303898540461105153, 'id_str': '1303898540461105153', 'indices': [16, 39], 'media_url': 'http://pbs.twimg.com/media/Ehhg0G9VoAEi92N.jpg', 'media_url_https': 'https://pbs.twimg.com/media/Ehhg0G9VoAEi92N.jpg', 'url': 'https://t.co/TTxvjqwZTo', 'display_url': 'pic.twitter.com/TTxvjqwZTo', 'expanded_url': 'https://twitter.com/Itspossible17/status/1303898549462081537/photo/1', 'type': 'photo', 'sizes': {'thumb': {'w': 150, 'h': 150, 'resize': 'crop'}, 'medium': {'w': 614, 'h': 196, 'resize': 'fit'}, 'large': {'w': 614, 'h': 196, 'resize': 'fit'}, 'small': {'w': 614, 'h': 196, 'resize': 'fit'}}}]}, 'extended_entities': {'media': [{'id': 1303898540461105153, 'id_str': '1303898540461105153', 'indices': [16, 39], 'media_url': 'http://pbs.twimg.com/media/Ehhg0G9VoAEi92N.jpg', 'media_url_https': 'https://pbs.twimg.com/media/Ehhg0G9VoAEi92N.jpg', 'url': 'https://t.co/TTxvjqwZTo', 'display_url': 'pic.twitter.com/TTxvjqwZTo', 'expanded_url': 'https://twitter.com/Itspossible17/status/1303898549462081537/photo/1', 'type': 'photo', 'sizes': {'thumb': {'w': 150, 'h': 150, 'resize': 'crop'}, 'medium': {'w': 614, 'h': 196, 'resize': 'fit'}, 'large': {'w': 614, 'h': 196, 'resize': 'fit'}, 'small': {'w': 614, 'h': 196, 'resize': 'fit'}}}]}, 'metadata': {'iso_language_code': 'und', 'result_type': 'recent'}, 'source': '<a href=\"https://mobile.twitter.com\" rel=\"nofollow\">Twitter Web App</a>', 'in_reply_to_status_id': None, 'in_reply_to_status_id_str': None, 'in_reply_to_user_id': None, 'in_reply_to_user_id_str': None, 'in_reply_to_screen_name': None, 'user': {'id': 1282702365754187777, 'id_str': '1282702365754187777', 'name': 'Itspossible', 'screen_name': 'Itspossible17', 'location': '', 'description': 'Trial & error', 'url': None, 'entities': {'description': {'urls': []}}, 'protected': False, 'followers_count': 3, 'friends_count': 1, 'listed_count': 0, 'created_at': 'Mon Jul 13 15:52:37 +0000 2020', 'favourites_count': 0, 'utc_offset': None, 'time_zone': None, 'geo_enabled': False, 'verified': False, 'statuses_count': 4, 'lang': None, 'contributors_enabled': False, 'is_translator': False, 'is_translation_enabled': False, 'profile_background_color': 'F5F8FA', 'profile_background_image_url': None, 'profile_background_image_url_https': None, 'profile_background_tile': False, 'profile_image_url': 'http://pbs.twimg.com/profile_images/1282707496868573185/5AKffQKw_normal.png', 'profile_image_url_https': 'https://pbs.twimg.com/profile_images/1282707496868573185/5AKffQKw_normal.png', 'profile_banner_url': 'https://pbs.twimg.com/profile_banners/1282702365754187777/1594656343', 'profile_link_color': '1DA1F2', 'profile_sidebar_border_color': 'C0DEED', 'profile_sidebar_fill_color': 'DDEEF6', 'profile_text_color': '333333', 'profile_use_background_image': True, 'has_extended_profile': True, 'default_profile': True, 'default_profile_image': False, 'following': True, 'follow_request_sent': False, 'notifications': False, 'translator_type': 'none'}, 'geo': None, 'coordinates': None, 'place': None, 'contributors': None, 'is_quote_status': False, 'retweet_count': 0, 'favorite_count': 0, 'favorited': False, 'retweeted': False, 'possibly_sensitive': False, 'lang': 'und'}, created_at=datetime.datetime(2020, 9, 10, 3, 30, 14), id=1303898549462081537, id_str='1303898549462081537', full_text='#itstestingnews https://t.co/TTxvjqwZTo', truncated=False, display_text_range=[0, 15], entities={'hashtags': [{'text': 'itstestingnews', 'indices': [0, 15]}], 'symbols': [], 'user_mentions': [], 'urls': [], 'media': [{'id': 1303898540461105153, 'id_str': '1303898540461105153', 'indices': [16, 39], 'media_url': 'http://pbs.twimg.com/media/Ehhg0G9VoAEi92N.jpg', 'media_url_https': 'https://pbs.twimg.com/media/Ehhg0G9VoAEi92N.jpg', 'url': 'https://t.co/TTxvjqwZTo', 'display_url': 'pic.twitter.com/TTxvjqwZTo', 'expanded_url': 'https://twitter.com/Itspossible17/status/1303898549462081537/photo/1', 'type': 'photo', 'sizes': {'thumb': {'w': 150, 'h': 150, 'resize': 'crop'}, 'medium': {'w': 614, 'h': 196, 'resize': 'fit'}, 'large': {'w': 614, 'h': 196, 'resize': 'fit'}, 'small': {'w': 614, 'h': 196, 'resize': 'fit'}}}]}, extended_entities={'media': [{'id': 1303898540461105153, 'id_str': '1303898540461105153', 'indices': [16, 39], 'media_url': 'http://pbs.twimg.com/media/Ehhg0G9VoAEi92N.jpg', 'media_url_https': 'https://pbs.twimg.com/media/Ehhg0G9VoAEi92N.jpg', 'url': 'https://t.co/TTxvjqwZTo', 'display_url': 'pic.twitter.com/TTxvjqwZTo', 'expanded_url': 'https://twitter.com/Itspossible17/status/1303898549462081537/photo/1', 'type': 'photo', 'sizes': {'thumb': {'w': 150, 'h': 150, 'resize': 'crop'}, 'medium': {'w': 614, 'h': 196, 'resize': 'fit'}, 'large': {'w': 614, 'h': 196, 'resize': 'fit'}, 'small': {'w': 614, 'h': 196, 'resize': 'fit'}}}]}, metadata={'iso_language_code': 'und', 'result_type': 'recent'}, source='Twitter Web App', source_url='https://mobile.twitter.com', in_reply_to_status_id=None, in_reply_to_status_id_str=None, in_reply_to_user_id=None, in_reply_to_user_id_str=None, in_reply_to_screen_name=None, author=User(_api=<tweepy.api.API object at 0x000001704FF46D08>, _json={'id': 1282702365754187777, 'id_str': '1282702365754187777', 'name': 'Itspossible', 'screen_name': 'Itspossible17', 'location': '', 'description': 'Trial & error', 'url': None, 'entities': {'description': {'urls': []}}, 'protected': False, 'followers_count': 3, 'friends_count': 1, 'listed_count': 0, 'created_at': 'Mon Jul 13 15:52:37 +0000 2020', 'favourites_count': 0, 'utc_offset': None, 'time_zone': None, 'geo_enabled': False, 'verified': False, 'statuses_count': 4, 'lang': None, 'contributors_enabled': False, 'is_translator': False, 'is_translation_enabled': False, 'profile_background_color': 'F5F8FA', 'profile_background_image_url': None, 'profile_background_image_url_https': None, 'profile_background_tile': False, 'profile_image_url': 'http://pbs.twimg.com/profile_images/1282707496868573185/5AKffQKw_normal.png', 'profile_image_url_https': 'https://pbs.twimg.com/profile_images/1282707496868573185/5AKffQKw_normal.png', 'profile_banner_url': 'https://pbs.twimg.com/profile_banners/1282702365754187777/1594656343', 'profile_link_color': '1DA1F2', 'profile_sidebar_border_color': 'C0DEED', 'profile_sidebar_fill_color': 'DDEEF6', 'profile_text_color': '333333', 'profile_use_background_image': True, 'has_extended_profile': True, 'default_profile': True, 'default_profile_image': False, 'following': True, 'follow_request_sent': False, 'notifications': False, 'translator_type': 'none'}, id=1282702365754187777, id_str='1282702365754187777', name='Itspossible', screen_name='Itspossible17', location='', description='Trial & error', url=None, entities={'description': {'urls': []}}, protected=False, followers_count=3, friends_count=1, listed_count=0, created_at=datetime.datetime(2020, 7, 13, 15, 52, 37), favourites_count=0, utc_offset=None, time_zone=None, geo_enabled=False, verified=False, statuses_count=4, lang=None, contributors_enabled=False, is_translator=False, is_translation_enabled=False, profile_background_color='F5F8FA', profile_background_image_url=None, profile_background_image_url_https=None, profile_background_tile=False, profile_image_url='http://pbs.twimg.com/profile_images/1282707496868573185/5AKffQKw_normal.png', profile_image_url_https='https://pbs.twimg.com/profile_images/1282707496868573185/5AKffQKw_normal.png', profile_banner_url='https://pbs.twimg.com/profile_banners/1282702365754187777/1594656343', profile_link_color='1DA1F2', profile_sidebar_border_color='C0DEED', profile_sidebar_fill_color='DDEEF6', profile_text_color='333333', profile_use_background_image=True, has_extended_profile=True, default_profile=True, default_profile_image=False, following=True, follow_request_sent=False, notifications=False, translator_type='none'), user=User(_api=<tweepy.api.API object at 0x000001704FF46D08>, _json={'id': 1282702365754187777, 'id_str': '1282702365754187777', 'name': 'Itspossible', 'screen_name': 'Itspossible17', 'location': '', 'description': 'Trial & error', 'url': None, 'entities': {'description': {'urls': []}}, 'protected': False, 'followers_count': 3, 'friends_count': 1, 'listed_count': 0, 'created_at': 'Mon Jul 13 15:52:37 +0000 2020', 'favourites_count': 0, 'utc_offset': None, 'time_zone': None, 'geo_enabled': False, 'verified': False, 'statuses_count': 4, 'lang': None, 'contributors_enabled': False, 'is_translator': False, 'is_translation_enabled': False, 'profile_background_color': 'F5F8FA', 'profile_background_image_url': None, 'profile_background_image_url_https': None, 'profile_background_tile': False, 'profile_image_url': 'http://pbs.twimg.com/profile_images/1282707496868573185/5AKffQKw_normal.png', 'profile_image_url_https': 'https://pbs.twimg.com/profile_images/1282707496868573185/5AKffQKw_normal.png', 'profile_banner_url': 'https://pbs.twimg.com/profile_banners/1282702365754187777/1594656343', 'profile_link_color': '1DA1F2', 'profile_sidebar_border_color': 'C0DEED', 'profile_sidebar_fill_color': 'DDEEF6', 'profile_text_color': '333333', 'profile_use_background_image': True, 'has_extended_profile': True, 'default_profile': True, 'default_profile_image': False, 'following': True, 'follow_request_sent': False, 'notifications': False, 'translator_type': 'none'}, id=1282702365754187777, id_str='1282702365754187777', name='Itspossible', screen_name='Itspossible17', location='', description='Trial & error', url=None, entities={'description': {'urls': []}}, protected=False, followers_count=3, friends_count=1, listed_count=0, created_at=datetime.datetime(2020, 7, 13, 15, 52, 37), favourites_count=0, utc_offset=None, time_zone=None, geo_enabled=False, verified=False, statuses_count=4, lang=None, contributors_enabled=False, is_translator=False, is_translation_enabled=False, profile_background_color='F5F8FA', profile_background_image_url=None, profile_background_image_url_https=None, profile_background_tile=False, profile_image_url='http://pbs.twimg.com/profile_images/1282707496868573185/5AKffQKw_normal.png', profile_image_url_https='https://pbs.twimg.com/profile_images/1282707496868573185/5AKffQKw_normal.png', profile_banner_url='https://pbs.twimg.com/profile_banners/1282702365754187777/1594656343', profile_link_color='1DA1F2', profile_sidebar_border_color='C0DEED', profile_sidebar_fill_color='DDEEF6', profile_text_color='333333', profile_use_background_image=True, has_extended_profile=True, default_profile=True, default_profile_image=False, following=True, follow_request_sent=False, notifications=False, translator_type='none'), geo=None, coordinates=None, place=None, contributors=None, is_quote_status=False, retweet_count=0, favorite_count=0, favorited=False, retweeted=False, possibly_sensitive=False, lang='und')\n",
      " \n",
      "XXXXX\n",
      "Status(_api=<tweepy.api.API object at 0x000001704FF46D08>, _json={'created_at': 'Wed Sep 09 14:23:35 +0000 2020', 'id': 1303700583799373825, 'id_str': '1303700583799373825', 'full_text': '#itstestingnews https://t.co/WwjOtwrlhK', 'truncated': False, 'display_text_range': [0, 15], 'entities': {'hashtags': [{'text': 'itstestingnews', 'indices': [0, 15]}], 'symbols': [], 'user_mentions': [], 'urls': [], 'media': [{'id': 1303700545039863809, 'id_str': '1303700545039863809', 'indices': [16, 39], 'media_url': 'http://pbs.twimg.com/media/EhesvQiVkAEIqkT.jpg', 'media_url_https': 'https://pbs.twimg.com/media/EhesvQiVkAEIqkT.jpg', 'url': 'https://t.co/WwjOtwrlhK', 'display_url': 'pic.twitter.com/WwjOtwrlhK', 'expanded_url': 'https://twitter.com/Itspossible17/status/1303700583799373825/photo/1', 'type': 'photo', 'sizes': {'thumb': {'w': 150, 'h': 150, 'resize': 'crop'}, 'medium': {'w': 614, 'h': 196, 'resize': 'fit'}, 'large': {'w': 614, 'h': 196, 'resize': 'fit'}, 'small': {'w': 614, 'h': 196, 'resize': 'fit'}}}]}, 'extended_entities': {'media': [{'id': 1303700545039863809, 'id_str': '1303700545039863809', 'indices': [16, 39], 'media_url': 'http://pbs.twimg.com/media/EhesvQiVkAEIqkT.jpg', 'media_url_https': 'https://pbs.twimg.com/media/EhesvQiVkAEIqkT.jpg', 'url': 'https://t.co/WwjOtwrlhK', 'display_url': 'pic.twitter.com/WwjOtwrlhK', 'expanded_url': 'https://twitter.com/Itspossible17/status/1303700583799373825/photo/1', 'type': 'photo', 'sizes': {'thumb': {'w': 150, 'h': 150, 'resize': 'crop'}, 'medium': {'w': 614, 'h': 196, 'resize': 'fit'}, 'large': {'w': 614, 'h': 196, 'resize': 'fit'}, 'small': {'w': 614, 'h': 196, 'resize': 'fit'}}}]}, 'metadata': {'iso_language_code': 'und', 'result_type': 'recent'}, 'source': '<a href=\"https://mobile.twitter.com\" rel=\"nofollow\">Twitter Web App</a>', 'in_reply_to_status_id': None, 'in_reply_to_status_id_str': None, 'in_reply_to_user_id': None, 'in_reply_to_user_id_str': None, 'in_reply_to_screen_name': None, 'user': {'id': 1282702365754187777, 'id_str': '1282702365754187777', 'name': 'Itspossible', 'screen_name': 'Itspossible17', 'location': '', 'description': 'Trial & error', 'url': None, 'entities': {'description': {'urls': []}}, 'protected': False, 'followers_count': 3, 'friends_count': 1, 'listed_count': 0, 'created_at': 'Mon Jul 13 15:52:37 +0000 2020', 'favourites_count': 0, 'utc_offset': None, 'time_zone': None, 'geo_enabled': False, 'verified': False, 'statuses_count': 4, 'lang': None, 'contributors_enabled': False, 'is_translator': False, 'is_translation_enabled': False, 'profile_background_color': 'F5F8FA', 'profile_background_image_url': None, 'profile_background_image_url_https': None, 'profile_background_tile': False, 'profile_image_url': 'http://pbs.twimg.com/profile_images/1282707496868573185/5AKffQKw_normal.png', 'profile_image_url_https': 'https://pbs.twimg.com/profile_images/1282707496868573185/5AKffQKw_normal.png', 'profile_banner_url': 'https://pbs.twimg.com/profile_banners/1282702365754187777/1594656343', 'profile_link_color': '1DA1F2', 'profile_sidebar_border_color': 'C0DEED', 'profile_sidebar_fill_color': 'DDEEF6', 'profile_text_color': '333333', 'profile_use_background_image': True, 'has_extended_profile': True, 'default_profile': True, 'default_profile_image': False, 'following': True, 'follow_request_sent': False, 'notifications': False, 'translator_type': 'none'}, 'geo': None, 'coordinates': None, 'place': None, 'contributors': None, 'is_quote_status': False, 'retweet_count': 0, 'favorite_count': 0, 'favorited': False, 'retweeted': False, 'possibly_sensitive': False, 'lang': 'und'}, created_at=datetime.datetime(2020, 9, 9, 14, 23, 35), id=1303700583799373825, id_str='1303700583799373825', full_text='#itstestingnews https://t.co/WwjOtwrlhK', truncated=False, display_text_range=[0, 15], entities={'hashtags': [{'text': 'itstestingnews', 'indices': [0, 15]}], 'symbols': [], 'user_mentions': [], 'urls': [], 'media': [{'id': 1303700545039863809, 'id_str': '1303700545039863809', 'indices': [16, 39], 'media_url': 'http://pbs.twimg.com/media/EhesvQiVkAEIqkT.jpg', 'media_url_https': 'https://pbs.twimg.com/media/EhesvQiVkAEIqkT.jpg', 'url': 'https://t.co/WwjOtwrlhK', 'display_url': 'pic.twitter.com/WwjOtwrlhK', 'expanded_url': 'https://twitter.com/Itspossible17/status/1303700583799373825/photo/1', 'type': 'photo', 'sizes': {'thumb': {'w': 150, 'h': 150, 'resize': 'crop'}, 'medium': {'w': 614, 'h': 196, 'resize': 'fit'}, 'large': {'w': 614, 'h': 196, 'resize': 'fit'}, 'small': {'w': 614, 'h': 196, 'resize': 'fit'}}}]}, extended_entities={'media': [{'id': 1303700545039863809, 'id_str': '1303700545039863809', 'indices': [16, 39], 'media_url': 'http://pbs.twimg.com/media/EhesvQiVkAEIqkT.jpg', 'media_url_https': 'https://pbs.twimg.com/media/EhesvQiVkAEIqkT.jpg', 'url': 'https://t.co/WwjOtwrlhK', 'display_url': 'pic.twitter.com/WwjOtwrlhK', 'expanded_url': 'https://twitter.com/Itspossible17/status/1303700583799373825/photo/1', 'type': 'photo', 'sizes': {'thumb': {'w': 150, 'h': 150, 'resize': 'crop'}, 'medium': {'w': 614, 'h': 196, 'resize': 'fit'}, 'large': {'w': 614, 'h': 196, 'resize': 'fit'}, 'small': {'w': 614, 'h': 196, 'resize': 'fit'}}}]}, metadata={'iso_language_code': 'und', 'result_type': 'recent'}, source='Twitter Web App', source_url='https://mobile.twitter.com', in_reply_to_status_id=None, in_reply_to_status_id_str=None, in_reply_to_user_id=None, in_reply_to_user_id_str=None, in_reply_to_screen_name=None, author=User(_api=<tweepy.api.API object at 0x000001704FF46D08>, _json={'id': 1282702365754187777, 'id_str': '1282702365754187777', 'name': 'Itspossible', 'screen_name': 'Itspossible17', 'location': '', 'description': 'Trial & error', 'url': None, 'entities': {'description': {'urls': []}}, 'protected': False, 'followers_count': 3, 'friends_count': 1, 'listed_count': 0, 'created_at': 'Mon Jul 13 15:52:37 +0000 2020', 'favourites_count': 0, 'utc_offset': None, 'time_zone': None, 'geo_enabled': False, 'verified': False, 'statuses_count': 4, 'lang': None, 'contributors_enabled': False, 'is_translator': False, 'is_translation_enabled': False, 'profile_background_color': 'F5F8FA', 'profile_background_image_url': None, 'profile_background_image_url_https': None, 'profile_background_tile': False, 'profile_image_url': 'http://pbs.twimg.com/profile_images/1282707496868573185/5AKffQKw_normal.png', 'profile_image_url_https': 'https://pbs.twimg.com/profile_images/1282707496868573185/5AKffQKw_normal.png', 'profile_banner_url': 'https://pbs.twimg.com/profile_banners/1282702365754187777/1594656343', 'profile_link_color': '1DA1F2', 'profile_sidebar_border_color': 'C0DEED', 'profile_sidebar_fill_color': 'DDEEF6', 'profile_text_color': '333333', 'profile_use_background_image': True, 'has_extended_profile': True, 'default_profile': True, 'default_profile_image': False, 'following': True, 'follow_request_sent': False, 'notifications': False, 'translator_type': 'none'}, id=1282702365754187777, id_str='1282702365754187777', name='Itspossible', screen_name='Itspossible17', location='', description='Trial & error', url=None, entities={'description': {'urls': []}}, protected=False, followers_count=3, friends_count=1, listed_count=0, created_at=datetime.datetime(2020, 7, 13, 15, 52, 37), favourites_count=0, utc_offset=None, time_zone=None, geo_enabled=False, verified=False, statuses_count=4, lang=None, contributors_enabled=False, is_translator=False, is_translation_enabled=False, profile_background_color='F5F8FA', profile_background_image_url=None, profile_background_image_url_https=None, profile_background_tile=False, profile_image_url='http://pbs.twimg.com/profile_images/1282707496868573185/5AKffQKw_normal.png', profile_image_url_https='https://pbs.twimg.com/profile_images/1282707496868573185/5AKffQKw_normal.png', profile_banner_url='https://pbs.twimg.com/profile_banners/1282702365754187777/1594656343', profile_link_color='1DA1F2', profile_sidebar_border_color='C0DEED', profile_sidebar_fill_color='DDEEF6', profile_text_color='333333', profile_use_background_image=True, has_extended_profile=True, default_profile=True, default_profile_image=False, following=True, follow_request_sent=False, notifications=False, translator_type='none'), user=User(_api=<tweepy.api.API object at 0x000001704FF46D08>, _json={'id': 1282702365754187777, 'id_str': '1282702365754187777', 'name': 'Itspossible', 'screen_name': 'Itspossible17', 'location': '', 'description': 'Trial & error', 'url': None, 'entities': {'description': {'urls': []}}, 'protected': False, 'followers_count': 3, 'friends_count': 1, 'listed_count': 0, 'created_at': 'Mon Jul 13 15:52:37 +0000 2020', 'favourites_count': 0, 'utc_offset': None, 'time_zone': None, 'geo_enabled': False, 'verified': False, 'statuses_count': 4, 'lang': None, 'contributors_enabled': False, 'is_translator': False, 'is_translation_enabled': False, 'profile_background_color': 'F5F8FA', 'profile_background_image_url': None, 'profile_background_image_url_https': None, 'profile_background_tile': False, 'profile_image_url': 'http://pbs.twimg.com/profile_images/1282707496868573185/5AKffQKw_normal.png', 'profile_image_url_https': 'https://pbs.twimg.com/profile_images/1282707496868573185/5AKffQKw_normal.png', 'profile_banner_url': 'https://pbs.twimg.com/profile_banners/1282702365754187777/1594656343', 'profile_link_color': '1DA1F2', 'profile_sidebar_border_color': 'C0DEED', 'profile_sidebar_fill_color': 'DDEEF6', 'profile_text_color': '333333', 'profile_use_background_image': True, 'has_extended_profile': True, 'default_profile': True, 'default_profile_image': False, 'following': True, 'follow_request_sent': False, 'notifications': False, 'translator_type': 'none'}, id=1282702365754187777, id_str='1282702365754187777', name='Itspossible', screen_name='Itspossible17', location='', description='Trial & error', url=None, entities={'description': {'urls': []}}, protected=False, followers_count=3, friends_count=1, listed_count=0, created_at=datetime.datetime(2020, 7, 13, 15, 52, 37), favourites_count=0, utc_offset=None, time_zone=None, geo_enabled=False, verified=False, statuses_count=4, lang=None, contributors_enabled=False, is_translator=False, is_translation_enabled=False, profile_background_color='F5F8FA', profile_background_image_url=None, profile_background_image_url_https=None, profile_background_tile=False, profile_image_url='http://pbs.twimg.com/profile_images/1282707496868573185/5AKffQKw_normal.png', profile_image_url_https='https://pbs.twimg.com/profile_images/1282707496868573185/5AKffQKw_normal.png', profile_banner_url='https://pbs.twimg.com/profile_banners/1282702365754187777/1594656343', profile_link_color='1DA1F2', profile_sidebar_border_color='C0DEED', profile_sidebar_fill_color='DDEEF6', profile_text_color='333333', profile_use_background_image=True, has_extended_profile=True, default_profile=True, default_profile_image=False, following=True, follow_request_sent=False, notifications=False, translator_type='none'), geo=None, coordinates=None, place=None, contributors=None, is_quote_status=False, retweet_count=0, favorite_count=0, favorited=False, retweeted=False, possibly_sensitive=False, lang='und')\n"
     ]
    },
    {
     "name": "stdout",
     "output_type": "stream",
     "text": [
      " \n",
      "Type: Media\n",
      "Image:  http://pbs.twimg.com/media/EhesqdGUcAAfpQ8.jpg\n",
      " \n",
      "Score 0\n",
      "Result: TOXIC\n",
      "Username:  Itspossible17\n",
      "User Notified\n",
      " \n",
      "Type: Non Media\n",
      "  You need to learn to keep your mouth shut you bastard\n",
      "Score:  1\n",
      "Result: TOXIC\n",
      "Username:  Itspossible17\n",
      "User Notified\n",
      "[('itstestingnews', 'NNS')]\n",
      "NNS\n",
      "[]\n",
      "Image:  http://pbs.twimg.com/media/Ehhg0G9VoAEi92N.jpg\n",
      "[('a', 'DT'), ('new', 'JJ'), ('product', 'NN'), ('has', 'VBZ'), ('been', 'VBN'), ('lauched', 'VBN'), ('by', 'IN'), ('samsung', 'NN'), ('having', 'VBG'), ('transparent', 'JJ'), ('display', 'NN')]\n",
      "DT\n",
      "JJ\n",
      "NN\n",
      "VBZ\n",
      "VBN\n",
      "VBN\n",
      "IN\n",
      "NN\n",
      "VBG\n",
      "JJ\n",
      "NN\n",
      "['product', 'samsung', 'display']\n",
      "XXXXXXXXXXXXXXXXXXXXXXXXXXXXXXXXXXXXXXXXXXXXXXXXXXXXXXXXXXXX\n",
      "XXXXXXXXXXXXXXXXXXXXXXXXXXXXXXXXXXXXXXXXXXXXXXXXXXXXXXXXXXXX\n",
      "XXXXXXXXXXXXXXXXXXXXXXXXXXXXXXXXXXXXXXXXXXXXXXXXXXXXXXXXXXXX\n",
      "Input News:  a new product\n",
      "has been lauched by samsung\n",
      "having transparent display Similar News Seoul South Korean tech giant Samsung has patented a new Galaxy smartphone with a futuristic looking transparent display Similarity Score:  0.25074294919378326 http://zeenews.india.com/technology/samsung-files-patent-for-galaxy-device-with-transparent-display-2308617.html\n",
      "[('itstestingnews', 'NNS')]\n",
      "NNS\n",
      "[]\n",
      "Image:  http://pbs.twimg.com/media/EhesvQiVkAEIqkT.jpg\n",
      "[('a', 'DT'), ('new', 'JJ'), ('product', 'NN'), ('has', 'VBZ'), ('been', 'VBN'), ('lauched', 'VBN'), ('by', 'IN'), ('samsung', 'NN'), ('having', 'VBG'), ('transparent', 'JJ'), ('display', 'NN')]\n",
      "DT\n",
      "JJ\n",
      "NN\n",
      "VBZ\n",
      "VBN\n",
      "VBN\n",
      "IN\n",
      "NN\n",
      "VBG\n",
      "JJ\n",
      "NN\n",
      "['product', 'samsung', 'display']\n",
      "XXXXXXXXXXXXXXXXXXXXXXXXXXXXXXXXXXXXXXXXXXXXXXXXXXXXXXXXXXXX\n",
      "XXXXXXXXXXXXXXXXXXXXXXXXXXXXXXXXXXXXXXXXXXXXXXXXXXXXXXXXXXXX\n",
      "XXXXXXXXXXXXXXXXXXXXXXXXXXXXXXXXXXXXXXXXXXXXXXXXXXXXXXXXXXXX\n",
      "Input News:  a new product\n",
      "has been lauched by samsung\n",
      "having transparent display Similar News Seoul South Korean tech giant Samsung has patented a new Galaxy smartphone with a futuristic looking transparent display Similarity Score:  0.25074294919378326 http://zeenews.india.com/technology/samsung-files-patent-for-galaxy-device-with-transparent-display-2308617.html\n"
     ]
    }
   ],
   "source": [
    "\n",
    "time.sleep(3)   \n",
    "auth = tweepy.OAuthHandler(consumer_key, consumer_secret)\n",
    "auth.set_access_token(access_token, access_token_secret)\n",
    "api = tweepy.API(auth)\n",
    "\n",
    "with open('itstesting.csv', 'w') as file:\n",
    "\n",
    "           w = csv.writer(file)\n",
    "           w.writerow(['id','timestamp', 'tweet_text', 'username', 'all_hashtags', 'followers_count', 'media_url'])\n",
    "\n",
    "\n",
    "hashtag_phrase_list = ['itstestingimage', 'itstestingviews', 'itstestingnews']\n",
    "for hashtag_phrase in hashtag_phrase_list:\n",
    "    print(hashtag_phrase)\n",
    "    fname = '_'.join(re.findall(r\"#(\\w+)\", hashtag_phrase))\n",
    "    count = 0\n",
    "    with open('itstesting.csv', 'a') as file:\n",
    "\n",
    "                w = csv.writer(file)\n",
    "                for tweet in tweepy.Cursor(api.search, q=hashtag_phrase+' -filter:retweets', tweet_mode='extended').items(100):\n",
    "                        print(' ')\n",
    "                        print('XXXXX')\n",
    "                        print(tweet)\n",
    "                        try:\n",
    "                            media = tweet.entities['media'][0]['media_url']\n",
    "\n",
    "                        except (NameError, KeyError):\n",
    "                            media = 'NULL'\n",
    "\n",
    "                        try:\n",
    "                            tweet_text = tweet.full_text.replace('\\n',' ').encode('utf-8')\n",
    "\n",
    "                        except (NameError, KeyError):\n",
    "                            tweet_text = 'NULL'\n",
    "\n",
    "                        count += 1\n",
    "                        w.writerow([tweet.id,tweet.created_at, tweet_text, tweet.user.screen_name.encode('utf-8'), [e['text'] for e in tweet._json['entities']['hashtags']], tweet.user.followers_count,media])\n",
    "                        #print(' ')\n",
    "data=pd.read_csv('itstesting.csv') \n",
    "data[\"Text_copy\"] = data[\"tweet_text\"].apply(lambda x: remove_punct(x))\n",
    "\n",
    "data.to_csv('itstesting.csv', index=False)\n",
    "check_data=data['Text_copy']\n",
    "data['Text_copy'] = data['Text_copy'].apply(lambda x: x[1:])\n",
    "\n",
    "count = 0\n",
    "time.sleep(5)\n",
    "for hashtag in data['all_hashtags']:\n",
    "    if hashtag == \"['itstestingimage']\":\n",
    "        check_tweet(count)\n",
    "    if hashtag == \"['itstestingviews']\":\n",
    "        check_tweet(count)\n",
    "    if hashtag == \"['itstestingnews']\":\n",
    "        username = data['username'][count].split(\"'\")\n",
    "        username = '@' + username[1]\n",
    "        try:\n",
    "            check_news(data['Text_copy'][count], data['id'][count],username)\n",
    "        except:\n",
    "            check_newsimage(data['media_url'][count], data['id'][count],username)\n",
    "    count+=1"
   ]
  },
  {
   "cell_type": "code",
   "execution_count": null,
   "metadata": {},
   "outputs": [],
   "source": []
  }
 ],
 "metadata": {
  "kernelspec": {
   "display_name": "Python [conda env:SakshiEnv] *",
   "language": "python",
   "name": "conda-env-SakshiEnv-py"
  },
  "language_info": {
   "codemirror_mode": {
    "name": "ipython",
    "version": 3
   },
   "file_extension": ".py",
   "mimetype": "text/x-python",
   "name": "python",
   "nbconvert_exporter": "python",
   "pygments_lexer": "ipython3",
   "version": "3.7.6"
  }
 },
 "nbformat": 4,
 "nbformat_minor": 4
}
