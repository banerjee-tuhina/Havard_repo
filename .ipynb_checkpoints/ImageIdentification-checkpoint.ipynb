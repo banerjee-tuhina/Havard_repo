{
 "cells": [
  {
   "cell_type": "markdown",
   "metadata": {},
   "source": [
    "# Image Classification using Convolutional Neural Network (CNN)"
   ]
  },
  {
   "cell_type": "markdown",
   "metadata": {},
   "source": [
    "Convolutional Neural Network (CNN) is a Deep Learning Algorithm widely used for image classification. This algorithm classifies whether the posted image is acceptable or not acceptable depending upon whether it contains nude or gory content.  "
   ]
  },
  {
   "cell_type": "raw",
   "metadata": {},
   "source": [
    "Note: For testing the Web App, directly go to the Anvil Integration system and execute it.\n"
   ]
  },
  {
   "cell_type": "markdown",
   "metadata": {},
   "source": [
    "## 1. Importing Libraries"
   ]
  },
  {
   "cell_type": "code",
   "execution_count": 1,
   "metadata": {},
   "outputs": [
    {
     "name": "stdout",
     "output_type": "stream",
     "text": [
      "Connecting to wss://anvil.works/uplink\n",
      "Anvil websocket open\n",
      "Authenticated OK\n"
     ]
    }
   ],
   "source": [
    "import anvil.server\n",
    "import anvil.media\n",
    "import anvil.mpl_util\n",
    "\n",
    "\n",
    "anvil.server.connect(\"PJX2AL2HH5JGLC2BLUSKZQMZ-KYSL46SO2Y4TEIKK\")"
   ]
  },
  {
   "cell_type": "code",
   "execution_count": 2,
   "metadata": {},
   "outputs": [
    {
     "name": "stderr",
     "output_type": "stream",
     "text": [
      "Using TensorFlow backend.\n"
     ]
    }
   ],
   "source": [
    "import pandas as pd\n",
    "import numpy as np\n",
    "import tensorflow as tf\n",
    "import keras\n",
    "from keras.preprocessing.image import ImageDataGenerator\n",
    "from keras.preprocessing import image\n",
    "from keras.models import Sequential\n",
    "from keras.layers import Conv2D, MaxPooling2D, Flatten, Dense, Activation\n",
    "from PIL import Image\n",
    "import cv2\n",
    "import pickle\n",
    "import seaborn as sns \n",
    "import matplotlib.pyplot as plt "
   ]
  },
  {
   "cell_type": "markdown",
   "metadata": {},
   "source": [
    "## 2. Loading the Dataset containing Images"
   ]
  },
  {
   "cell_type": "code",
   "execution_count": 32,
   "metadata": {},
   "outputs": [
    {
     "name": "stdout",
     "output_type": "stream",
     "text": [
      "Found 268 images belonging to 6 classes.\n"
     ]
    }
   ],
   "source": [
    "train_data_gen = ImageDataGenerator( rescale = 1./255,\n",
    "                                   shear_range = 0.2,\n",
    "                                   zoom_range = 0.2,\n",
    "                                   horizontal_flip = True,\n",
    "                                   width_shift_range=0.2,\n",
    "                                   height_shift_range=0.2,\n",
    "                                   rotation_range=15,\n",
    "                                   vertical_flip=True,\n",
    "                                   fill_mode='reflect',\n",
    "                                   data_format='channels_last',\n",
    "                                   brightness_range=[0.5, 1.5],\n",
    "                                   featurewise_center=True,\n",
    "                                   featurewise_std_normalization=True\n",
    "                                   )\n",
    "\n",
    "train_data = train_data_gen.flow_from_directory(\n",
    "    directory = 'NSFW Test Dataset',\n",
    "    target_size = (32,32),\n",
    "    batch_size = 32,\n",
    "    class_mode = 'categorical')"
   ]
  },
  {
   "cell_type": "markdown",
   "metadata": {},
   "source": [
    "## 3. Defining the model architecture"
   ]
  },
  {
   "cell_type": "code",
   "execution_count": 34,
   "metadata": {},
   "outputs": [],
   "source": [
    "model = Sequential()\n",
    "\n",
    "model.add(Conv2D(32, (3,3), input_shape = (32,32,3), activation = 'relu'))\n",
    "model.add(MaxPooling2D(pool_size=(2,2)))\n",
    "\n",
    "model.add(Conv2D(32, (3,3), activation = 'relu'))\n",
    "model.add(MaxPooling2D(pool_size=(2,2)))\n",
    "\n",
    "model.add(Flatten())\n",
    "\n",
    "model.add(Dense(units=128, activation = 'relu'))\n",
    "model.add(Dense(units=6, activation = 'softmax'))\n",
    "\n",
    "model.compile(optimizer='adam', loss='categorical_crossentropy', metrics = ['accuracy'])"
   ]
  },
  {
   "cell_type": "markdown",
   "metadata": {},
   "source": [
    "## 4. Training the model"
   ]
  },
  {
   "cell_type": "code",
   "execution_count": 55,
   "metadata": {},
   "outputs": [
    {
     "name": "stdout",
     "output_type": "stream",
     "text": [
      "Epoch 1/1\n",
      "100/100 [==============================] - 33s 325ms/step - loss: 0.7651 - accuracy: 0.7037\n"
     ]
    },
    {
     "data": {
      "text/plain": [
       "<keras.callbacks.callbacks.History at 0x220e2586908>"
      ]
     },
     "execution_count": 55,
     "metadata": {},
     "output_type": "execute_result"
    }
   ],
   "source": [
    "model.fit_generator(train_data,\n",
    "                   steps_per_epoch = 100,\n",
    "                   epochs = 1,\n",
    "                   )"
   ]
  },
  {
   "cell_type": "markdown",
   "metadata": {},
   "source": [
    "## 5. Saving the model for future use"
   ]
  },
  {
   "cell_type": "code",
   "execution_count": 56,
   "metadata": {},
   "outputs": [],
   "source": [
    "filename = 'finalized_model.sav'\n",
    "pickle.dump(model, open(filename, 'wb'))"
   ]
  },
  {
   "cell_type": "markdown",
   "metadata": {},
   "source": [
    "## 6. Loading the model"
   ]
  },
  {
   "cell_type": "code",
   "execution_count": 3,
   "metadata": {},
   "outputs": [],
   "source": [
    "model = pickle.load(open(r'finalized_model.sav', 'rb'))"
   ]
  },
  {
   "cell_type": "markdown",
   "metadata": {},
   "source": [
    "## 7. Classfifying the input as image or video/gif and predicting the classification"
   ]
  },
  {
   "cell_type": "code",
   "execution_count": 5,
   "metadata": {},
   "outputs": [
    {
     "name": "stdout",
     "output_type": "stream",
     "text": [
      "Format: Video\n",
      "read a new frame: True\n",
      "(270, 480, 3)\n",
      "read a new frame: True\n",
      "(270, 480, 3)\n",
      "read a new frame: True\n",
      "(270, 480, 3)\n",
      "read a new frame: True\n",
      "(270, 480, 3)\n",
      "read a new frame: True\n",
      "(270, 480, 3)\n",
      "read a new frame: True\n",
      "(270, 480, 3)\n",
      "read a new frame: True\n",
      "(270, 480, 3)\n",
      "read a new frame: True\n",
      "(270, 480, 3)\n",
      "read a new frame: True\n",
      "(270, 480, 3)\n",
      "read a new frame: True\n",
      "(270, 480, 3)\n",
      "read a new frame: True\n",
      "(270, 480, 3)\n",
      "read a new frame: True\n",
      "(270, 480, 3)\n",
      "read a new frame: True\n",
      "(270, 480, 3)\n",
      "read a new frame: True\n",
      "(270, 480, 3)\n",
      "read a new frame: True\n",
      "(270, 480, 3)\n",
      "read a new frame: True\n",
      "(270, 480, 3)\n",
      "read a new frame: True\n",
      "(270, 480, 3)\n",
      "read a new frame: True\n",
      "(270, 480, 3)\n",
      "read a new frame: True\n",
      "(270, 480, 3)\n",
      "read a new frame: True\n",
      "(270, 480, 3)\n",
      "read a new frame: True\n",
      "(270, 480, 3)\n",
      "read a new frame: True\n",
      "(270, 480, 3)\n",
      "read a new frame: True\n",
      "(270, 480, 3)\n",
      "read a new frame: True\n",
      "(270, 480, 3)\n",
      "read a new frame: True\n",
      "(270, 480, 3)\n",
      "read a new frame: True\n",
      "(270, 480, 3)\n",
      "read a new frame: True\n",
      "(270, 480, 3)\n",
      "read a new frame: True\n",
      "(270, 480, 3)\n",
      "read a new frame: True\n",
      "(270, 480, 3)\n",
      "29\n",
      "[array([[0., 0., 0., 0., 0., 1.]], dtype=float32), array([[0., 0., 0., 0., 0., 1.]], dtype=float32), array([[0., 0., 0., 0., 0., 1.]], dtype=float32), array([[0., 0., 0., 0., 0., 1.]], dtype=float32), array([[0., 0., 0., 0., 0., 1.]], dtype=float32), array([[0., 0., 0., 0., 0., 1.]], dtype=float32), array([[0., 0., 0., 0., 0., 1.]], dtype=float32), array([[0., 0., 0., 0., 0., 1.]], dtype=float32), array([[0., 0., 0., 0., 0., 1.]], dtype=float32), array([[0., 0., 0., 0., 0., 1.]], dtype=float32), array([[0., 0., 0., 0., 0., 1.]], dtype=float32), array([[0., 0., 0., 0., 0., 1.]], dtype=float32), array([[0., 0., 0., 0., 0., 1.]], dtype=float32), array([[0., 0., 0., 0., 0., 1.]], dtype=float32), array([[0., 0., 0., 0., 0., 1.]], dtype=float32), array([[0., 0., 0., 0., 0., 1.]], dtype=float32), array([[0., 0., 0., 0., 0., 1.]], dtype=float32), array([[0., 0., 0., 0., 0., 1.]], dtype=float32), array([[0., 0., 0., 0., 0., 1.]], dtype=float32), array([[0., 0., 0., 0., 0., 1.]], dtype=float32), array([[0., 0., 0., 0., 0., 1.]], dtype=float32), array([[0., 0., 0., 0., 0., 1.]], dtype=float32), array([[0., 0., 0., 0., 0., 1.]], dtype=float32), array([[0., 0., 0., 0., 0., 1.]], dtype=float32), array([[0., 0., 0., 0., 0., 1.]], dtype=float32), array([[0., 0., 0., 0., 0., 1.]], dtype=float32), array([[0., 0., 0., 0., 0., 1.]], dtype=float32), array([[0., 0., 0., 0., 0., 1.]], dtype=float32), array([[0., 0., 0., 0., 0., 1.]], dtype=float32)]\n",
      "[array([[0., 0., 0., 0., 0., 1.]], dtype=float32), array([[0., 0., 0., 0., 0., 1.]], dtype=float32), array([[0., 0., 0., 0., 0., 1.]], dtype=float32), array([[0., 0., 0., 0., 0., 1.]], dtype=float32), array([[0., 0., 0., 0., 0., 1.]], dtype=float32), array([[0., 0., 0., 0., 0., 1.]], dtype=float32), array([[0., 0., 0., 0., 0., 1.]], dtype=float32), array([[0., 0., 0., 0., 0., 1.]], dtype=float32), array([[0., 0., 0., 0., 0., 1.]], dtype=float32), array([[0., 0., 0., 0., 0., 1.]], dtype=float32), array([[0., 0., 0., 0., 0., 1.]], dtype=float32), array([[0., 0., 0., 0., 0., 1.]], dtype=float32), array([[0., 0., 0., 0., 0., 1.]], dtype=float32), array([[0., 0., 0., 0., 0., 1.]], dtype=float32), array([[0., 0., 0., 0., 0., 1.]], dtype=float32), array([[0., 0., 0., 0., 0., 1.]], dtype=float32), array([[0., 0., 0., 0., 0., 1.]], dtype=float32), array([[0., 0., 0., 0., 0., 1.]], dtype=float32), array([[0., 0., 0., 0., 0., 1.]], dtype=float32), array([[0., 0., 0., 0., 0., 1.]], dtype=float32), array([[0., 0., 0., 0., 0., 1.]], dtype=float32), array([[0., 0., 0., 0., 0., 1.]], dtype=float32), array([[0., 0., 0., 0., 0., 1.]], dtype=float32), array([[0., 0., 0., 0., 0., 1.]], dtype=float32), array([[0., 0., 0., 0., 0., 1.]], dtype=float32), array([[0., 0., 0., 0., 0., 1.]], dtype=float32), array([[0., 0., 0., 0., 0., 1.]], dtype=float32), array([[0., 0., 0., 0., 0., 1.]], dtype=float32), array([[0., 0., 0., 0., 0., 1.]], dtype=float32)]\n",
      "[array([[0., 0., 0., 0., 0., 1.]], dtype=float32), array([[0., 0., 0., 0., 0., 1.]], dtype=float32), array([[0., 0., 0., 0., 0., 1.]], dtype=float32), array([[0., 0., 0., 0., 0., 1.]], dtype=float32), array([[0., 0., 0., 0., 0., 1.]], dtype=float32), array([[0., 0., 0., 0., 0., 1.]], dtype=float32), array([[0., 0., 0., 0., 0., 1.]], dtype=float32), array([[0., 0., 0., 0., 0., 1.]], dtype=float32), array([[0., 0., 0., 0., 0., 1.]], dtype=float32), array([[0., 0., 0., 0., 0., 1.]], dtype=float32), array([[0., 0., 0., 0., 0., 1.]], dtype=float32), array([[0., 0., 0., 0., 0., 1.]], dtype=float32), array([[0., 0., 0., 0., 0., 1.]], dtype=float32), array([[0., 0., 0., 0., 0., 1.]], dtype=float32), array([[0., 0., 0., 0., 0., 1.]], dtype=float32), array([[0., 0., 0., 0., 0., 1.]], dtype=float32), array([[0., 0., 0., 0., 0., 1.]], dtype=float32), array([[0., 0., 0., 0., 0., 1.]], dtype=float32), array([[0., 0., 0., 0., 0., 1.]], dtype=float32), array([[0., 0., 0., 0., 0., 1.]], dtype=float32), array([[0., 0., 0., 0., 0., 1.]], dtype=float32), array([[0., 0., 0., 0., 0., 1.]], dtype=float32), array([[0., 0., 0., 0., 0., 1.]], dtype=float32), array([[0., 0., 0., 0., 0., 1.]], dtype=float32), array([[0., 0., 0., 0., 0., 1.]], dtype=float32), array([[0., 0., 0., 0., 0., 1.]], dtype=float32), array([[0., 0., 0., 0., 0., 1.]], dtype=float32), array([[0., 0., 0., 0., 0., 1.]], dtype=float32), array([[0., 0., 0., 0., 0., 1.]], dtype=float32)]\n",
      "[array([[0., 0., 0., 0., 0., 1.]], dtype=float32), array([[0., 0., 0., 0., 0., 1.]], dtype=float32), array([[0., 0., 0., 0., 0., 1.]], dtype=float32), array([[0., 0., 0., 0., 0., 1.]], dtype=float32), array([[0., 0., 0., 0., 0., 1.]], dtype=float32), array([[0., 0., 0., 0., 0., 1.]], dtype=float32), array([[0., 0., 0., 0., 0., 1.]], dtype=float32), array([[0., 0., 0., 0., 0., 1.]], dtype=float32), array([[0., 0., 0., 0., 0., 1.]], dtype=float32), array([[0., 0., 0., 0., 0., 1.]], dtype=float32), array([[0., 0., 0., 0., 0., 1.]], dtype=float32), array([[0., 0., 0., 0., 0., 1.]], dtype=float32), array([[0., 0., 0., 0., 0., 1.]], dtype=float32), array([[0., 0., 0., 0., 0., 1.]], dtype=float32), array([[0., 0., 0., 0., 0., 1.]], dtype=float32), array([[0., 0., 0., 0., 0., 1.]], dtype=float32), array([[0., 0., 0., 0., 0., 1.]], dtype=float32), array([[0., 0., 0., 0., 0., 1.]], dtype=float32), array([[0., 0., 0., 0., 0., 1.]], dtype=float32), array([[0., 0., 0., 0., 0., 1.]], dtype=float32), array([[0., 0., 0., 0., 0., 1.]], dtype=float32), array([[0., 0., 0., 0., 0., 1.]], dtype=float32), array([[0., 0., 0., 0., 0., 1.]], dtype=float32), array([[0., 0., 0., 0., 0., 1.]], dtype=float32), array([[0., 0., 0., 0., 0., 1.]], dtype=float32), array([[0., 0., 0., 0., 0., 1.]], dtype=float32), array([[0., 0., 0., 0., 0., 1.]], dtype=float32), array([[0., 0., 0., 0., 0., 1.]], dtype=float32), array([[0., 0., 0., 0., 0., 1.]], dtype=float32)]\n",
      "[array([[0., 0., 0., 0., 0., 1.]], dtype=float32), array([[0., 0., 0., 0., 0., 1.]], dtype=float32), array([[0., 0., 0., 0., 0., 1.]], dtype=float32), array([[0., 0., 0., 0., 0., 1.]], dtype=float32), array([[0., 0., 0., 0., 0., 1.]], dtype=float32), array([[0., 0., 0., 0., 0., 1.]], dtype=float32), array([[0., 0., 0., 0., 0., 1.]], dtype=float32), array([[0., 0., 0., 0., 0., 1.]], dtype=float32), array([[0., 0., 0., 0., 0., 1.]], dtype=float32), array([[0., 0., 0., 0., 0., 1.]], dtype=float32), array([[0., 0., 0., 0., 0., 1.]], dtype=float32), array([[0., 0., 0., 0., 0., 1.]], dtype=float32), array([[0., 0., 0., 0., 0., 1.]], dtype=float32), array([[0., 0., 0., 0., 0., 1.]], dtype=float32), array([[0., 0., 0., 0., 0., 1.]], dtype=float32), array([[0., 0., 0., 0., 0., 1.]], dtype=float32), array([[0., 0., 0., 0., 0., 1.]], dtype=float32), array([[0., 0., 0., 0., 0., 1.]], dtype=float32), array([[0., 0., 0., 0., 0., 1.]], dtype=float32), array([[0., 0., 0., 0., 0., 1.]], dtype=float32), array([[0., 0., 0., 0., 0., 1.]], dtype=float32), array([[0., 0., 0., 0., 0., 1.]], dtype=float32), array([[0., 0., 0., 0., 0., 1.]], dtype=float32), array([[0., 0., 0., 0., 0., 1.]], dtype=float32), array([[0., 0., 0., 0., 0., 1.]], dtype=float32), array([[0., 0., 0., 0., 0., 1.]], dtype=float32), array([[0., 0., 0., 0., 0., 1.]], dtype=float32), array([[0., 0., 0., 0., 0., 1.]], dtype=float32), array([[0., 0., 0., 0., 0., 1.]], dtype=float32)]\n",
      "[array([[0., 0., 0., 0., 0., 1.]], dtype=float32), array([[0., 0., 0., 0., 0., 1.]], dtype=float32), array([[0., 0., 0., 0., 0., 1.]], dtype=float32), array([[0., 0., 0., 0., 0., 1.]], dtype=float32), array([[0., 0., 0., 0., 0., 1.]], dtype=float32), array([[0., 0., 0., 0., 0., 1.]], dtype=float32), array([[0., 0., 0., 0., 0., 1.]], dtype=float32), array([[0., 0., 0., 0., 0., 1.]], dtype=float32), array([[0., 0., 0., 0., 0., 1.]], dtype=float32), array([[0., 0., 0., 0., 0., 1.]], dtype=float32), array([[0., 0., 0., 0., 0., 1.]], dtype=float32), array([[0., 0., 0., 0., 0., 1.]], dtype=float32), array([[0., 0., 0., 0., 0., 1.]], dtype=float32), array([[0., 0., 0., 0., 0., 1.]], dtype=float32), array([[0., 0., 0., 0., 0., 1.]], dtype=float32), array([[0., 0., 0., 0., 0., 1.]], dtype=float32), array([[0., 0., 0., 0., 0., 1.]], dtype=float32), array([[0., 0., 0., 0., 0., 1.]], dtype=float32), array([[0., 0., 0., 0., 0., 1.]], dtype=float32), array([[0., 0., 0., 0., 0., 1.]], dtype=float32), array([[0., 0., 0., 0., 0., 1.]], dtype=float32), array([[0., 0., 0., 0., 0., 1.]], dtype=float32), array([[0., 0., 0., 0., 0., 1.]], dtype=float32), array([[0., 0., 0., 0., 0., 1.]], dtype=float32), array([[0., 0., 0., 0., 0., 1.]], dtype=float32), array([[0., 0., 0., 0., 0., 1.]], dtype=float32), array([[0., 0., 0., 0., 0., 1.]], dtype=float32), array([[0., 0., 0., 0., 0., 1.]], dtype=float32), array([[0., 0., 0., 0., 0., 1.]], dtype=float32)]\n",
      "[array([[0., 0., 0., 0., 0., 1.]], dtype=float32), array([[0., 0., 0., 0., 0., 1.]], dtype=float32), array([[0., 0., 0., 0., 0., 1.]], dtype=float32), array([[0., 0., 0., 0., 0., 1.]], dtype=float32), array([[0., 0., 0., 0., 0., 1.]], dtype=float32), array([[0., 0., 0., 0., 0., 1.]], dtype=float32), array([[0., 0., 0., 0., 0., 1.]], dtype=float32), array([[0., 0., 0., 0., 0., 1.]], dtype=float32), array([[0., 0., 0., 0., 0., 1.]], dtype=float32), array([[0., 0., 0., 0., 0., 1.]], dtype=float32), array([[0., 0., 0., 0., 0., 1.]], dtype=float32), array([[0., 0., 0., 0., 0., 1.]], dtype=float32), array([[0., 0., 0., 0., 0., 1.]], dtype=float32), array([[0., 0., 0., 0., 0., 1.]], dtype=float32), array([[0., 0., 0., 0., 0., 1.]], dtype=float32), array([[0., 0., 0., 0., 0., 1.]], dtype=float32), array([[0., 0., 0., 0., 0., 1.]], dtype=float32), array([[0., 0., 0., 0., 0., 1.]], dtype=float32), array([[0., 0., 0., 0., 0., 1.]], dtype=float32), array([[0., 0., 0., 0., 0., 1.]], dtype=float32), array([[0., 0., 0., 0., 0., 1.]], dtype=float32), array([[0., 0., 0., 0., 0., 1.]], dtype=float32), array([[0., 0., 0., 0., 0., 1.]], dtype=float32), array([[0., 0., 0., 0., 0., 1.]], dtype=float32), array([[0., 0., 0., 0., 0., 1.]], dtype=float32), array([[0., 0., 0., 0., 0., 1.]], dtype=float32), array([[0., 0., 0., 0., 0., 1.]], dtype=float32), array([[0., 0., 0., 0., 0., 1.]], dtype=float32), array([[0., 0., 0., 0., 0., 1.]], dtype=float32)]\n",
      "[array([[0., 0., 0., 0., 0., 1.]], dtype=float32), array([[0., 0., 0., 0., 0., 1.]], dtype=float32), array([[0., 0., 0., 0., 0., 1.]], dtype=float32), array([[0., 0., 0., 0., 0., 1.]], dtype=float32), array([[0., 0., 0., 0., 0., 1.]], dtype=float32), array([[0., 0., 0., 0., 0., 1.]], dtype=float32), array([[0., 0., 0., 0., 0., 1.]], dtype=float32), array([[0., 0., 0., 0., 0., 1.]], dtype=float32), array([[0., 0., 0., 0., 0., 1.]], dtype=float32), array([[0., 0., 0., 0., 0., 1.]], dtype=float32), array([[0., 0., 0., 0., 0., 1.]], dtype=float32), array([[0., 0., 0., 0., 0., 1.]], dtype=float32), array([[0., 0., 0., 0., 0., 1.]], dtype=float32), array([[0., 0., 0., 0., 0., 1.]], dtype=float32), array([[0., 0., 0., 0., 0., 1.]], dtype=float32), array([[0., 0., 0., 0., 0., 1.]], dtype=float32), array([[0., 0., 0., 0., 0., 1.]], dtype=float32), array([[0., 0., 0., 0., 0., 1.]], dtype=float32), array([[0., 0., 0., 0., 0., 1.]], dtype=float32), array([[0., 0., 0., 0., 0., 1.]], dtype=float32), array([[0., 0., 0., 0., 0., 1.]], dtype=float32), array([[0., 0., 0., 0., 0., 1.]], dtype=float32), array([[0., 0., 0., 0., 0., 1.]], dtype=float32), array([[0., 0., 0., 0., 0., 1.]], dtype=float32), array([[0., 0., 0., 0., 0., 1.]], dtype=float32), array([[0., 0., 0., 0., 0., 1.]], dtype=float32), array([[0., 0., 0., 0., 0., 1.]], dtype=float32), array([[0., 0., 0., 0., 0., 1.]], dtype=float32), array([[0., 0., 0., 0., 0., 1.]], dtype=float32)]\n",
      "[array([[0., 0., 0., 0., 0., 1.]], dtype=float32), array([[0., 0., 0., 0., 0., 1.]], dtype=float32), array([[0., 0., 0., 0., 0., 1.]], dtype=float32), array([[0., 0., 0., 0., 0., 1.]], dtype=float32), array([[0., 0., 0., 0., 0., 1.]], dtype=float32), array([[0., 0., 0., 0., 0., 1.]], dtype=float32), array([[0., 0., 0., 0., 0., 1.]], dtype=float32), array([[0., 0., 0., 0., 0., 1.]], dtype=float32), array([[0., 0., 0., 0., 0., 1.]], dtype=float32), array([[0., 0., 0., 0., 0., 1.]], dtype=float32), array([[0., 0., 0., 0., 0., 1.]], dtype=float32), array([[0., 0., 0., 0., 0., 1.]], dtype=float32), array([[0., 0., 0., 0., 0., 1.]], dtype=float32), array([[0., 0., 0., 0., 0., 1.]], dtype=float32), array([[0., 0., 0., 0., 0., 1.]], dtype=float32), array([[0., 0., 0., 0., 0., 1.]], dtype=float32), array([[0., 0., 0., 0., 0., 1.]], dtype=float32), array([[0., 0., 0., 0., 0., 1.]], dtype=float32), array([[0., 0., 0., 0., 0., 1.]], dtype=float32), array([[0., 0., 0., 0., 0., 1.]], dtype=float32), array([[0., 0., 0., 0., 0., 1.]], dtype=float32), array([[0., 0., 0., 0., 0., 1.]], dtype=float32), array([[0., 0., 0., 0., 0., 1.]], dtype=float32), array([[0., 0., 0., 0., 0., 1.]], dtype=float32), array([[0., 0., 0., 0., 0., 1.]], dtype=float32), array([[0., 0., 0., 0., 0., 1.]], dtype=float32), array([[0., 0., 0., 0., 0., 1.]], dtype=float32), array([[0., 0., 0., 0., 0., 1.]], dtype=float32), array([[0., 0., 0., 0., 0., 1.]], dtype=float32)]\n",
      "[array([[0., 0., 0., 0., 0., 1.]], dtype=float32), array([[0., 0., 0., 0., 0., 1.]], dtype=float32), array([[0., 0., 0., 0., 0., 1.]], dtype=float32), array([[0., 0., 0., 0., 0., 1.]], dtype=float32), array([[0., 0., 0., 0., 0., 1.]], dtype=float32), array([[0., 0., 0., 0., 0., 1.]], dtype=float32), array([[0., 0., 0., 0., 0., 1.]], dtype=float32), array([[0., 0., 0., 0., 0., 1.]], dtype=float32), array([[0., 0., 0., 0., 0., 1.]], dtype=float32), array([[0., 0., 0., 0., 0., 1.]], dtype=float32), array([[0., 0., 0., 0., 0., 1.]], dtype=float32), array([[0., 0., 0., 0., 0., 1.]], dtype=float32), array([[0., 0., 0., 0., 0., 1.]], dtype=float32), array([[0., 0., 0., 0., 0., 1.]], dtype=float32), array([[0., 0., 0., 0., 0., 1.]], dtype=float32), array([[0., 0., 0., 0., 0., 1.]], dtype=float32), array([[0., 0., 0., 0., 0., 1.]], dtype=float32), array([[0., 0., 0., 0., 0., 1.]], dtype=float32), array([[0., 0., 0., 0., 0., 1.]], dtype=float32), array([[0., 0., 0., 0., 0., 1.]], dtype=float32), array([[0., 0., 0., 0., 0., 1.]], dtype=float32), array([[0., 0., 0., 0., 0., 1.]], dtype=float32), array([[0., 0., 0., 0., 0., 1.]], dtype=float32), array([[0., 0., 0., 0., 0., 1.]], dtype=float32), array([[0., 0., 0., 0., 0., 1.]], dtype=float32), array([[0., 0., 0., 0., 0., 1.]], dtype=float32), array([[0., 0., 0., 0., 0., 1.]], dtype=float32), array([[0., 0., 0., 0., 0., 1.]], dtype=float32), array([[0., 0., 0., 0., 0., 1.]], dtype=float32)]\n"
     ]
    },
    {
     "name": "stdout",
     "output_type": "stream",
     "text": [
      "[array([[0., 0., 0., 0., 0., 1.]], dtype=float32), array([[0., 0., 0., 0., 0., 1.]], dtype=float32), array([[0., 0., 0., 0., 0., 1.]], dtype=float32), array([[0., 0., 0., 0., 0., 1.]], dtype=float32), array([[0., 0., 0., 0., 0., 1.]], dtype=float32), array([[0., 0., 0., 0., 0., 1.]], dtype=float32), array([[0., 0., 0., 0., 0., 1.]], dtype=float32), array([[0., 0., 0., 0., 0., 1.]], dtype=float32), array([[0., 0., 0., 0., 0., 1.]], dtype=float32), array([[0., 0., 0., 0., 0., 1.]], dtype=float32), array([[0., 0., 0., 0., 0., 1.]], dtype=float32), array([[0., 0., 0., 0., 0., 1.]], dtype=float32), array([[0., 0., 0., 0., 0., 1.]], dtype=float32), array([[0., 0., 0., 0., 0., 1.]], dtype=float32), array([[0., 0., 0., 0., 0., 1.]], dtype=float32), array([[0., 0., 0., 0., 0., 1.]], dtype=float32), array([[0., 0., 0., 0., 0., 1.]], dtype=float32), array([[0., 0., 0., 0., 0., 1.]], dtype=float32), array([[0., 0., 0., 0., 0., 1.]], dtype=float32), array([[0., 0., 0., 0., 0., 1.]], dtype=float32), array([[0., 0., 0., 0., 0., 1.]], dtype=float32), array([[0., 0., 0., 0., 0., 1.]], dtype=float32), array([[0., 0., 0., 0., 0., 1.]], dtype=float32), array([[0., 0., 0., 0., 0., 1.]], dtype=float32), array([[0., 0., 0., 0., 0., 1.]], dtype=float32), array([[0., 0., 0., 0., 0., 1.]], dtype=float32), array([[0., 0., 0., 0., 0., 1.]], dtype=float32), array([[0., 0., 0., 0., 0., 1.]], dtype=float32), array([[0., 0., 0., 0., 0., 1.]], dtype=float32)]\n",
      "[array([[0., 0., 0., 0., 0., 1.]], dtype=float32), array([[0., 0., 0., 0., 0., 1.]], dtype=float32), array([[0., 0., 0., 0., 0., 1.]], dtype=float32), array([[0., 0., 0., 0., 0., 1.]], dtype=float32), array([[0., 0., 0., 0., 0., 1.]], dtype=float32), array([[0., 0., 0., 0., 0., 1.]], dtype=float32), array([[0., 0., 0., 0., 0., 1.]], dtype=float32), array([[0., 0., 0., 0., 0., 1.]], dtype=float32), array([[0., 0., 0., 0., 0., 1.]], dtype=float32), array([[0., 0., 0., 0., 0., 1.]], dtype=float32), array([[0., 0., 0., 0., 0., 1.]], dtype=float32), array([[0., 0., 0., 0., 0., 1.]], dtype=float32), array([[0., 0., 0., 0., 0., 1.]], dtype=float32), array([[0., 0., 0., 0., 0., 1.]], dtype=float32), array([[0., 0., 0., 0., 0., 1.]], dtype=float32), array([[0., 0., 0., 0., 0., 1.]], dtype=float32), array([[0., 0., 0., 0., 0., 1.]], dtype=float32), array([[0., 0., 0., 0., 0., 1.]], dtype=float32), array([[0., 0., 0., 0., 0., 1.]], dtype=float32), array([[0., 0., 0., 0., 0., 1.]], dtype=float32), array([[0., 0., 0., 0., 0., 1.]], dtype=float32), array([[0., 0., 0., 0., 0., 1.]], dtype=float32), array([[0., 0., 0., 0., 0., 1.]], dtype=float32), array([[0., 0., 0., 0., 0., 1.]], dtype=float32), array([[0., 0., 0., 0., 0., 1.]], dtype=float32), array([[0., 0., 0., 0., 0., 1.]], dtype=float32), array([[0., 0., 0., 0., 0., 1.]], dtype=float32), array([[0., 0., 0., 0., 0., 1.]], dtype=float32), array([[0., 0., 0., 0., 0., 1.]], dtype=float32)]\n",
      "[array([[0., 0., 0., 0., 0., 1.]], dtype=float32), array([[0., 0., 0., 0., 0., 1.]], dtype=float32), array([[0., 0., 0., 0., 0., 1.]], dtype=float32), array([[0., 0., 0., 0., 0., 1.]], dtype=float32), array([[0., 0., 0., 0., 0., 1.]], dtype=float32), array([[0., 0., 0., 0., 0., 1.]], dtype=float32), array([[0., 0., 0., 0., 0., 1.]], dtype=float32), array([[0., 0., 0., 0., 0., 1.]], dtype=float32), array([[0., 0., 0., 0., 0., 1.]], dtype=float32), array([[0., 0., 0., 0., 0., 1.]], dtype=float32), array([[0., 0., 0., 0., 0., 1.]], dtype=float32), array([[0., 0., 0., 0., 0., 1.]], dtype=float32), array([[0., 0., 0., 0., 0., 1.]], dtype=float32), array([[0., 0., 0., 0., 0., 1.]], dtype=float32), array([[0., 0., 0., 0., 0., 1.]], dtype=float32), array([[0., 0., 0., 0., 0., 1.]], dtype=float32), array([[0., 0., 0., 0., 0., 1.]], dtype=float32), array([[0., 0., 0., 0., 0., 1.]], dtype=float32), array([[0., 0., 0., 0., 0., 1.]], dtype=float32), array([[0., 0., 0., 0., 0., 1.]], dtype=float32), array([[0., 0., 0., 0., 0., 1.]], dtype=float32), array([[0., 0., 0., 0., 0., 1.]], dtype=float32), array([[0., 0., 0., 0., 0., 1.]], dtype=float32), array([[0., 0., 0., 0., 0., 1.]], dtype=float32), array([[0., 0., 0., 0., 0., 1.]], dtype=float32), array([[0., 0., 0., 0., 0., 1.]], dtype=float32), array([[0., 0., 0., 0., 0., 1.]], dtype=float32), array([[0., 0., 0., 0., 0., 1.]], dtype=float32), array([[0., 0., 0., 0., 0., 1.]], dtype=float32)]\n",
      "[array([[0., 0., 0., 0., 0., 1.]], dtype=float32), array([[0., 0., 0., 0., 0., 1.]], dtype=float32), array([[0., 0., 0., 0., 0., 1.]], dtype=float32), array([[0., 0., 0., 0., 0., 1.]], dtype=float32), array([[0., 0., 0., 0., 0., 1.]], dtype=float32), array([[0., 0., 0., 0., 0., 1.]], dtype=float32), array([[0., 0., 0., 0., 0., 1.]], dtype=float32), array([[0., 0., 0., 0., 0., 1.]], dtype=float32), array([[0., 0., 0., 0., 0., 1.]], dtype=float32), array([[0., 0., 0., 0., 0., 1.]], dtype=float32), array([[0., 0., 0., 0., 0., 1.]], dtype=float32), array([[0., 0., 0., 0., 0., 1.]], dtype=float32), array([[0., 0., 0., 0., 0., 1.]], dtype=float32), array([[0., 0., 0., 0., 0., 1.]], dtype=float32), array([[0., 0., 0., 0., 0., 1.]], dtype=float32), array([[0., 0., 0., 0., 0., 1.]], dtype=float32), array([[0., 0., 0., 0., 0., 1.]], dtype=float32), array([[0., 0., 0., 0., 0., 1.]], dtype=float32), array([[0., 0., 0., 0., 0., 1.]], dtype=float32), array([[0., 0., 0., 0., 0., 1.]], dtype=float32), array([[0., 0., 0., 0., 0., 1.]], dtype=float32), array([[0., 0., 0., 0., 0., 1.]], dtype=float32), array([[0., 0., 0., 0., 0., 1.]], dtype=float32), array([[0., 0., 0., 0., 0., 1.]], dtype=float32), array([[0., 0., 0., 0., 0., 1.]], dtype=float32), array([[0., 0., 0., 0., 0., 1.]], dtype=float32), array([[0., 0., 0., 0., 0., 1.]], dtype=float32), array([[0., 0., 0., 0., 0., 1.]], dtype=float32), array([[0., 0., 0., 0., 0., 1.]], dtype=float32)]\n",
      "[array([[0., 0., 0., 0., 0., 1.]], dtype=float32), array([[0., 0., 0., 0., 0., 1.]], dtype=float32), array([[0., 0., 0., 0., 0., 1.]], dtype=float32), array([[0., 0., 0., 0., 0., 1.]], dtype=float32), array([[0., 0., 0., 0., 0., 1.]], dtype=float32), array([[0., 0., 0., 0., 0., 1.]], dtype=float32), array([[0., 0., 0., 0., 0., 1.]], dtype=float32), array([[0., 0., 0., 0., 0., 1.]], dtype=float32), array([[0., 0., 0., 0., 0., 1.]], dtype=float32), array([[0., 0., 0., 0., 0., 1.]], dtype=float32), array([[0., 0., 0., 0., 0., 1.]], dtype=float32), array([[0., 0., 0., 0., 0., 1.]], dtype=float32), array([[0., 0., 0., 0., 0., 1.]], dtype=float32), array([[0., 0., 0., 0., 0., 1.]], dtype=float32), array([[0., 0., 0., 0., 0., 1.]], dtype=float32), array([[0., 0., 0., 0., 0., 1.]], dtype=float32), array([[0., 0., 0., 0., 0., 1.]], dtype=float32), array([[0., 0., 0., 0., 0., 1.]], dtype=float32), array([[0., 0., 0., 0., 0., 1.]], dtype=float32), array([[0., 0., 0., 0., 0., 1.]], dtype=float32), array([[0., 0., 0., 0., 0., 1.]], dtype=float32), array([[0., 0., 0., 0., 0., 1.]], dtype=float32), array([[0., 0., 0., 0., 0., 1.]], dtype=float32), array([[0., 0., 0., 0., 0., 1.]], dtype=float32), array([[0., 0., 0., 0., 0., 1.]], dtype=float32), array([[0., 0., 0., 0., 0., 1.]], dtype=float32), array([[0., 0., 0., 0., 0., 1.]], dtype=float32), array([[0., 0., 0., 0., 0., 1.]], dtype=float32), array([[0., 0., 0., 0., 0., 1.]], dtype=float32)]\n",
      "[array([[0., 0., 0., 0., 0., 1.]], dtype=float32), array([[0., 0., 0., 0., 0., 1.]], dtype=float32), array([[0., 0., 0., 0., 0., 1.]], dtype=float32), array([[0., 0., 0., 0., 0., 1.]], dtype=float32), array([[0., 0., 0., 0., 0., 1.]], dtype=float32), array([[0., 0., 0., 0., 0., 1.]], dtype=float32), array([[0., 0., 0., 0., 0., 1.]], dtype=float32), array([[0., 0., 0., 0., 0., 1.]], dtype=float32), array([[0., 0., 0., 0., 0., 1.]], dtype=float32), array([[0., 0., 0., 0., 0., 1.]], dtype=float32), array([[0., 0., 0., 0., 0., 1.]], dtype=float32), array([[0., 0., 0., 0., 0., 1.]], dtype=float32), array([[0., 0., 0., 0., 0., 1.]], dtype=float32), array([[0., 0., 0., 0., 0., 1.]], dtype=float32), array([[0., 0., 0., 0., 0., 1.]], dtype=float32), array([[0., 0., 0., 0., 0., 1.]], dtype=float32), array([[0., 0., 0., 0., 0., 1.]], dtype=float32), array([[0., 0., 0., 0., 0., 1.]], dtype=float32), array([[0., 0., 0., 0., 0., 1.]], dtype=float32), array([[0., 0., 0., 0., 0., 1.]], dtype=float32), array([[0., 0., 0., 0., 0., 1.]], dtype=float32), array([[0., 0., 0., 0., 0., 1.]], dtype=float32), array([[0., 0., 0., 0., 0., 1.]], dtype=float32), array([[0., 0., 0., 0., 0., 1.]], dtype=float32), array([[0., 0., 0., 0., 0., 1.]], dtype=float32), array([[0., 0., 0., 0., 0., 1.]], dtype=float32), array([[0., 0., 0., 0., 0., 1.]], dtype=float32), array([[0., 0., 0., 0., 0., 1.]], dtype=float32), array([[0., 0., 0., 0., 0., 1.]], dtype=float32)]\n",
      "[array([[0., 0., 0., 0., 0., 1.]], dtype=float32), array([[0., 0., 0., 0., 0., 1.]], dtype=float32), array([[0., 0., 0., 0., 0., 1.]], dtype=float32), array([[0., 0., 0., 0., 0., 1.]], dtype=float32), array([[0., 0., 0., 0., 0., 1.]], dtype=float32), array([[0., 0., 0., 0., 0., 1.]], dtype=float32), array([[0., 0., 0., 0., 0., 1.]], dtype=float32), array([[0., 0., 0., 0., 0., 1.]], dtype=float32), array([[0., 0., 0., 0., 0., 1.]], dtype=float32), array([[0., 0., 0., 0., 0., 1.]], dtype=float32), array([[0., 0., 0., 0., 0., 1.]], dtype=float32), array([[0., 0., 0., 0., 0., 1.]], dtype=float32), array([[0., 0., 0., 0., 0., 1.]], dtype=float32), array([[0., 0., 0., 0., 0., 1.]], dtype=float32), array([[0., 0., 0., 0., 0., 1.]], dtype=float32), array([[0., 0., 0., 0., 0., 1.]], dtype=float32), array([[0., 0., 0., 0., 0., 1.]], dtype=float32), array([[0., 0., 0., 0., 0., 1.]], dtype=float32), array([[0., 0., 0., 0., 0., 1.]], dtype=float32), array([[0., 0., 0., 0., 0., 1.]], dtype=float32), array([[0., 0., 0., 0., 0., 1.]], dtype=float32), array([[0., 0., 0., 0., 0., 1.]], dtype=float32), array([[0., 0., 0., 0., 0., 1.]], dtype=float32), array([[0., 0., 0., 0., 0., 1.]], dtype=float32), array([[0., 0., 0., 0., 0., 1.]], dtype=float32), array([[0., 0., 0., 0., 0., 1.]], dtype=float32), array([[0., 0., 0., 0., 0., 1.]], dtype=float32), array([[0., 0., 0., 0., 0., 1.]], dtype=float32), array([[0., 0., 0., 0., 0., 1.]], dtype=float32)]\n",
      "[array([[0., 0., 0., 0., 0., 1.]], dtype=float32), array([[0., 0., 0., 0., 0., 1.]], dtype=float32), array([[0., 0., 0., 0., 0., 1.]], dtype=float32), array([[0., 0., 0., 0., 0., 1.]], dtype=float32), array([[0., 0., 0., 0., 0., 1.]], dtype=float32), array([[0., 0., 0., 0., 0., 1.]], dtype=float32), array([[0., 0., 0., 0., 0., 1.]], dtype=float32), array([[0., 0., 0., 0., 0., 1.]], dtype=float32), array([[0., 0., 0., 0., 0., 1.]], dtype=float32), array([[0., 0., 0., 0., 0., 1.]], dtype=float32), array([[0., 0., 0., 0., 0., 1.]], dtype=float32), array([[0., 0., 0., 0., 0., 1.]], dtype=float32), array([[0., 0., 0., 0., 0., 1.]], dtype=float32), array([[0., 0., 0., 0., 0., 1.]], dtype=float32), array([[0., 0., 0., 0., 0., 1.]], dtype=float32), array([[0., 0., 0., 0., 0., 1.]], dtype=float32), array([[0., 0., 0., 0., 0., 1.]], dtype=float32), array([[0., 0., 0., 0., 0., 1.]], dtype=float32), array([[0., 0., 0., 0., 0., 1.]], dtype=float32), array([[0., 0., 0., 0., 0., 1.]], dtype=float32), array([[0., 0., 0., 0., 0., 1.]], dtype=float32), array([[0., 0., 0., 0., 0., 1.]], dtype=float32), array([[0., 0., 0., 0., 0., 1.]], dtype=float32), array([[0., 0., 0., 0., 0., 1.]], dtype=float32), array([[0., 0., 0., 0., 0., 1.]], dtype=float32), array([[0., 0., 0., 0., 0., 1.]], dtype=float32), array([[0., 0., 0., 0., 0., 1.]], dtype=float32), array([[0., 0., 0., 0., 0., 1.]], dtype=float32), array([[0., 0., 0., 0., 0., 1.]], dtype=float32)]\n",
      "[array([[0., 0., 0., 0., 0., 1.]], dtype=float32), array([[0., 0., 0., 0., 0., 1.]], dtype=float32), array([[0., 0., 0., 0., 0., 1.]], dtype=float32), array([[0., 0., 0., 0., 0., 1.]], dtype=float32), array([[0., 0., 0., 0., 0., 1.]], dtype=float32), array([[0., 0., 0., 0., 0., 1.]], dtype=float32), array([[0., 0., 0., 0., 0., 1.]], dtype=float32), array([[0., 0., 0., 0., 0., 1.]], dtype=float32), array([[0., 0., 0., 0., 0., 1.]], dtype=float32), array([[0., 0., 0., 0., 0., 1.]], dtype=float32), array([[0., 0., 0., 0., 0., 1.]], dtype=float32), array([[0., 0., 0., 0., 0., 1.]], dtype=float32), array([[0., 0., 0., 0., 0., 1.]], dtype=float32), array([[0., 0., 0., 0., 0., 1.]], dtype=float32), array([[0., 0., 0., 0., 0., 1.]], dtype=float32), array([[0., 0., 0., 0., 0., 1.]], dtype=float32), array([[0., 0., 0., 0., 0., 1.]], dtype=float32), array([[0., 0., 0., 0., 0., 1.]], dtype=float32), array([[0., 0., 0., 0., 0., 1.]], dtype=float32), array([[0., 0., 0., 0., 0., 1.]], dtype=float32), array([[0., 0., 0., 0., 0., 1.]], dtype=float32), array([[0., 0., 0., 0., 0., 1.]], dtype=float32), array([[0., 0., 0., 0., 0., 1.]], dtype=float32), array([[0., 0., 0., 0., 0., 1.]], dtype=float32), array([[0., 0., 0., 0., 0., 1.]], dtype=float32), array([[0., 0., 0., 0., 0., 1.]], dtype=float32), array([[0., 0., 0., 0., 0., 1.]], dtype=float32), array([[0., 0., 0., 0., 0., 1.]], dtype=float32), array([[0., 0., 0., 0., 0., 1.]], dtype=float32)]\n",
      "[array([[0., 0., 0., 0., 0., 1.]], dtype=float32), array([[0., 0., 0., 0., 0., 1.]], dtype=float32), array([[0., 0., 0., 0., 0., 1.]], dtype=float32), array([[0., 0., 0., 0., 0., 1.]], dtype=float32), array([[0., 0., 0., 0., 0., 1.]], dtype=float32), array([[0., 0., 0., 0., 0., 1.]], dtype=float32), array([[0., 0., 0., 0., 0., 1.]], dtype=float32), array([[0., 0., 0., 0., 0., 1.]], dtype=float32), array([[0., 0., 0., 0., 0., 1.]], dtype=float32), array([[0., 0., 0., 0., 0., 1.]], dtype=float32), array([[0., 0., 0., 0., 0., 1.]], dtype=float32), array([[0., 0., 0., 0., 0., 1.]], dtype=float32), array([[0., 0., 0., 0., 0., 1.]], dtype=float32), array([[0., 0., 0., 0., 0., 1.]], dtype=float32), array([[0., 0., 0., 0., 0., 1.]], dtype=float32), array([[0., 0., 0., 0., 0., 1.]], dtype=float32), array([[0., 0., 0., 0., 0., 1.]], dtype=float32), array([[0., 0., 0., 0., 0., 1.]], dtype=float32), array([[0., 0., 0., 0., 0., 1.]], dtype=float32), array([[0., 0., 0., 0., 0., 1.]], dtype=float32), array([[0., 0., 0., 0., 0., 1.]], dtype=float32), array([[0., 0., 0., 0., 0., 1.]], dtype=float32), array([[0., 0., 0., 0., 0., 1.]], dtype=float32), array([[0., 0., 0., 0., 0., 1.]], dtype=float32), array([[0., 0., 0., 0., 0., 1.]], dtype=float32), array([[0., 0., 0., 0., 0., 1.]], dtype=float32), array([[0., 0., 0., 0., 0., 1.]], dtype=float32), array([[0., 0., 0., 0., 0., 1.]], dtype=float32), array([[0., 0., 0., 0., 0., 1.]], dtype=float32)]\n",
      "[array([[0., 0., 0., 0., 0., 1.]], dtype=float32), array([[0., 0., 0., 0., 0., 1.]], dtype=float32), array([[0., 0., 0., 0., 0., 1.]], dtype=float32), array([[0., 0., 0., 0., 0., 1.]], dtype=float32), array([[0., 0., 0., 0., 0., 1.]], dtype=float32), array([[0., 0., 0., 0., 0., 1.]], dtype=float32), array([[0., 0., 0., 0., 0., 1.]], dtype=float32), array([[0., 0., 0., 0., 0., 1.]], dtype=float32), array([[0., 0., 0., 0., 0., 1.]], dtype=float32), array([[0., 0., 0., 0., 0., 1.]], dtype=float32), array([[0., 0., 0., 0., 0., 1.]], dtype=float32), array([[0., 0., 0., 0., 0., 1.]], dtype=float32), array([[0., 0., 0., 0., 0., 1.]], dtype=float32), array([[0., 0., 0., 0., 0., 1.]], dtype=float32), array([[0., 0., 0., 0., 0., 1.]], dtype=float32), array([[0., 0., 0., 0., 0., 1.]], dtype=float32), array([[0., 0., 0., 0., 0., 1.]], dtype=float32), array([[0., 0., 0., 0., 0., 1.]], dtype=float32), array([[0., 0., 0., 0., 0., 1.]], dtype=float32), array([[0., 0., 0., 0., 0., 1.]], dtype=float32), array([[0., 0., 0., 0., 0., 1.]], dtype=float32), array([[0., 0., 0., 0., 0., 1.]], dtype=float32), array([[0., 0., 0., 0., 0., 1.]], dtype=float32), array([[0., 0., 0., 0., 0., 1.]], dtype=float32), array([[0., 0., 0., 0., 0., 1.]], dtype=float32), array([[0., 0., 0., 0., 0., 1.]], dtype=float32), array([[0., 0., 0., 0., 0., 1.]], dtype=float32), array([[0., 0., 0., 0., 0., 1.]], dtype=float32), array([[0., 0., 0., 0., 0., 1.]], dtype=float32)]\n",
      "[array([[0., 0., 0., 0., 0., 1.]], dtype=float32), array([[0., 0., 0., 0., 0., 1.]], dtype=float32), array([[0., 0., 0., 0., 0., 1.]], dtype=float32), array([[0., 0., 0., 0., 0., 1.]], dtype=float32), array([[0., 0., 0., 0., 0., 1.]], dtype=float32), array([[0., 0., 0., 0., 0., 1.]], dtype=float32), array([[0., 0., 0., 0., 0., 1.]], dtype=float32), array([[0., 0., 0., 0., 0., 1.]], dtype=float32), array([[0., 0., 0., 0., 0., 1.]], dtype=float32), array([[0., 0., 0., 0., 0., 1.]], dtype=float32), array([[0., 0., 0., 0., 0., 1.]], dtype=float32), array([[0., 0., 0., 0., 0., 1.]], dtype=float32), array([[0., 0., 0., 0., 0., 1.]], dtype=float32), array([[0., 0., 0., 0., 0., 1.]], dtype=float32), array([[0., 0., 0., 0., 0., 1.]], dtype=float32), array([[0., 0., 0., 0., 0., 1.]], dtype=float32), array([[0., 0., 0., 0., 0., 1.]], dtype=float32), array([[0., 0., 0., 0., 0., 1.]], dtype=float32), array([[0., 0., 0., 0., 0., 1.]], dtype=float32), array([[0., 0., 0., 0., 0., 1.]], dtype=float32), array([[0., 0., 0., 0., 0., 1.]], dtype=float32), array([[0., 0., 0., 0., 0., 1.]], dtype=float32), array([[0., 0., 0., 0., 0., 1.]], dtype=float32), array([[0., 0., 0., 0., 0., 1.]], dtype=float32), array([[0., 0., 0., 0., 0., 1.]], dtype=float32), array([[0., 0., 0., 0., 0., 1.]], dtype=float32), array([[0., 0., 0., 0., 0., 1.]], dtype=float32), array([[0., 0., 0., 0., 0., 1.]], dtype=float32), array([[0., 0., 0., 0., 0., 1.]], dtype=float32)]\n",
      "[array([[0., 0., 0., 0., 0., 1.]], dtype=float32), array([[0., 0., 0., 0., 0., 1.]], dtype=float32), array([[0., 0., 0., 0., 0., 1.]], dtype=float32), array([[0., 0., 0., 0., 0., 1.]], dtype=float32), array([[0., 0., 0., 0., 0., 1.]], dtype=float32), array([[0., 0., 0., 0., 0., 1.]], dtype=float32), array([[0., 0., 0., 0., 0., 1.]], dtype=float32), array([[0., 0., 0., 0., 0., 1.]], dtype=float32), array([[0., 0., 0., 0., 0., 1.]], dtype=float32), array([[0., 0., 0., 0., 0., 1.]], dtype=float32), array([[0., 0., 0., 0., 0., 1.]], dtype=float32), array([[0., 0., 0., 0., 0., 1.]], dtype=float32), array([[0., 0., 0., 0., 0., 1.]], dtype=float32), array([[0., 0., 0., 0., 0., 1.]], dtype=float32), array([[0., 0., 0., 0., 0., 1.]], dtype=float32), array([[0., 0., 0., 0., 0., 1.]], dtype=float32), array([[0., 0., 0., 0., 0., 1.]], dtype=float32), array([[0., 0., 0., 0., 0., 1.]], dtype=float32), array([[0., 0., 0., 0., 0., 1.]], dtype=float32), array([[0., 0., 0., 0., 0., 1.]], dtype=float32), array([[0., 0., 0., 0., 0., 1.]], dtype=float32), array([[0., 0., 0., 0., 0., 1.]], dtype=float32), array([[0., 0., 0., 0., 0., 1.]], dtype=float32), array([[0., 0., 0., 0., 0., 1.]], dtype=float32), array([[0., 0., 0., 0., 0., 1.]], dtype=float32), array([[0., 0., 0., 0., 0., 1.]], dtype=float32), array([[0., 0., 0., 0., 0., 1.]], dtype=float32), array([[0., 0., 0., 0., 0., 1.]], dtype=float32), array([[0., 0., 0., 0., 0., 1.]], dtype=float32)]\n",
      "[array([[0., 0., 0., 0., 0., 1.]], dtype=float32), array([[0., 0., 0., 0., 0., 1.]], dtype=float32), array([[0., 0., 0., 0., 0., 1.]], dtype=float32), array([[0., 0., 0., 0., 0., 1.]], dtype=float32), array([[0., 0., 0., 0., 0., 1.]], dtype=float32), array([[0., 0., 0., 0., 0., 1.]], dtype=float32), array([[0., 0., 0., 0., 0., 1.]], dtype=float32), array([[0., 0., 0., 0., 0., 1.]], dtype=float32), array([[0., 0., 0., 0., 0., 1.]], dtype=float32), array([[0., 0., 0., 0., 0., 1.]], dtype=float32), array([[0., 0., 0., 0., 0., 1.]], dtype=float32), array([[0., 0., 0., 0., 0., 1.]], dtype=float32), array([[0., 0., 0., 0., 0., 1.]], dtype=float32), array([[0., 0., 0., 0., 0., 1.]], dtype=float32), array([[0., 0., 0., 0., 0., 1.]], dtype=float32), array([[0., 0., 0., 0., 0., 1.]], dtype=float32), array([[0., 0., 0., 0., 0., 1.]], dtype=float32), array([[0., 0., 0., 0., 0., 1.]], dtype=float32), array([[0., 0., 0., 0., 0., 1.]], dtype=float32), array([[0., 0., 0., 0., 0., 1.]], dtype=float32), array([[0., 0., 0., 0., 0., 1.]], dtype=float32), array([[0., 0., 0., 0., 0., 1.]], dtype=float32), array([[0., 0., 0., 0., 0., 1.]], dtype=float32), array([[0., 0., 0., 0., 0., 1.]], dtype=float32), array([[0., 0., 0., 0., 0., 1.]], dtype=float32), array([[0., 0., 0., 0., 0., 1.]], dtype=float32), array([[0., 0., 0., 0., 0., 1.]], dtype=float32), array([[0., 0., 0., 0., 0., 1.]], dtype=float32), array([[0., 0., 0., 0., 0., 1.]], dtype=float32)]\n",
      "[array([[0., 0., 0., 0., 0., 1.]], dtype=float32), array([[0., 0., 0., 0., 0., 1.]], dtype=float32), array([[0., 0., 0., 0., 0., 1.]], dtype=float32), array([[0., 0., 0., 0., 0., 1.]], dtype=float32), array([[0., 0., 0., 0., 0., 1.]], dtype=float32), array([[0., 0., 0., 0., 0., 1.]], dtype=float32), array([[0., 0., 0., 0., 0., 1.]], dtype=float32), array([[0., 0., 0., 0., 0., 1.]], dtype=float32), array([[0., 0., 0., 0., 0., 1.]], dtype=float32), array([[0., 0., 0., 0., 0., 1.]], dtype=float32), array([[0., 0., 0., 0., 0., 1.]], dtype=float32), array([[0., 0., 0., 0., 0., 1.]], dtype=float32), array([[0., 0., 0., 0., 0., 1.]], dtype=float32), array([[0., 0., 0., 0., 0., 1.]], dtype=float32), array([[0., 0., 0., 0., 0., 1.]], dtype=float32), array([[0., 0., 0., 0., 0., 1.]], dtype=float32), array([[0., 0., 0., 0., 0., 1.]], dtype=float32), array([[0., 0., 0., 0., 0., 1.]], dtype=float32), array([[0., 0., 0., 0., 0., 1.]], dtype=float32), array([[0., 0., 0., 0., 0., 1.]], dtype=float32), array([[0., 0., 0., 0., 0., 1.]], dtype=float32), array([[0., 0., 0., 0., 0., 1.]], dtype=float32), array([[0., 0., 0., 0., 0., 1.]], dtype=float32), array([[0., 0., 0., 0., 0., 1.]], dtype=float32), array([[0., 0., 0., 0., 0., 1.]], dtype=float32), array([[0., 0., 0., 0., 0., 1.]], dtype=float32), array([[0., 0., 0., 0., 0., 1.]], dtype=float32), array([[0., 0., 0., 0., 0., 1.]], dtype=float32), array([[0., 0., 0., 0., 0., 1.]], dtype=float32)]\n",
      "[array([[0., 0., 0., 0., 0., 1.]], dtype=float32), array([[0., 0., 0., 0., 0., 1.]], dtype=float32), array([[0., 0., 0., 0., 0., 1.]], dtype=float32), array([[0., 0., 0., 0., 0., 1.]], dtype=float32), array([[0., 0., 0., 0., 0., 1.]], dtype=float32), array([[0., 0., 0., 0., 0., 1.]], dtype=float32), array([[0., 0., 0., 0., 0., 1.]], dtype=float32), array([[0., 0., 0., 0., 0., 1.]], dtype=float32), array([[0., 0., 0., 0., 0., 1.]], dtype=float32), array([[0., 0., 0., 0., 0., 1.]], dtype=float32), array([[0., 0., 0., 0., 0., 1.]], dtype=float32), array([[0., 0., 0., 0., 0., 1.]], dtype=float32), array([[0., 0., 0., 0., 0., 1.]], dtype=float32), array([[0., 0., 0., 0., 0., 1.]], dtype=float32), array([[0., 0., 0., 0., 0., 1.]], dtype=float32), array([[0., 0., 0., 0., 0., 1.]], dtype=float32), array([[0., 0., 0., 0., 0., 1.]], dtype=float32), array([[0., 0., 0., 0., 0., 1.]], dtype=float32), array([[0., 0., 0., 0., 0., 1.]], dtype=float32), array([[0., 0., 0., 0., 0., 1.]], dtype=float32), array([[0., 0., 0., 0., 0., 1.]], dtype=float32), array([[0., 0., 0., 0., 0., 1.]], dtype=float32), array([[0., 0., 0., 0., 0., 1.]], dtype=float32), array([[0., 0., 0., 0., 0., 1.]], dtype=float32), array([[0., 0., 0., 0., 0., 1.]], dtype=float32), array([[0., 0., 0., 0., 0., 1.]], dtype=float32), array([[0., 0., 0., 0., 0., 1.]], dtype=float32), array([[0., 0., 0., 0., 0., 1.]], dtype=float32), array([[0., 0., 0., 0., 0., 1.]], dtype=float32)]\n",
      "[array([[0., 0., 0., 0., 0., 1.]], dtype=float32), array([[0., 0., 0., 0., 0., 1.]], dtype=float32), array([[0., 0., 0., 0., 0., 1.]], dtype=float32), array([[0., 0., 0., 0., 0., 1.]], dtype=float32), array([[0., 0., 0., 0., 0., 1.]], dtype=float32), array([[0., 0., 0., 0., 0., 1.]], dtype=float32), array([[0., 0., 0., 0., 0., 1.]], dtype=float32), array([[0., 0., 0., 0., 0., 1.]], dtype=float32), array([[0., 0., 0., 0., 0., 1.]], dtype=float32), array([[0., 0., 0., 0., 0., 1.]], dtype=float32), array([[0., 0., 0., 0., 0., 1.]], dtype=float32), array([[0., 0., 0., 0., 0., 1.]], dtype=float32), array([[0., 0., 0., 0., 0., 1.]], dtype=float32), array([[0., 0., 0., 0., 0., 1.]], dtype=float32), array([[0., 0., 0., 0., 0., 1.]], dtype=float32), array([[0., 0., 0., 0., 0., 1.]], dtype=float32), array([[0., 0., 0., 0., 0., 1.]], dtype=float32), array([[0., 0., 0., 0., 0., 1.]], dtype=float32), array([[0., 0., 0., 0., 0., 1.]], dtype=float32), array([[0., 0., 0., 0., 0., 1.]], dtype=float32), array([[0., 0., 0., 0., 0., 1.]], dtype=float32), array([[0., 0., 0., 0., 0., 1.]], dtype=float32), array([[0., 0., 0., 0., 0., 1.]], dtype=float32), array([[0., 0., 0., 0., 0., 1.]], dtype=float32), array([[0., 0., 0., 0., 0., 1.]], dtype=float32), array([[0., 0., 0., 0., 0., 1.]], dtype=float32), array([[0., 0., 0., 0., 0., 1.]], dtype=float32), array([[0., 0., 0., 0., 0., 1.]], dtype=float32), array([[0., 0., 0., 0., 0., 1.]], dtype=float32)]\n",
      "[array([[0., 0., 0., 0., 0., 1.]], dtype=float32), array([[0., 0., 0., 0., 0., 1.]], dtype=float32), array([[0., 0., 0., 0., 0., 1.]], dtype=float32), array([[0., 0., 0., 0., 0., 1.]], dtype=float32), array([[0., 0., 0., 0., 0., 1.]], dtype=float32), array([[0., 0., 0., 0., 0., 1.]], dtype=float32), array([[0., 0., 0., 0., 0., 1.]], dtype=float32), array([[0., 0., 0., 0., 0., 1.]], dtype=float32), array([[0., 0., 0., 0., 0., 1.]], dtype=float32), array([[0., 0., 0., 0., 0., 1.]], dtype=float32), array([[0., 0., 0., 0., 0., 1.]], dtype=float32), array([[0., 0., 0., 0., 0., 1.]], dtype=float32), array([[0., 0., 0., 0., 0., 1.]], dtype=float32), array([[0., 0., 0., 0., 0., 1.]], dtype=float32), array([[0., 0., 0., 0., 0., 1.]], dtype=float32), array([[0., 0., 0., 0., 0., 1.]], dtype=float32), array([[0., 0., 0., 0., 0., 1.]], dtype=float32), array([[0., 0., 0., 0., 0., 1.]], dtype=float32), array([[0., 0., 0., 0., 0., 1.]], dtype=float32), array([[0., 0., 0., 0., 0., 1.]], dtype=float32), array([[0., 0., 0., 0., 0., 1.]], dtype=float32), array([[0., 0., 0., 0., 0., 1.]], dtype=float32), array([[0., 0., 0., 0., 0., 1.]], dtype=float32), array([[0., 0., 0., 0., 0., 1.]], dtype=float32), array([[0., 0., 0., 0., 0., 1.]], dtype=float32), array([[0., 0., 0., 0., 0., 1.]], dtype=float32), array([[0., 0., 0., 0., 0., 1.]], dtype=float32), array([[0., 0., 0., 0., 0., 1.]], dtype=float32), array([[0., 0., 0., 0., 0., 1.]], dtype=float32)]\n",
      "[array([[0., 0., 0., 0., 0., 1.]], dtype=float32), array([[0., 0., 0., 0., 0., 1.]], dtype=float32), array([[0., 0., 0., 0., 0., 1.]], dtype=float32), array([[0., 0., 0., 0., 0., 1.]], dtype=float32), array([[0., 0., 0., 0., 0., 1.]], dtype=float32), array([[0., 0., 0., 0., 0., 1.]], dtype=float32), array([[0., 0., 0., 0., 0., 1.]], dtype=float32), array([[0., 0., 0., 0., 0., 1.]], dtype=float32), array([[0., 0., 0., 0., 0., 1.]], dtype=float32), array([[0., 0., 0., 0., 0., 1.]], dtype=float32), array([[0., 0., 0., 0., 0., 1.]], dtype=float32), array([[0., 0., 0., 0., 0., 1.]], dtype=float32), array([[0., 0., 0., 0., 0., 1.]], dtype=float32), array([[0., 0., 0., 0., 0., 1.]], dtype=float32), array([[0., 0., 0., 0., 0., 1.]], dtype=float32), array([[0., 0., 0., 0., 0., 1.]], dtype=float32), array([[0., 0., 0., 0., 0., 1.]], dtype=float32), array([[0., 0., 0., 0., 0., 1.]], dtype=float32), array([[0., 0., 0., 0., 0., 1.]], dtype=float32), array([[0., 0., 0., 0., 0., 1.]], dtype=float32), array([[0., 0., 0., 0., 0., 1.]], dtype=float32), array([[0., 0., 0., 0., 0., 1.]], dtype=float32), array([[0., 0., 0., 0., 0., 1.]], dtype=float32), array([[0., 0., 0., 0., 0., 1.]], dtype=float32), array([[0., 0., 0., 0., 0., 1.]], dtype=float32), array([[0., 0., 0., 0., 0., 1.]], dtype=float32), array([[0., 0., 0., 0., 0., 1.]], dtype=float32), array([[0., 0., 0., 0., 0., 1.]], dtype=float32), array([[0., 0., 0., 0., 0., 1.]], dtype=float32)]\n",
      "29\n",
      "0\n",
      "Result: Okay\n"
     ]
    }
   ],
   "source": [
    "image1 = ['jpg', 'jpeg', 'png','jfif']\n",
    "video1 = ['mp4', 'gif']\n",
    "result = 0\n",
    "#Enter your path to an image\n",
    "path = r'C:\\Users\\Sakshi\\Documents\\Project\\Testing\\4.jpg'\n",
    "#path = r'C:\\Users\\Sakshi\\Documents\\Data\\testing\\giphy.gif'\n",
    "extension = path.split('.')[-1]\n",
    "\n",
    "if extension in image1:\n",
    "    print('Format: Image')\n",
    "    img = Image.open(path)\n",
    "    plt.imshow(img)\n",
    "    test_img = keras.preprocessing.image.load_img(path, target_size = (32,32))\n",
    "    print(type(test_img))\n",
    "    test_img = tf.keras.preprocessing.image.img_to_array(test_img)\n",
    "    print(type(test_img))\n",
    "    test_img = np.expand_dims(test_img, axis = 0)\n",
    "    result = model.predict(test_img)\n",
    "    print(result)\n",
    "    if result[0][4] == 1 or result[0][5] == 1 or [0][0] == 1:\n",
    "        print('Result: Okay')\n",
    "    else:\n",
    "        print('Result: Not Okay') \n",
    "\n",
    "if extension in video1:\n",
    "    print('Format: Video')\n",
    "    res = []\n",
    "    vidcap = cv2.VideoCapture(path)\n",
    "    success, image = vidcap.read()\n",
    "    count = 0\n",
    "    while success:\n",
    "        success,image = vidcap.read()\n",
    "        if success:\n",
    "            print('read a new frame:', success)\n",
    "            count+=1\n",
    "            images = cv2.resize(image, (32,32),3)\n",
    "            #images  = images.reshape(32,32,3)\n",
    "            print(image.shape)\n",
    "            test_img = np.expand_dims(images, axis = 0)\n",
    "            result = model.predict(test_img)\n",
    "            res.append(result)\n",
    "        else:\n",
    "            break\n",
    "\n",
    "    print(len(res))\n",
    "    okay = 0\n",
    "    notokay = 0\n",
    "    for result in res:\n",
    "        print(res)\n",
    "        if result[0][4] == 1 or result[0][5] == 1 or [0][0] == 1:\n",
    "            okay+=1 \n",
    "        else:\n",
    "            notokay+=1\n",
    "    print(okay)\n",
    "    print(notokay)\n",
    "    if okay > notokay:\n",
    "        print('Result: Okay')\n",
    "    else:\n",
    "        print('Result: Not Okay')\n"
   ]
  },
  {
   "cell_type": "markdown",
   "metadata": {},
   "source": [
    "## Anvil Integration"
   ]
  },
  {
   "cell_type": "code",
   "execution_count": 2,
   "metadata": {},
   "outputs": [],
   "source": [
    "import anvil.server\n",
    "import anvil.media\n",
    "import anvil.mpl_util\n",
    "\n",
    "\n",
    "anvil.server.connect(\"PJX2AL2HH5JGLC2BLUSKZQMZ-KYSL46SO2Y4TEIKK\")\n"
   ]
  },
  {
   "cell_type": "code",
   "execution_count": 3,
   "metadata": {},
   "outputs": [
    {
     "name": "stderr",
     "output_type": "stream",
     "text": [
      "Using TensorFlow backend.\n"
     ]
    }
   ],
   "source": [
    "import pandas as pd\n",
    "import numpy as np\n",
    "import tensorflow as tf\n",
    "import keras\n",
    "from keras.preprocessing.image import ImageDataGenerator\n",
    "from keras.preprocessing import image\n",
    "from keras.models import Sequential\n",
    "from keras.layers import Conv2D, MaxPooling2D, Flatten, Dense, Activation\n",
    "from PIL import Image\n",
    "import cv2\n",
    "import pickle\n",
    "import seaborn as sns \n",
    "import matplotlib.pyplot as plt \n"
   ]
  },
  {
   "cell_type": "code",
   "execution_count": 4,
   "metadata": {},
   "outputs": [],
   "source": [
    "import pickle\n",
    "model = pickle.load(open(r'finalized_model.sav', 'rb'))\n"
   ]
  },
  {
   "cell_type": "code",
   "execution_count": 5,
   "metadata": {},
   "outputs": [],
   "source": [
    "@anvil.server.callable\n",
    "def image_processing(path):\n",
    "    res = []\n",
    "    imagelen = []\n",
    "    #path = r'C:\\Users\\Sakshi\\FinalYearProject\\NSFW Test Dataset-20200515T145850Z-001\\giphy (2).gif'\n",
    "    #vidcap = cv2.VideoCapture(r'C:\\Users\\Sakshi\\FinalYearProject\\NSFW Test Dataset-20200515T145850Z-001\\download.jfif')\n",
    "    with anvil.media.TempFile(path) as filename:\n",
    "        img = cv2.imread(filename)\n",
    "    \n",
    "        if img is not None:\n",
    "\n",
    "                    print('yes')\n",
    "                    test_img =  tf.keras.preprocessing.image.load_img(filename, target_size = (32,32))\n",
    "                    print(type(test_img))\n",
    "                    test_img =  tf.keras.preprocessing.image.img_to_array(test_img)\n",
    "                    print(type(test_img))\n",
    "                    test_img = np.expand_dims(test_img, axis = 0)\n",
    "                    result = model.predict(test_img)\n",
    "                    print(result)\n",
    "                    if result[0][4] == 1 or result[0][5] == 1:\n",
    "                        print('okay')\n",
    "                        return ('Result: ', result[0], 'Conclusion:Entered image is good to go ')\n",
    "                    else:\n",
    "                        print('not okay')\n",
    "                        return ('Result: ', result[0], 'Conclusion: Image not accepted')\n",
    "\n",
    "        else:\n",
    "\n",
    "                vidcap = cv2.VideoCapture(filename)\n",
    "                success, image = vidcap.read()\n",
    "                #print(image.shape)\n",
    "                count = 0\n",
    "                while success:\n",
    "                    success,image = vidcap.read()\n",
    "                    if success:\n",
    "                        print('read a new frame:', success)\n",
    "                        count+=1\n",
    "                        images = cv2.resize(image, (32,32),3)\n",
    "                        #images  = images.reshape(32,32,3)\n",
    "                        #rint(image.shape)\n",
    "                        test_img = np.expand_dims(images, axis = 0)\n",
    "                        result = model.predict(test_img)\n",
    "                        res.append(result)\n",
    "                    else:\n",
    "                           break \n",
    "                print('XXXXXXXXXXXXXXXXXXXXXXXXXXXXXXXXXXXXXXXXXXXXXXXXXXXXXXXXXXXXXXXXXXXXXXX')\n",
    "                #print(len(res))\n",
    "                okay = 0\n",
    "                notokay = 0\n",
    "                for result in res:\n",
    "                    print(res)\n",
    "                    if result[0][4] == 1 or result[0][5] == 1:\n",
    "                        okay+=1 \n",
    "                    else:\n",
    "                        notokay+=1\n",
    "                print('Okay Count: ',okay)\n",
    "                print('Not Okay Count:',notokay)\n",
    "                if okay > notokay:\n",
    "                    print('okay')\n",
    "                    return ('Result: ', result[0], 'Conclusion: Entered video/gif is good to go ')\n",
    "                else:\n",
    "                    print('notokay')\n",
    "                    return ('Result: ', result[0], 'Conclusion: Image not accepted')\n",
    "\n",
    "\n",
    "\n",
    "            \n",
    "           \n",
    "\n"
   ]
  },
  {
   "cell_type": "code",
   "execution_count": 6,
   "metadata": {},
   "outputs": [
    {
     "name": "stdout",
     "output_type": "stream",
     "text": [
      "read a new frame: True\n",
      "read a new frame: True\n",
      "read a new frame: True\n",
      "read a new frame: True\n",
      "read a new frame: True\n",
      "read a new frame: True\n",
      "read a new frame: True\n",
      "read a new frame: True\n",
      "read a new frame: True\n",
      "read a new frame: True\n",
      "read a new frame: True\n",
      "read a new frame: True\n",
      "read a new frame: True\n",
      "read a new frame: True\n",
      "read a new frame: True\n",
      "read a new frame: True\n",
      "read a new frame: True\n",
      "read a new frame: True\n",
      "read a new frame: True\n",
      "read a new frame: True\n",
      "read a new frame: True\n",
      "read a new frame: True\n",
      "read a new frame: True\n",
      "read a new frame: True\n",
      "read a new frame: True\n",
      "read a new frame: True\n",
      "read a new frame: True\n",
      "read a new frame: True\n",
      "read a new frame: True\n",
      "XXXXXXXXXXXXXXXXXXXXXXXXXXXXXXXXXXXXXXXXXXXXXXXXXXXXXXXXXXXXXXXXXXXXXXX\n",
      "[array([[0., 0., 0., 0., 0., 1.]], dtype=float32), array([[0., 0., 0., 0., 0., 1.]], dtype=float32), array([[0., 0., 0., 0., 0., 1.]], dtype=float32), array([[0., 0., 0., 0., 0., 1.]], dtype=float32), array([[0., 0., 0., 0., 0., 1.]], dtype=float32), array([[0., 0., 0., 0., 0., 1.]], dtype=float32), array([[0., 0., 0., 0., 0., 1.]], dtype=float32), array([[0., 0., 0., 0., 0., 1.]], dtype=float32), array([[0., 0., 0., 0., 0., 1.]], dtype=float32), array([[0., 0., 0., 0., 0., 1.]], dtype=float32), array([[0., 0., 0., 0., 0., 1.]], dtype=float32), array([[0., 0., 0., 0., 0., 1.]], dtype=float32), array([[0., 0., 0., 0., 0., 1.]], dtype=float32), array([[0., 0., 0., 0., 0., 1.]], dtype=float32), array([[0., 0., 0., 0., 0., 1.]], dtype=float32), array([[0., 0., 0., 0., 0., 1.]], dtype=float32), array([[0., 0., 0., 0., 0., 1.]], dtype=float32), array([[0., 0., 0., 0., 0., 1.]], dtype=float32), array([[0., 0., 0., 0., 0., 1.]], dtype=float32), array([[0., 0., 0., 0., 0., 1.]], dtype=float32), array([[0., 0., 0., 0., 0., 1.]], dtype=float32), array([[0., 0., 0., 0., 0., 1.]], dtype=float32), array([[0., 0., 0., 0., 0., 1.]], dtype=float32), array([[0., 0., 0., 0., 0., 1.]], dtype=float32), array([[0., 0., 0., 0., 0., 1.]], dtype=float32), array([[0., 0., 0., 0., 0., 1.]], dtype=float32), array([[0., 0., 0., 0., 0., 1.]], dtype=float32), array([[0., 0., 0., 0., 0., 1.]], dtype=float32), array([[0., 0., 0., 0., 0., 1.]], dtype=float32)]\n",
      "[array([[0., 0., 0., 0., 0., 1.]], dtype=float32), array([[0., 0., 0., 0., 0., 1.]], dtype=float32), array([[0., 0., 0., 0., 0., 1.]], dtype=float32), array([[0., 0., 0., 0., 0., 1.]], dtype=float32), array([[0., 0., 0., 0., 0., 1.]], dtype=float32), array([[0., 0., 0., 0., 0., 1.]], dtype=float32), array([[0., 0., 0., 0., 0., 1.]], dtype=float32), array([[0., 0., 0., 0., 0., 1.]], dtype=float32), array([[0., 0., 0., 0., 0., 1.]], dtype=float32), array([[0., 0., 0., 0., 0., 1.]], dtype=float32), array([[0., 0., 0., 0., 0., 1.]], dtype=float32), array([[0., 0., 0., 0., 0., 1.]], dtype=float32), array([[0., 0., 0., 0., 0., 1.]], dtype=float32), array([[0., 0., 0., 0., 0., 1.]], dtype=float32), array([[0., 0., 0., 0., 0., 1.]], dtype=float32), array([[0., 0., 0., 0., 0., 1.]], dtype=float32), array([[0., 0., 0., 0., 0., 1.]], dtype=float32), array([[0., 0., 0., 0., 0., 1.]], dtype=float32), array([[0., 0., 0., 0., 0., 1.]], dtype=float32), array([[0., 0., 0., 0., 0., 1.]], dtype=float32), array([[0., 0., 0., 0., 0., 1.]], dtype=float32), array([[0., 0., 0., 0., 0., 1.]], dtype=float32), array([[0., 0., 0., 0., 0., 1.]], dtype=float32), array([[0., 0., 0., 0., 0., 1.]], dtype=float32), array([[0., 0., 0., 0., 0., 1.]], dtype=float32), array([[0., 0., 0., 0., 0., 1.]], dtype=float32), array([[0., 0., 0., 0., 0., 1.]], dtype=float32), array([[0., 0., 0., 0., 0., 1.]], dtype=float32), array([[0., 0., 0., 0., 0., 1.]], dtype=float32)]\n",
      "[array([[0., 0., 0., 0., 0., 1.]], dtype=float32), array([[0., 0., 0., 0., 0., 1.]], dtype=float32), array([[0., 0., 0., 0., 0., 1.]], dtype=float32), array([[0., 0., 0., 0., 0., 1.]], dtype=float32), array([[0., 0., 0., 0., 0., 1.]], dtype=float32), array([[0., 0., 0., 0., 0., 1.]], dtype=float32), array([[0., 0., 0., 0., 0., 1.]], dtype=float32), array([[0., 0., 0., 0., 0., 1.]], dtype=float32), array([[0., 0., 0., 0., 0., 1.]], dtype=float32), array([[0., 0., 0., 0., 0., 1.]], dtype=float32), array([[0., 0., 0., 0., 0., 1.]], dtype=float32), array([[0., 0., 0., 0., 0., 1.]], dtype=float32), array([[0., 0., 0., 0., 0., 1.]], dtype=float32), array([[0., 0., 0., 0., 0., 1.]], dtype=float32), array([[0., 0., 0., 0., 0., 1.]], dtype=float32), array([[0., 0., 0., 0., 0., 1.]], dtype=float32), array([[0., 0., 0., 0., 0., 1.]], dtype=float32), array([[0., 0., 0., 0., 0., 1.]], dtype=float32), array([[0., 0., 0., 0., 0., 1.]], dtype=float32), array([[0., 0., 0., 0., 0., 1.]], dtype=float32), array([[0., 0., 0., 0., 0., 1.]], dtype=float32), array([[0., 0., 0., 0., 0., 1.]], dtype=float32), array([[0., 0., 0., 0., 0., 1.]], dtype=float32), array([[0., 0., 0., 0., 0., 1.]], dtype=float32), array([[0., 0., 0., 0., 0., 1.]], dtype=float32), array([[0., 0., 0., 0., 0., 1.]], dtype=float32), array([[0., 0., 0., 0., 0., 1.]], dtype=float32), array([[0., 0., 0., 0., 0., 1.]], dtype=float32), array([[0., 0., 0., 0., 0., 1.]], dtype=float32)]\n",
      "[array([[0., 0., 0., 0., 0., 1.]], dtype=float32), array([[0., 0., 0., 0., 0., 1.]], dtype=float32), array([[0., 0., 0., 0., 0., 1.]], dtype=float32), array([[0., 0., 0., 0., 0., 1.]], dtype=float32), array([[0., 0., 0., 0., 0., 1.]], dtype=float32), array([[0., 0., 0., 0., 0., 1.]], dtype=float32), array([[0., 0., 0., 0., 0., 1.]], dtype=float32), array([[0., 0., 0., 0., 0., 1.]], dtype=float32), array([[0., 0., 0., 0., 0., 1.]], dtype=float32), array([[0., 0., 0., 0., 0., 1.]], dtype=float32), array([[0., 0., 0., 0., 0., 1.]], dtype=float32), array([[0., 0., 0., 0., 0., 1.]], dtype=float32), array([[0., 0., 0., 0., 0., 1.]], dtype=float32), array([[0., 0., 0., 0., 0., 1.]], dtype=float32), array([[0., 0., 0., 0., 0., 1.]], dtype=float32), array([[0., 0., 0., 0., 0., 1.]], dtype=float32), array([[0., 0., 0., 0., 0., 1.]], dtype=float32), array([[0., 0., 0., 0., 0., 1.]], dtype=float32), array([[0., 0., 0., 0., 0., 1.]], dtype=float32), array([[0., 0., 0., 0., 0., 1.]], dtype=float32), array([[0., 0., 0., 0., 0., 1.]], dtype=float32), array([[0., 0., 0., 0., 0., 1.]], dtype=float32), array([[0., 0., 0., 0., 0., 1.]], dtype=float32), array([[0., 0., 0., 0., 0., 1.]], dtype=float32), array([[0., 0., 0., 0., 0., 1.]], dtype=float32), array([[0., 0., 0., 0., 0., 1.]], dtype=float32), array([[0., 0., 0., 0., 0., 1.]], dtype=float32), array([[0., 0., 0., 0., 0., 1.]], dtype=float32), array([[0., 0., 0., 0., 0., 1.]], dtype=float32)]\n",
      "[array([[0., 0., 0., 0., 0., 1.]], dtype=float32), array([[0., 0., 0., 0., 0., 1.]], dtype=float32), array([[0., 0., 0., 0., 0., 1.]], dtype=float32), array([[0., 0., 0., 0., 0., 1.]], dtype=float32), array([[0., 0., 0., 0., 0., 1.]], dtype=float32), array([[0., 0., 0., 0., 0., 1.]], dtype=float32), array([[0., 0., 0., 0., 0., 1.]], dtype=float32), array([[0., 0., 0., 0., 0., 1.]], dtype=float32), array([[0., 0., 0., 0., 0., 1.]], dtype=float32), array([[0., 0., 0., 0., 0., 1.]], dtype=float32), array([[0., 0., 0., 0., 0., 1.]], dtype=float32), array([[0., 0., 0., 0., 0., 1.]], dtype=float32), array([[0., 0., 0., 0., 0., 1.]], dtype=float32), array([[0., 0., 0., 0., 0., 1.]], dtype=float32), array([[0., 0., 0., 0., 0., 1.]], dtype=float32), array([[0., 0., 0., 0., 0., 1.]], dtype=float32), array([[0., 0., 0., 0., 0., 1.]], dtype=float32), array([[0., 0., 0., 0., 0., 1.]], dtype=float32), array([[0., 0., 0., 0., 0., 1.]], dtype=float32), array([[0., 0., 0., 0., 0., 1.]], dtype=float32), array([[0., 0., 0., 0., 0., 1.]], dtype=float32), array([[0., 0., 0., 0., 0., 1.]], dtype=float32), array([[0., 0., 0., 0., 0., 1.]], dtype=float32), array([[0., 0., 0., 0., 0., 1.]], dtype=float32), array([[0., 0., 0., 0., 0., 1.]], dtype=float32), array([[0., 0., 0., 0., 0., 1.]], dtype=float32), array([[0., 0., 0., 0., 0., 1.]], dtype=float32), array([[0., 0., 0., 0., 0., 1.]], dtype=float32), array([[0., 0., 0., 0., 0., 1.]], dtype=float32)]\n",
      "[array([[0., 0., 0., 0., 0., 1.]], dtype=float32), array([[0., 0., 0., 0., 0., 1.]], dtype=float32), array([[0., 0., 0., 0., 0., 1.]], dtype=float32), array([[0., 0., 0., 0., 0., 1.]], dtype=float32), array([[0., 0., 0., 0., 0., 1.]], dtype=float32), array([[0., 0., 0., 0., 0., 1.]], dtype=float32), array([[0., 0., 0., 0., 0., 1.]], dtype=float32), array([[0., 0., 0., 0., 0., 1.]], dtype=float32), array([[0., 0., 0., 0., 0., 1.]], dtype=float32), array([[0., 0., 0., 0., 0., 1.]], dtype=float32), array([[0., 0., 0., 0., 0., 1.]], dtype=float32), array([[0., 0., 0., 0., 0., 1.]], dtype=float32), array([[0., 0., 0., 0., 0., 1.]], dtype=float32), array([[0., 0., 0., 0., 0., 1.]], dtype=float32), array([[0., 0., 0., 0., 0., 1.]], dtype=float32), array([[0., 0., 0., 0., 0., 1.]], dtype=float32), array([[0., 0., 0., 0., 0., 1.]], dtype=float32), array([[0., 0., 0., 0., 0., 1.]], dtype=float32), array([[0., 0., 0., 0., 0., 1.]], dtype=float32), array([[0., 0., 0., 0., 0., 1.]], dtype=float32), array([[0., 0., 0., 0., 0., 1.]], dtype=float32), array([[0., 0., 0., 0., 0., 1.]], dtype=float32), array([[0., 0., 0., 0., 0., 1.]], dtype=float32), array([[0., 0., 0., 0., 0., 1.]], dtype=float32), array([[0., 0., 0., 0., 0., 1.]], dtype=float32), array([[0., 0., 0., 0., 0., 1.]], dtype=float32), array([[0., 0., 0., 0., 0., 1.]], dtype=float32), array([[0., 0., 0., 0., 0., 1.]], dtype=float32), array([[0., 0., 0., 0., 0., 1.]], dtype=float32)]\n",
      "[array([[0., 0., 0., 0., 0., 1.]], dtype=float32), array([[0., 0., 0., 0., 0., 1.]], dtype=float32), array([[0., 0., 0., 0., 0., 1.]], dtype=float32), array([[0., 0., 0., 0., 0., 1.]], dtype=float32), array([[0., 0., 0., 0., 0., 1.]], dtype=float32), array([[0., 0., 0., 0., 0., 1.]], dtype=float32), array([[0., 0., 0., 0., 0., 1.]], dtype=float32), array([[0., 0., 0., 0., 0., 1.]], dtype=float32), array([[0., 0., 0., 0., 0., 1.]], dtype=float32), array([[0., 0., 0., 0., 0., 1.]], dtype=float32), array([[0., 0., 0., 0., 0., 1.]], dtype=float32), array([[0., 0., 0., 0., 0., 1.]], dtype=float32), array([[0., 0., 0., 0., 0., 1.]], dtype=float32), array([[0., 0., 0., 0., 0., 1.]], dtype=float32), array([[0., 0., 0., 0., 0., 1.]], dtype=float32), array([[0., 0., 0., 0., 0., 1.]], dtype=float32), array([[0., 0., 0., 0., 0., 1.]], dtype=float32), array([[0., 0., 0., 0., 0., 1.]], dtype=float32), array([[0., 0., 0., 0., 0., 1.]], dtype=float32), array([[0., 0., 0., 0., 0., 1.]], dtype=float32), array([[0., 0., 0., 0., 0., 1.]], dtype=float32), array([[0., 0., 0., 0., 0., 1.]], dtype=float32), array([[0., 0., 0., 0., 0., 1.]], dtype=float32), array([[0., 0., 0., 0., 0., 1.]], dtype=float32), array([[0., 0., 0., 0., 0., 1.]], dtype=float32), array([[0., 0., 0., 0., 0., 1.]], dtype=float32), array([[0., 0., 0., 0., 0., 1.]], dtype=float32), array([[0., 0., 0., 0., 0., 1.]], dtype=float32), array([[0., 0., 0., 0., 0., 1.]], dtype=float32)]\n",
      "[array([[0., 0., 0., 0., 0., 1.]], dtype=float32), array([[0., 0., 0., 0., 0., 1.]], dtype=float32), array([[0., 0., 0., 0., 0., 1.]], dtype=float32), array([[0., 0., 0., 0., 0., 1.]], dtype=float32), array([[0., 0., 0., 0., 0., 1.]], dtype=float32), array([[0., 0., 0., 0., 0., 1.]], dtype=float32), array([[0., 0., 0., 0., 0., 1.]], dtype=float32), array([[0., 0., 0., 0., 0., 1.]], dtype=float32), array([[0., 0., 0., 0., 0., 1.]], dtype=float32), array([[0., 0., 0., 0., 0., 1.]], dtype=float32), array([[0., 0., 0., 0., 0., 1.]], dtype=float32), array([[0., 0., 0., 0., 0., 1.]], dtype=float32), array([[0., 0., 0., 0., 0., 1.]], dtype=float32), array([[0., 0., 0., 0., 0., 1.]], dtype=float32), array([[0., 0., 0., 0., 0., 1.]], dtype=float32), array([[0., 0., 0., 0., 0., 1.]], dtype=float32), array([[0., 0., 0., 0., 0., 1.]], dtype=float32), array([[0., 0., 0., 0., 0., 1.]], dtype=float32), array([[0., 0., 0., 0., 0., 1.]], dtype=float32), array([[0., 0., 0., 0., 0., 1.]], dtype=float32), array([[0., 0., 0., 0., 0., 1.]], dtype=float32), array([[0., 0., 0., 0., 0., 1.]], dtype=float32), array([[0., 0., 0., 0., 0., 1.]], dtype=float32), array([[0., 0., 0., 0., 0., 1.]], dtype=float32), array([[0., 0., 0., 0., 0., 1.]], dtype=float32), array([[0., 0., 0., 0., 0., 1.]], dtype=float32), array([[0., 0., 0., 0., 0., 1.]], dtype=float32), array([[0., 0., 0., 0., 0., 1.]], dtype=float32), array([[0., 0., 0., 0., 0., 1.]], dtype=float32)]\n",
      "[array([[0., 0., 0., 0., 0., 1.]], dtype=float32), array([[0., 0., 0., 0., 0., 1.]], dtype=float32), array([[0., 0., 0., 0., 0., 1.]], dtype=float32), array([[0., 0., 0., 0., 0., 1.]], dtype=float32), array([[0., 0., 0., 0., 0., 1.]], dtype=float32), array([[0., 0., 0., 0., 0., 1.]], dtype=float32), array([[0., 0., 0., 0., 0., 1.]], dtype=float32), array([[0., 0., 0., 0., 0., 1.]], dtype=float32), array([[0., 0., 0., 0., 0., 1.]], dtype=float32), array([[0., 0., 0., 0., 0., 1.]], dtype=float32), array([[0., 0., 0., 0., 0., 1.]], dtype=float32), array([[0., 0., 0., 0., 0., 1.]], dtype=float32), array([[0., 0., 0., 0., 0., 1.]], dtype=float32), array([[0., 0., 0., 0., 0., 1.]], dtype=float32), array([[0., 0., 0., 0., 0., 1.]], dtype=float32), array([[0., 0., 0., 0., 0., 1.]], dtype=float32), array([[0., 0., 0., 0., 0., 1.]], dtype=float32), array([[0., 0., 0., 0., 0., 1.]], dtype=float32), array([[0., 0., 0., 0., 0., 1.]], dtype=float32), array([[0., 0., 0., 0., 0., 1.]], dtype=float32), array([[0., 0., 0., 0., 0., 1.]], dtype=float32), array([[0., 0., 0., 0., 0., 1.]], dtype=float32), array([[0., 0., 0., 0., 0., 1.]], dtype=float32), array([[0., 0., 0., 0., 0., 1.]], dtype=float32), array([[0., 0., 0., 0., 0., 1.]], dtype=float32), array([[0., 0., 0., 0., 0., 1.]], dtype=float32), array([[0., 0., 0., 0., 0., 1.]], dtype=float32), array([[0., 0., 0., 0., 0., 1.]], dtype=float32), array([[0., 0., 0., 0., 0., 1.]], dtype=float32)]\n",
      "[array([[0., 0., 0., 0., 0., 1.]], dtype=float32), array([[0., 0., 0., 0., 0., 1.]], dtype=float32), array([[0., 0., 0., 0., 0., 1.]], dtype=float32), array([[0., 0., 0., 0., 0., 1.]], dtype=float32), array([[0., 0., 0., 0., 0., 1.]], dtype=float32), array([[0., 0., 0., 0., 0., 1.]], dtype=float32), array([[0., 0., 0., 0., 0., 1.]], dtype=float32), array([[0., 0., 0., 0., 0., 1.]], dtype=float32), array([[0., 0., 0., 0., 0., 1.]], dtype=float32), array([[0., 0., 0., 0., 0., 1.]], dtype=float32), array([[0., 0., 0., 0., 0., 1.]], dtype=float32), array([[0., 0., 0., 0., 0., 1.]], dtype=float32), array([[0., 0., 0., 0., 0., 1.]], dtype=float32), array([[0., 0., 0., 0., 0., 1.]], dtype=float32), array([[0., 0., 0., 0., 0., 1.]], dtype=float32), array([[0., 0., 0., 0., 0., 1.]], dtype=float32), array([[0., 0., 0., 0., 0., 1.]], dtype=float32), array([[0., 0., 0., 0., 0., 1.]], dtype=float32), array([[0., 0., 0., 0., 0., 1.]], dtype=float32), array([[0., 0., 0., 0., 0., 1.]], dtype=float32), array([[0., 0., 0., 0., 0., 1.]], dtype=float32), array([[0., 0., 0., 0., 0., 1.]], dtype=float32), array([[0., 0., 0., 0., 0., 1.]], dtype=float32), array([[0., 0., 0., 0., 0., 1.]], dtype=float32), array([[0., 0., 0., 0., 0., 1.]], dtype=float32), array([[0., 0., 0., 0., 0., 1.]], dtype=float32), array([[0., 0., 0., 0., 0., 1.]], dtype=float32), array([[0., 0., 0., 0., 0., 1.]], dtype=float32), array([[0., 0., 0., 0., 0., 1.]], dtype=float32)]\n",
      "[array([[0., 0., 0., 0., 0., 1.]], dtype=float32), array([[0., 0., 0., 0., 0., 1.]], dtype=float32), array([[0., 0., 0., 0., 0., 1.]], dtype=float32), array([[0., 0., 0., 0., 0., 1.]], dtype=float32), array([[0., 0., 0., 0., 0., 1.]], dtype=float32), array([[0., 0., 0., 0., 0., 1.]], dtype=float32), array([[0., 0., 0., 0., 0., 1.]], dtype=float32), array([[0., 0., 0., 0., 0., 1.]], dtype=float32), array([[0., 0., 0., 0., 0., 1.]], dtype=float32), array([[0., 0., 0., 0., 0., 1.]], dtype=float32), array([[0., 0., 0., 0., 0., 1.]], dtype=float32), array([[0., 0., 0., 0., 0., 1.]], dtype=float32), array([[0., 0., 0., 0., 0., 1.]], dtype=float32), array([[0., 0., 0., 0., 0., 1.]], dtype=float32), array([[0., 0., 0., 0., 0., 1.]], dtype=float32), array([[0., 0., 0., 0., 0., 1.]], dtype=float32), array([[0., 0., 0., 0., 0., 1.]], dtype=float32), array([[0., 0., 0., 0., 0., 1.]], dtype=float32), array([[0., 0., 0., 0., 0., 1.]], dtype=float32), array([[0., 0., 0., 0., 0., 1.]], dtype=float32), array([[0., 0., 0., 0., 0., 1.]], dtype=float32), array([[0., 0., 0., 0., 0., 1.]], dtype=float32), array([[0., 0., 0., 0., 0., 1.]], dtype=float32), array([[0., 0., 0., 0., 0., 1.]], dtype=float32), array([[0., 0., 0., 0., 0., 1.]], dtype=float32), array([[0., 0., 0., 0., 0., 1.]], dtype=float32), array([[0., 0., 0., 0., 0., 1.]], dtype=float32), array([[0., 0., 0., 0., 0., 1.]], dtype=float32), array([[0., 0., 0., 0., 0., 1.]], dtype=float32)]\n",
      "[array([[0., 0., 0., 0., 0., 1.]], dtype=float32), array([[0., 0., 0., 0., 0., 1.]], dtype=float32), array([[0., 0., 0., 0., 0., 1.]], dtype=float32), array([[0., 0., 0., 0., 0., 1.]], dtype=float32), array([[0., 0., 0., 0., 0., 1.]], dtype=float32), array([[0., 0., 0., 0., 0., 1.]], dtype=float32), array([[0., 0., 0., 0., 0., 1.]], dtype=float32), array([[0., 0., 0., 0., 0., 1.]], dtype=float32), array([[0., 0., 0., 0., 0., 1.]], dtype=float32), array([[0., 0., 0., 0., 0., 1.]], dtype=float32), array([[0., 0., 0., 0., 0., 1.]], dtype=float32), array([[0., 0., 0., 0., 0., 1.]], dtype=float32), array([[0., 0., 0., 0., 0., 1.]], dtype=float32), array([[0., 0., 0., 0., 0., 1.]], dtype=float32), array([[0., 0., 0., 0., 0., 1.]], dtype=float32), array([[0., 0., 0., 0., 0., 1.]], dtype=float32), array([[0., 0., 0., 0., 0., 1.]], dtype=float32), array([[0., 0., 0., 0., 0., 1.]], dtype=float32), array([[0., 0., 0., 0., 0., 1.]], dtype=float32), array([[0., 0., 0., 0., 0., 1.]], dtype=float32), array([[0., 0., 0., 0., 0., 1.]], dtype=float32), array([[0., 0., 0., 0., 0., 1.]], dtype=float32), array([[0., 0., 0., 0., 0., 1.]], dtype=float32), array([[0., 0., 0., 0., 0., 1.]], dtype=float32), array([[0., 0., 0., 0., 0., 1.]], dtype=float32), array([[0., 0., 0., 0., 0., 1.]], dtype=float32), array([[0., 0., 0., 0., 0., 1.]], dtype=float32), array([[0., 0., 0., 0., 0., 1.]], dtype=float32), array([[0., 0., 0., 0., 0., 1.]], dtype=float32)]\n",
      "[array([[0., 0., 0., 0., 0., 1.]], dtype=float32), array([[0., 0., 0., 0., 0., 1.]], dtype=float32), array([[0., 0., 0., 0., 0., 1.]], dtype=float32), array([[0., 0., 0., 0., 0., 1.]], dtype=float32), array([[0., 0., 0., 0., 0., 1.]], dtype=float32), array([[0., 0., 0., 0., 0., 1.]], dtype=float32), array([[0., 0., 0., 0., 0., 1.]], dtype=float32), array([[0., 0., 0., 0., 0., 1.]], dtype=float32), array([[0., 0., 0., 0., 0., 1.]], dtype=float32), array([[0., 0., 0., 0., 0., 1.]], dtype=float32), array([[0., 0., 0., 0., 0., 1.]], dtype=float32), array([[0., 0., 0., 0., 0., 1.]], dtype=float32), array([[0., 0., 0., 0., 0., 1.]], dtype=float32), array([[0., 0., 0., 0., 0., 1.]], dtype=float32), array([[0., 0., 0., 0., 0., 1.]], dtype=float32), array([[0., 0., 0., 0., 0., 1.]], dtype=float32), array([[0., 0., 0., 0., 0., 1.]], dtype=float32), array([[0., 0., 0., 0., 0., 1.]], dtype=float32), array([[0., 0., 0., 0., 0., 1.]], dtype=float32), array([[0., 0., 0., 0., 0., 1.]], dtype=float32), array([[0., 0., 0., 0., 0., 1.]], dtype=float32), array([[0., 0., 0., 0., 0., 1.]], dtype=float32), array([[0., 0., 0., 0., 0., 1.]], dtype=float32), array([[0., 0., 0., 0., 0., 1.]], dtype=float32), array([[0., 0., 0., 0., 0., 1.]], dtype=float32), array([[0., 0., 0., 0., 0., 1.]], dtype=float32), array([[0., 0., 0., 0., 0., 1.]], dtype=float32), array([[0., 0., 0., 0., 0., 1.]], dtype=float32), array([[0., 0., 0., 0., 0., 1.]], dtype=float32)]\n",
      "[array([[0., 0., 0., 0., 0., 1.]], dtype=float32), array([[0., 0., 0., 0., 0., 1.]], dtype=float32), array([[0., 0., 0., 0., 0., 1.]], dtype=float32), array([[0., 0., 0., 0., 0., 1.]], dtype=float32), array([[0., 0., 0., 0., 0., 1.]], dtype=float32), array([[0., 0., 0., 0., 0., 1.]], dtype=float32), array([[0., 0., 0., 0., 0., 1.]], dtype=float32), array([[0., 0., 0., 0., 0., 1.]], dtype=float32), array([[0., 0., 0., 0., 0., 1.]], dtype=float32), array([[0., 0., 0., 0., 0., 1.]], dtype=float32), array([[0., 0., 0., 0., 0., 1.]], dtype=float32), array([[0., 0., 0., 0., 0., 1.]], dtype=float32), array([[0., 0., 0., 0., 0., 1.]], dtype=float32), array([[0., 0., 0., 0., 0., 1.]], dtype=float32), array([[0., 0., 0., 0., 0., 1.]], dtype=float32), array([[0., 0., 0., 0., 0., 1.]], dtype=float32), array([[0., 0., 0., 0., 0., 1.]], dtype=float32), array([[0., 0., 0., 0., 0., 1.]], dtype=float32), array([[0., 0., 0., 0., 0., 1.]], dtype=float32), array([[0., 0., 0., 0., 0., 1.]], dtype=float32), array([[0., 0., 0., 0., 0., 1.]], dtype=float32), array([[0., 0., 0., 0., 0., 1.]], dtype=float32), array([[0., 0., 0., 0., 0., 1.]], dtype=float32), array([[0., 0., 0., 0., 0., 1.]], dtype=float32), array([[0., 0., 0., 0., 0., 1.]], dtype=float32), array([[0., 0., 0., 0., 0., 1.]], dtype=float32), array([[0., 0., 0., 0., 0., 1.]], dtype=float32), array([[0., 0., 0., 0., 0., 1.]], dtype=float32), array([[0., 0., 0., 0., 0., 1.]], dtype=float32)]\n",
      "[array([[0., 0., 0., 0., 0., 1.]], dtype=float32), array([[0., 0., 0., 0., 0., 1.]], dtype=float32), array([[0., 0., 0., 0., 0., 1.]], dtype=float32), array([[0., 0., 0., 0., 0., 1.]], dtype=float32), array([[0., 0., 0., 0., 0., 1.]], dtype=float32), array([[0., 0., 0., 0., 0., 1.]], dtype=float32), array([[0., 0., 0., 0., 0., 1.]], dtype=float32), array([[0., 0., 0., 0., 0., 1.]], dtype=float32), array([[0., 0., 0., 0., 0., 1.]], dtype=float32), array([[0., 0., 0., 0., 0., 1.]], dtype=float32), array([[0., 0., 0., 0., 0., 1.]], dtype=float32), array([[0., 0., 0., 0., 0., 1.]], dtype=float32), array([[0., 0., 0., 0., 0., 1.]], dtype=float32), array([[0., 0., 0., 0., 0., 1.]], dtype=float32), array([[0., 0., 0., 0., 0., 1.]], dtype=float32), array([[0., 0., 0., 0., 0., 1.]], dtype=float32), array([[0., 0., 0., 0., 0., 1.]], dtype=float32), array([[0., 0., 0., 0., 0., 1.]], dtype=float32), array([[0., 0., 0., 0., 0., 1.]], dtype=float32), array([[0., 0., 0., 0., 0., 1.]], dtype=float32), array([[0., 0., 0., 0., 0., 1.]], dtype=float32), array([[0., 0., 0., 0., 0., 1.]], dtype=float32), array([[0., 0., 0., 0., 0., 1.]], dtype=float32), array([[0., 0., 0., 0., 0., 1.]], dtype=float32), array([[0., 0., 0., 0., 0., 1.]], dtype=float32), array([[0., 0., 0., 0., 0., 1.]], dtype=float32), array([[0., 0., 0., 0., 0., 1.]], dtype=float32), array([[0., 0., 0., 0., 0., 1.]], dtype=float32), array([[0., 0., 0., 0., 0., 1.]], dtype=float32)]\n",
      "[array([[0., 0., 0., 0., 0., 1.]], dtype=float32), array([[0., 0., 0., 0., 0., 1.]], dtype=float32), array([[0., 0., 0., 0., 0., 1.]], dtype=float32), array([[0., 0., 0., 0., 0., 1.]], dtype=float32), array([[0., 0., 0., 0., 0., 1.]], dtype=float32), array([[0., 0., 0., 0., 0., 1.]], dtype=float32), array([[0., 0., 0., 0., 0., 1.]], dtype=float32), array([[0., 0., 0., 0., 0., 1.]], dtype=float32), array([[0., 0., 0., 0., 0., 1.]], dtype=float32), array([[0., 0., 0., 0., 0., 1.]], dtype=float32), array([[0., 0., 0., 0., 0., 1.]], dtype=float32), array([[0., 0., 0., 0., 0., 1.]], dtype=float32), array([[0., 0., 0., 0., 0., 1.]], dtype=float32), array([[0., 0., 0., 0., 0., 1.]], dtype=float32), array([[0., 0., 0., 0., 0., 1.]], dtype=float32), array([[0., 0., 0., 0., 0., 1.]], dtype=float32), array([[0., 0., 0., 0., 0., 1.]], dtype=float32), array([[0., 0., 0., 0., 0., 1.]], dtype=float32), array([[0., 0., 0., 0., 0., 1.]], dtype=float32), array([[0., 0., 0., 0., 0., 1.]], dtype=float32), array([[0., 0., 0., 0., 0., 1.]], dtype=float32), array([[0., 0., 0., 0., 0., 1.]], dtype=float32), array([[0., 0., 0., 0., 0., 1.]], dtype=float32), array([[0., 0., 0., 0., 0., 1.]], dtype=float32), array([[0., 0., 0., 0., 0., 1.]], dtype=float32), array([[0., 0., 0., 0., 0., 1.]], dtype=float32), array([[0., 0., 0., 0., 0., 1.]], dtype=float32), array([[0., 0., 0., 0., 0., 1.]], dtype=float32), array([[0., 0., 0., 0., 0., 1.]], dtype=float32)]\n",
      "[array([[0., 0., 0., 0., 0., 1.]], dtype=float32), array([[0., 0., 0., 0., 0., 1.]], dtype=float32), array([[0., 0., 0., 0., 0., 1.]], dtype=float32), array([[0., 0., 0., 0., 0., 1.]], dtype=float32), array([[0., 0., 0., 0., 0., 1.]], dtype=float32), array([[0., 0., 0., 0., 0., 1.]], dtype=float32), array([[0., 0., 0., 0., 0., 1.]], dtype=float32), array([[0., 0., 0., 0., 0., 1.]], dtype=float32), array([[0., 0., 0., 0., 0., 1.]], dtype=float32), array([[0., 0., 0., 0., 0., 1.]], dtype=float32), array([[0., 0., 0., 0., 0., 1.]], dtype=float32), array([[0., 0., 0., 0., 0., 1.]], dtype=float32), array([[0., 0., 0., 0., 0., 1.]], dtype=float32), array([[0., 0., 0., 0., 0., 1.]], dtype=float32), array([[0., 0., 0., 0., 0., 1.]], dtype=float32), array([[0., 0., 0., 0., 0., 1.]], dtype=float32), array([[0., 0., 0., 0., 0., 1.]], dtype=float32), array([[0., 0., 0., 0., 0., 1.]], dtype=float32), array([[0., 0., 0., 0., 0., 1.]], dtype=float32), array([[0., 0., 0., 0., 0., 1.]], dtype=float32), array([[0., 0., 0., 0., 0., 1.]], dtype=float32), array([[0., 0., 0., 0., 0., 1.]], dtype=float32), array([[0., 0., 0., 0., 0., 1.]], dtype=float32), array([[0., 0., 0., 0., 0., 1.]], dtype=float32), array([[0., 0., 0., 0., 0., 1.]], dtype=float32), array([[0., 0., 0., 0., 0., 1.]], dtype=float32), array([[0., 0., 0., 0., 0., 1.]], dtype=float32), array([[0., 0., 0., 0., 0., 1.]], dtype=float32), array([[0., 0., 0., 0., 0., 1.]], dtype=float32)]\n",
      "[array([[0., 0., 0., 0., 0., 1.]], dtype=float32), array([[0., 0., 0., 0., 0., 1.]], dtype=float32), array([[0., 0., 0., 0., 0., 1.]], dtype=float32), array([[0., 0., 0., 0., 0., 1.]], dtype=float32), array([[0., 0., 0., 0., 0., 1.]], dtype=float32), array([[0., 0., 0., 0., 0., 1.]], dtype=float32), array([[0., 0., 0., 0., 0., 1.]], dtype=float32), array([[0., 0., 0., 0., 0., 1.]], dtype=float32), array([[0., 0., 0., 0., 0., 1.]], dtype=float32), array([[0., 0., 0., 0., 0., 1.]], dtype=float32), array([[0., 0., 0., 0., 0., 1.]], dtype=float32), array([[0., 0., 0., 0., 0., 1.]], dtype=float32), array([[0., 0., 0., 0., 0., 1.]], dtype=float32), array([[0., 0., 0., 0., 0., 1.]], dtype=float32), array([[0., 0., 0., 0., 0., 1.]], dtype=float32), array([[0., 0., 0., 0., 0., 1.]], dtype=float32), array([[0., 0., 0., 0., 0., 1.]], dtype=float32), array([[0., 0., 0., 0., 0., 1.]], dtype=float32), array([[0., 0., 0., 0., 0., 1.]], dtype=float32), array([[0., 0., 0., 0., 0., 1.]], dtype=float32), array([[0., 0., 0., 0., 0., 1.]], dtype=float32), array([[0., 0., 0., 0., 0., 1.]], dtype=float32), array([[0., 0., 0., 0., 0., 1.]], dtype=float32), array([[0., 0., 0., 0., 0., 1.]], dtype=float32), array([[0., 0., 0., 0., 0., 1.]], dtype=float32), array([[0., 0., 0., 0., 0., 1.]], dtype=float32), array([[0., 0., 0., 0., 0., 1.]], dtype=float32), array([[0., 0., 0., 0., 0., 1.]], dtype=float32), array([[0., 0., 0., 0., 0., 1.]], dtype=float32)]\n",
      "[array([[0., 0., 0., 0., 0., 1.]], dtype=float32), array([[0., 0., 0., 0., 0., 1.]], dtype=float32), array([[0., 0., 0., 0., 0., 1.]], dtype=float32), array([[0., 0., 0., 0., 0., 1.]], dtype=float32), array([[0., 0., 0., 0., 0., 1.]], dtype=float32), array([[0., 0., 0., 0., 0., 1.]], dtype=float32), array([[0., 0., 0., 0., 0., 1.]], dtype=float32), array([[0., 0., 0., 0., 0., 1.]], dtype=float32), array([[0., 0., 0., 0., 0., 1.]], dtype=float32), array([[0., 0., 0., 0., 0., 1.]], dtype=float32), array([[0., 0., 0., 0., 0., 1.]], dtype=float32), array([[0., 0., 0., 0., 0., 1.]], dtype=float32), array([[0., 0., 0., 0., 0., 1.]], dtype=float32), array([[0., 0., 0., 0., 0., 1.]], dtype=float32), array([[0., 0., 0., 0., 0., 1.]], dtype=float32), array([[0., 0., 0., 0., 0., 1.]], dtype=float32), array([[0., 0., 0., 0., 0., 1.]], dtype=float32), array([[0., 0., 0., 0., 0., 1.]], dtype=float32), array([[0., 0., 0., 0., 0., 1.]], dtype=float32), array([[0., 0., 0., 0., 0., 1.]], dtype=float32), array([[0., 0., 0., 0., 0., 1.]], dtype=float32), array([[0., 0., 0., 0., 0., 1.]], dtype=float32), array([[0., 0., 0., 0., 0., 1.]], dtype=float32), array([[0., 0., 0., 0., 0., 1.]], dtype=float32), array([[0., 0., 0., 0., 0., 1.]], dtype=float32), array([[0., 0., 0., 0., 0., 1.]], dtype=float32), array([[0., 0., 0., 0., 0., 1.]], dtype=float32), array([[0., 0., 0., 0., 0., 1.]], dtype=float32), array([[0., 0., 0., 0., 0., 1.]], dtype=float32)]\n",
      "[array([[0., 0., 0., 0., 0., 1.]], dtype=float32), array([[0., 0., 0., 0., 0., 1.]], dtype=float32), array([[0., 0., 0., 0., 0., 1.]], dtype=float32), array([[0., 0., 0., 0., 0., 1.]], dtype=float32), array([[0., 0., 0., 0., 0., 1.]], dtype=float32), array([[0., 0., 0., 0., 0., 1.]], dtype=float32), array([[0., 0., 0., 0., 0., 1.]], dtype=float32), array([[0., 0., 0., 0., 0., 1.]], dtype=float32), array([[0., 0., 0., 0., 0., 1.]], dtype=float32), array([[0., 0., 0., 0., 0., 1.]], dtype=float32), array([[0., 0., 0., 0., 0., 1.]], dtype=float32), array([[0., 0., 0., 0., 0., 1.]], dtype=float32), array([[0., 0., 0., 0., 0., 1.]], dtype=float32), array([[0., 0., 0., 0., 0., 1.]], dtype=float32), array([[0., 0., 0., 0., 0., 1.]], dtype=float32), array([[0., 0., 0., 0., 0., 1.]], dtype=float32), array([[0., 0., 0., 0., 0., 1.]], dtype=float32), array([[0., 0., 0., 0., 0., 1.]], dtype=float32), array([[0., 0., 0., 0., 0., 1.]], dtype=float32), array([[0., 0., 0., 0., 0., 1.]], dtype=float32), array([[0., 0., 0., 0., 0., 1.]], dtype=float32), array([[0., 0., 0., 0., 0., 1.]], dtype=float32), array([[0., 0., 0., 0., 0., 1.]], dtype=float32), array([[0., 0., 0., 0., 0., 1.]], dtype=float32), array([[0., 0., 0., 0., 0., 1.]], dtype=float32), array([[0., 0., 0., 0., 0., 1.]], dtype=float32), array([[0., 0., 0., 0., 0., 1.]], dtype=float32), array([[0., 0., 0., 0., 0., 1.]], dtype=float32), array([[0., 0., 0., 0., 0., 1.]], dtype=float32)]\n"
     ]
    },
    {
     "name": "stdout",
     "output_type": "stream",
     "text": [
      "[array([[0., 0., 0., 0., 0., 1.]], dtype=float32), array([[0., 0., 0., 0., 0., 1.]], dtype=float32), array([[0., 0., 0., 0., 0., 1.]], dtype=float32), array([[0., 0., 0., 0., 0., 1.]], dtype=float32), array([[0., 0., 0., 0., 0., 1.]], dtype=float32), array([[0., 0., 0., 0., 0., 1.]], dtype=float32), array([[0., 0., 0., 0., 0., 1.]], dtype=float32), array([[0., 0., 0., 0., 0., 1.]], dtype=float32), array([[0., 0., 0., 0., 0., 1.]], dtype=float32), array([[0., 0., 0., 0., 0., 1.]], dtype=float32), array([[0., 0., 0., 0., 0., 1.]], dtype=float32), array([[0., 0., 0., 0., 0., 1.]], dtype=float32), array([[0., 0., 0., 0., 0., 1.]], dtype=float32), array([[0., 0., 0., 0., 0., 1.]], dtype=float32), array([[0., 0., 0., 0., 0., 1.]], dtype=float32), array([[0., 0., 0., 0., 0., 1.]], dtype=float32), array([[0., 0., 0., 0., 0., 1.]], dtype=float32), array([[0., 0., 0., 0., 0., 1.]], dtype=float32), array([[0., 0., 0., 0., 0., 1.]], dtype=float32), array([[0., 0., 0., 0., 0., 1.]], dtype=float32), array([[0., 0., 0., 0., 0., 1.]], dtype=float32), array([[0., 0., 0., 0., 0., 1.]], dtype=float32), array([[0., 0., 0., 0., 0., 1.]], dtype=float32), array([[0., 0., 0., 0., 0., 1.]], dtype=float32), array([[0., 0., 0., 0., 0., 1.]], dtype=float32), array([[0., 0., 0., 0., 0., 1.]], dtype=float32), array([[0., 0., 0., 0., 0., 1.]], dtype=float32), array([[0., 0., 0., 0., 0., 1.]], dtype=float32), array([[0., 0., 0., 0., 0., 1.]], dtype=float32)]\n",
      "[array([[0., 0., 0., 0., 0., 1.]], dtype=float32), array([[0., 0., 0., 0., 0., 1.]], dtype=float32), array([[0., 0., 0., 0., 0., 1.]], dtype=float32), array([[0., 0., 0., 0., 0., 1.]], dtype=float32), array([[0., 0., 0., 0., 0., 1.]], dtype=float32), array([[0., 0., 0., 0., 0., 1.]], dtype=float32), array([[0., 0., 0., 0., 0., 1.]], dtype=float32), array([[0., 0., 0., 0., 0., 1.]], dtype=float32), array([[0., 0., 0., 0., 0., 1.]], dtype=float32), array([[0., 0., 0., 0., 0., 1.]], dtype=float32), array([[0., 0., 0., 0., 0., 1.]], dtype=float32), array([[0., 0., 0., 0., 0., 1.]], dtype=float32), array([[0., 0., 0., 0., 0., 1.]], dtype=float32), array([[0., 0., 0., 0., 0., 1.]], dtype=float32), array([[0., 0., 0., 0., 0., 1.]], dtype=float32), array([[0., 0., 0., 0., 0., 1.]], dtype=float32), array([[0., 0., 0., 0., 0., 1.]], dtype=float32), array([[0., 0., 0., 0., 0., 1.]], dtype=float32), array([[0., 0., 0., 0., 0., 1.]], dtype=float32), array([[0., 0., 0., 0., 0., 1.]], dtype=float32), array([[0., 0., 0., 0., 0., 1.]], dtype=float32), array([[0., 0., 0., 0., 0., 1.]], dtype=float32), array([[0., 0., 0., 0., 0., 1.]], dtype=float32), array([[0., 0., 0., 0., 0., 1.]], dtype=float32), array([[0., 0., 0., 0., 0., 1.]], dtype=float32), array([[0., 0., 0., 0., 0., 1.]], dtype=float32), array([[0., 0., 0., 0., 0., 1.]], dtype=float32), array([[0., 0., 0., 0., 0., 1.]], dtype=float32), array([[0., 0., 0., 0., 0., 1.]], dtype=float32)]\n",
      "[array([[0., 0., 0., 0., 0., 1.]], dtype=float32), array([[0., 0., 0., 0., 0., 1.]], dtype=float32), array([[0., 0., 0., 0., 0., 1.]], dtype=float32), array([[0., 0., 0., 0., 0., 1.]], dtype=float32), array([[0., 0., 0., 0., 0., 1.]], dtype=float32), array([[0., 0., 0., 0., 0., 1.]], dtype=float32), array([[0., 0., 0., 0., 0., 1.]], dtype=float32), array([[0., 0., 0., 0., 0., 1.]], dtype=float32), array([[0., 0., 0., 0., 0., 1.]], dtype=float32), array([[0., 0., 0., 0., 0., 1.]], dtype=float32), array([[0., 0., 0., 0., 0., 1.]], dtype=float32), array([[0., 0., 0., 0., 0., 1.]], dtype=float32), array([[0., 0., 0., 0., 0., 1.]], dtype=float32), array([[0., 0., 0., 0., 0., 1.]], dtype=float32), array([[0., 0., 0., 0., 0., 1.]], dtype=float32), array([[0., 0., 0., 0., 0., 1.]], dtype=float32), array([[0., 0., 0., 0., 0., 1.]], dtype=float32), array([[0., 0., 0., 0., 0., 1.]], dtype=float32), array([[0., 0., 0., 0., 0., 1.]], dtype=float32), array([[0., 0., 0., 0., 0., 1.]], dtype=float32), array([[0., 0., 0., 0., 0., 1.]], dtype=float32), array([[0., 0., 0., 0., 0., 1.]], dtype=float32), array([[0., 0., 0., 0., 0., 1.]], dtype=float32), array([[0., 0., 0., 0., 0., 1.]], dtype=float32), array([[0., 0., 0., 0., 0., 1.]], dtype=float32), array([[0., 0., 0., 0., 0., 1.]], dtype=float32), array([[0., 0., 0., 0., 0., 1.]], dtype=float32), array([[0., 0., 0., 0., 0., 1.]], dtype=float32), array([[0., 0., 0., 0., 0., 1.]], dtype=float32)]\n",
      "[array([[0., 0., 0., 0., 0., 1.]], dtype=float32), array([[0., 0., 0., 0., 0., 1.]], dtype=float32), array([[0., 0., 0., 0., 0., 1.]], dtype=float32), array([[0., 0., 0., 0., 0., 1.]], dtype=float32), array([[0., 0., 0., 0., 0., 1.]], dtype=float32), array([[0., 0., 0., 0., 0., 1.]], dtype=float32), array([[0., 0., 0., 0., 0., 1.]], dtype=float32), array([[0., 0., 0., 0., 0., 1.]], dtype=float32), array([[0., 0., 0., 0., 0., 1.]], dtype=float32), array([[0., 0., 0., 0., 0., 1.]], dtype=float32), array([[0., 0., 0., 0., 0., 1.]], dtype=float32), array([[0., 0., 0., 0., 0., 1.]], dtype=float32), array([[0., 0., 0., 0., 0., 1.]], dtype=float32), array([[0., 0., 0., 0., 0., 1.]], dtype=float32), array([[0., 0., 0., 0., 0., 1.]], dtype=float32), array([[0., 0., 0., 0., 0., 1.]], dtype=float32), array([[0., 0., 0., 0., 0., 1.]], dtype=float32), array([[0., 0., 0., 0., 0., 1.]], dtype=float32), array([[0., 0., 0., 0., 0., 1.]], dtype=float32), array([[0., 0., 0., 0., 0., 1.]], dtype=float32), array([[0., 0., 0., 0., 0., 1.]], dtype=float32), array([[0., 0., 0., 0., 0., 1.]], dtype=float32), array([[0., 0., 0., 0., 0., 1.]], dtype=float32), array([[0., 0., 0., 0., 0., 1.]], dtype=float32), array([[0., 0., 0., 0., 0., 1.]], dtype=float32), array([[0., 0., 0., 0., 0., 1.]], dtype=float32), array([[0., 0., 0., 0., 0., 1.]], dtype=float32), array([[0., 0., 0., 0., 0., 1.]], dtype=float32), array([[0., 0., 0., 0., 0., 1.]], dtype=float32)]\n",
      "[array([[0., 0., 0., 0., 0., 1.]], dtype=float32), array([[0., 0., 0., 0., 0., 1.]], dtype=float32), array([[0., 0., 0., 0., 0., 1.]], dtype=float32), array([[0., 0., 0., 0., 0., 1.]], dtype=float32), array([[0., 0., 0., 0., 0., 1.]], dtype=float32), array([[0., 0., 0., 0., 0., 1.]], dtype=float32), array([[0., 0., 0., 0., 0., 1.]], dtype=float32), array([[0., 0., 0., 0., 0., 1.]], dtype=float32), array([[0., 0., 0., 0., 0., 1.]], dtype=float32), array([[0., 0., 0., 0., 0., 1.]], dtype=float32), array([[0., 0., 0., 0., 0., 1.]], dtype=float32), array([[0., 0., 0., 0., 0., 1.]], dtype=float32), array([[0., 0., 0., 0., 0., 1.]], dtype=float32), array([[0., 0., 0., 0., 0., 1.]], dtype=float32), array([[0., 0., 0., 0., 0., 1.]], dtype=float32), array([[0., 0., 0., 0., 0., 1.]], dtype=float32), array([[0., 0., 0., 0., 0., 1.]], dtype=float32), array([[0., 0., 0., 0., 0., 1.]], dtype=float32), array([[0., 0., 0., 0., 0., 1.]], dtype=float32), array([[0., 0., 0., 0., 0., 1.]], dtype=float32), array([[0., 0., 0., 0., 0., 1.]], dtype=float32), array([[0., 0., 0., 0., 0., 1.]], dtype=float32), array([[0., 0., 0., 0., 0., 1.]], dtype=float32), array([[0., 0., 0., 0., 0., 1.]], dtype=float32), array([[0., 0., 0., 0., 0., 1.]], dtype=float32), array([[0., 0., 0., 0., 0., 1.]], dtype=float32), array([[0., 0., 0., 0., 0., 1.]], dtype=float32), array([[0., 0., 0., 0., 0., 1.]], dtype=float32), array([[0., 0., 0., 0., 0., 1.]], dtype=float32)]\n",
      "[array([[0., 0., 0., 0., 0., 1.]], dtype=float32), array([[0., 0., 0., 0., 0., 1.]], dtype=float32), array([[0., 0., 0., 0., 0., 1.]], dtype=float32), array([[0., 0., 0., 0., 0., 1.]], dtype=float32), array([[0., 0., 0., 0., 0., 1.]], dtype=float32), array([[0., 0., 0., 0., 0., 1.]], dtype=float32), array([[0., 0., 0., 0., 0., 1.]], dtype=float32), array([[0., 0., 0., 0., 0., 1.]], dtype=float32), array([[0., 0., 0., 0., 0., 1.]], dtype=float32), array([[0., 0., 0., 0., 0., 1.]], dtype=float32), array([[0., 0., 0., 0., 0., 1.]], dtype=float32), array([[0., 0., 0., 0., 0., 1.]], dtype=float32), array([[0., 0., 0., 0., 0., 1.]], dtype=float32), array([[0., 0., 0., 0., 0., 1.]], dtype=float32), array([[0., 0., 0., 0., 0., 1.]], dtype=float32), array([[0., 0., 0., 0., 0., 1.]], dtype=float32), array([[0., 0., 0., 0., 0., 1.]], dtype=float32), array([[0., 0., 0., 0., 0., 1.]], dtype=float32), array([[0., 0., 0., 0., 0., 1.]], dtype=float32), array([[0., 0., 0., 0., 0., 1.]], dtype=float32), array([[0., 0., 0., 0., 0., 1.]], dtype=float32), array([[0., 0., 0., 0., 0., 1.]], dtype=float32), array([[0., 0., 0., 0., 0., 1.]], dtype=float32), array([[0., 0., 0., 0., 0., 1.]], dtype=float32), array([[0., 0., 0., 0., 0., 1.]], dtype=float32), array([[0., 0., 0., 0., 0., 1.]], dtype=float32), array([[0., 0., 0., 0., 0., 1.]], dtype=float32), array([[0., 0., 0., 0., 0., 1.]], dtype=float32), array([[0., 0., 0., 0., 0., 1.]], dtype=float32)]\n",
      "[array([[0., 0., 0., 0., 0., 1.]], dtype=float32), array([[0., 0., 0., 0., 0., 1.]], dtype=float32), array([[0., 0., 0., 0., 0., 1.]], dtype=float32), array([[0., 0., 0., 0., 0., 1.]], dtype=float32), array([[0., 0., 0., 0., 0., 1.]], dtype=float32), array([[0., 0., 0., 0., 0., 1.]], dtype=float32), array([[0., 0., 0., 0., 0., 1.]], dtype=float32), array([[0., 0., 0., 0., 0., 1.]], dtype=float32), array([[0., 0., 0., 0., 0., 1.]], dtype=float32), array([[0., 0., 0., 0., 0., 1.]], dtype=float32), array([[0., 0., 0., 0., 0., 1.]], dtype=float32), array([[0., 0., 0., 0., 0., 1.]], dtype=float32), array([[0., 0., 0., 0., 0., 1.]], dtype=float32), array([[0., 0., 0., 0., 0., 1.]], dtype=float32), array([[0., 0., 0., 0., 0., 1.]], dtype=float32), array([[0., 0., 0., 0., 0., 1.]], dtype=float32), array([[0., 0., 0., 0., 0., 1.]], dtype=float32), array([[0., 0., 0., 0., 0., 1.]], dtype=float32), array([[0., 0., 0., 0., 0., 1.]], dtype=float32), array([[0., 0., 0., 0., 0., 1.]], dtype=float32), array([[0., 0., 0., 0., 0., 1.]], dtype=float32), array([[0., 0., 0., 0., 0., 1.]], dtype=float32), array([[0., 0., 0., 0., 0., 1.]], dtype=float32), array([[0., 0., 0., 0., 0., 1.]], dtype=float32), array([[0., 0., 0., 0., 0., 1.]], dtype=float32), array([[0., 0., 0., 0., 0., 1.]], dtype=float32), array([[0., 0., 0., 0., 0., 1.]], dtype=float32), array([[0., 0., 0., 0., 0., 1.]], dtype=float32), array([[0., 0., 0., 0., 0., 1.]], dtype=float32)]\n",
      "[array([[0., 0., 0., 0., 0., 1.]], dtype=float32), array([[0., 0., 0., 0., 0., 1.]], dtype=float32), array([[0., 0., 0., 0., 0., 1.]], dtype=float32), array([[0., 0., 0., 0., 0., 1.]], dtype=float32), array([[0., 0., 0., 0., 0., 1.]], dtype=float32), array([[0., 0., 0., 0., 0., 1.]], dtype=float32), array([[0., 0., 0., 0., 0., 1.]], dtype=float32), array([[0., 0., 0., 0., 0., 1.]], dtype=float32), array([[0., 0., 0., 0., 0., 1.]], dtype=float32), array([[0., 0., 0., 0., 0., 1.]], dtype=float32), array([[0., 0., 0., 0., 0., 1.]], dtype=float32), array([[0., 0., 0., 0., 0., 1.]], dtype=float32), array([[0., 0., 0., 0., 0., 1.]], dtype=float32), array([[0., 0., 0., 0., 0., 1.]], dtype=float32), array([[0., 0., 0., 0., 0., 1.]], dtype=float32), array([[0., 0., 0., 0., 0., 1.]], dtype=float32), array([[0., 0., 0., 0., 0., 1.]], dtype=float32), array([[0., 0., 0., 0., 0., 1.]], dtype=float32), array([[0., 0., 0., 0., 0., 1.]], dtype=float32), array([[0., 0., 0., 0., 0., 1.]], dtype=float32), array([[0., 0., 0., 0., 0., 1.]], dtype=float32), array([[0., 0., 0., 0., 0., 1.]], dtype=float32), array([[0., 0., 0., 0., 0., 1.]], dtype=float32), array([[0., 0., 0., 0., 0., 1.]], dtype=float32), array([[0., 0., 0., 0., 0., 1.]], dtype=float32), array([[0., 0., 0., 0., 0., 1.]], dtype=float32), array([[0., 0., 0., 0., 0., 1.]], dtype=float32), array([[0., 0., 0., 0., 0., 1.]], dtype=float32), array([[0., 0., 0., 0., 0., 1.]], dtype=float32)]\n",
      "[array([[0., 0., 0., 0., 0., 1.]], dtype=float32), array([[0., 0., 0., 0., 0., 1.]], dtype=float32), array([[0., 0., 0., 0., 0., 1.]], dtype=float32), array([[0., 0., 0., 0., 0., 1.]], dtype=float32), array([[0., 0., 0., 0., 0., 1.]], dtype=float32), array([[0., 0., 0., 0., 0., 1.]], dtype=float32), array([[0., 0., 0., 0., 0., 1.]], dtype=float32), array([[0., 0., 0., 0., 0., 1.]], dtype=float32), array([[0., 0., 0., 0., 0., 1.]], dtype=float32), array([[0., 0., 0., 0., 0., 1.]], dtype=float32), array([[0., 0., 0., 0., 0., 1.]], dtype=float32), array([[0., 0., 0., 0., 0., 1.]], dtype=float32), array([[0., 0., 0., 0., 0., 1.]], dtype=float32), array([[0., 0., 0., 0., 0., 1.]], dtype=float32), array([[0., 0., 0., 0., 0., 1.]], dtype=float32), array([[0., 0., 0., 0., 0., 1.]], dtype=float32), array([[0., 0., 0., 0., 0., 1.]], dtype=float32), array([[0., 0., 0., 0., 0., 1.]], dtype=float32), array([[0., 0., 0., 0., 0., 1.]], dtype=float32), array([[0., 0., 0., 0., 0., 1.]], dtype=float32), array([[0., 0., 0., 0., 0., 1.]], dtype=float32), array([[0., 0., 0., 0., 0., 1.]], dtype=float32), array([[0., 0., 0., 0., 0., 1.]], dtype=float32), array([[0., 0., 0., 0., 0., 1.]], dtype=float32), array([[0., 0., 0., 0., 0., 1.]], dtype=float32), array([[0., 0., 0., 0., 0., 1.]], dtype=float32), array([[0., 0., 0., 0., 0., 1.]], dtype=float32), array([[0., 0., 0., 0., 0., 1.]], dtype=float32), array([[0., 0., 0., 0., 0., 1.]], dtype=float32)]\n",
      "Okay Count:  29\n",
      "Not Okay Count: 0\n",
      "okay\n"
     ]
    },
    {
     "name": "stdout",
     "output_type": "stream",
     "text": [
      "[0, 0, 0, 0, 0, 1]\n",
      "Anvil websocket closed (code 1006, reason=Going away)\n"
     ]
    },
    {
     "name": "stderr",
     "output_type": "stream",
     "text": [
      "Exception in thread Thread-7:\n",
      "Traceback (most recent call last):\n",
      "  File \"C:\\Users\\Sakshi\\Anaconda3\\envs\\SakshiEnv\\lib\\site-packages\\anvil\\server.py\", line 286, in call\n",
      "    return _do_call(args, kwargs, fn_name=fn_name)\n",
      "  File \"C:\\Users\\Sakshi\\Anaconda3\\envs\\SakshiEnv\\lib\\site-packages\\anvil\\server.py\", line 278, in _do_call\n",
      "    return _threaded_server.do_call(args, kwargs, fn_name=fn_name, live_object=live_object)\n",
      "  File \"C:\\Users\\Sakshi\\Anaconda3\\envs\\SakshiEnv\\lib\\site-packages\\anvil\\_threaded_server.py\", line 393, in do_call\n",
      "    raise _server._deserialise_exception(r[\"error\"])\n",
      "anvil._server.AnvilWrappedError: 'Connection to Anvil Uplink server lost'\n",
      "\n",
      "During handling of the above exception, another exception occurred:\n",
      "\n",
      "Traceback (most recent call last):\n",
      "  File \"C:\\Users\\Sakshi\\Anaconda3\\envs\\SakshiEnv\\lib\\threading.py\", line 926, in _bootstrap_inner\n",
      "    self.run()\n",
      "  File \"C:\\Users\\Sakshi\\Anaconda3\\envs\\SakshiEnv\\lib\\threading.py\", line 870, in run\n",
      "    self._target(*self._args, **self._kwargs)\n",
      "  File \"C:\\Users\\Sakshi\\Anaconda3\\envs\\SakshiEnv\\lib\\site-packages\\anvil\\server.py\", line 141, in heartbeat_until_reopened\n",
      "    call(\"anvil.private.echo\", \"keep-alive\")\n",
      "  File \"C:\\Users\\Sakshi\\Anaconda3\\envs\\SakshiEnv\\lib\\site-packages\\anvil\\server.py\", line 289, in call\n",
      "    raise _server._deserialise_exception(e.error_obj)\n",
      "anvil._server.AnvilWrappedError: 'Connection to Anvil Uplink server lost'\n",
      "\n"
     ]
    },
    {
     "name": "stdout",
     "output_type": "stream",
     "text": [
      "Reconnecting Anvil Uplink...\n",
      "Connecting to wss://anvil.works/uplink\n",
      "Anvil websocket open\n",
      "Authenticated OK\n"
     ]
    }
   ],
   "source": [
    "@anvil.server.callable\n",
    "def get_barplot(result):\n",
    "    plt.rcParams.update({'font.size': 20})\n",
    "    print(result)\n",
    "    plt.figure(figsize=(10,8))\n",
    "    df = {'Category':['Nude', 'Porn', 'Gore', 'Vulgar','Non Vulgar','Safe'], 'Result':result} \n",
    "    df = pd.DataFrame(df)\n",
    "    sns.barplot(x =df['Category'],y =[x+0.02 for x in df['Result']], palette = sns.color_palette(\"RdBu\", n_colors=6)) \n",
    "    plt.xticks(rotation=20, ha=\"right\")  \n",
    "    plt.xlabel(' ')\n",
    "    return anvil.mpl_util.plot_image()\n",
    "\n",
    "@anvil.server.callable\n",
    "def get_pieplot(result):\n",
    "    plt.rcParams.update({'font.size': 15})\n",
    "    df = {'Category':['Nude', 'Porn', 'Gore', 'Vulgar','Non Vulgar','Safe'], 'Result':result} \n",
    "    df = pd.DataFrame(df)\n",
    "    plt.figure(figsize=(6,6))\n",
    "    labels = ['Nude','Porn','Gore', 'Vulgar','Non Vulgar','Safe']\n",
    "    y_1 = [x+0.1 for x in df['Result']]\n",
    "    flatui = [ \"#1f1f7a\", \"#ffff66\", \"#4da6ff\",\"#ac00e6\",\"#d6d6c2\", '#ff5c33']\n",
    "    sns.set_palette(flatui)\n",
    "    plt.pie(y_1,labels=labels,startangle=90, colors = sns.color_palette(),explode=[0.05,0.05,0.05,0.05,0.05,0.05])\n",
    "    centre_circle = plt.Circle((0,0),0.70,fc='white')\n",
    "    fig = plt.gcf()\n",
    "    fig.gca().add_artist(centre_circle)\n",
    "    return anvil.mpl_util.plot_image(legend=None)\n",
    "\n",
    "@anvil.server.callable\n",
    "def get_lineplot(result):\n",
    "    plt.rcParams.update({'font.size': 20})\n",
    "    df = {'Category':['Nude', 'Porn', 'Gore', 'Vulgar','Non Vulgar','Safe'], 'Result':result} \n",
    "    df = pd.DataFrame(df)\n",
    "    plt.figure(figsize=(10,7))\n",
    "    y =[x+0.02 for x in df['Result']]\n",
    "    plt.plot(df['Category'],y, color='darkblue', marker='o', linestyle ='--')\n",
    "    plt.xticks(rotation=20, ha=\"right\") \n",
    "    plt.grid(True)\n",
    "    plt.ylim(-0.5,1.5)\n",
    "    return anvil.mpl_util.plot_image() \n",
    "    \n",
    "    \n",
    "    "
   ]
  },
  {
   "cell_type": "code",
   "execution_count": null,
   "metadata": {},
   "outputs": [],
   "source": []
  },
  {
   "cell_type": "code",
   "execution_count": null,
   "metadata": {},
   "outputs": [],
   "source": []
  }
 ],
 "metadata": {
  "kernelspec": {
   "display_name": "Python 3",
   "language": "python",
   "name": "python3"
  },
  "language_info": {
   "codemirror_mode": {
    "name": "ipython",
    "version": 3
   },
   "file_extension": ".py",
   "mimetype": "text/x-python",
   "name": "python",
   "nbconvert_exporter": "python",
   "pygments_lexer": "ipython3",
   "version": "3.7.6"
  }
 },
 "nbformat": 4,
 "nbformat_minor": 4
}
